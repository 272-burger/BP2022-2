{
 "cells": [
  {
   "cell_type": "code",
   "execution_count": 1,
   "id": "eb87aaa7",
   "metadata": {},
   "outputs": [
    {
     "data": {
      "text/plain": [
       "3"
      ]
     },
     "execution_count": 1,
     "metadata": {},
     "output_type": "execute_result"
    }
   ],
   "source": [
    "1 + 2"
   ]
  },
  {
   "cell_type": "code",
   "execution_count": 2,
   "id": "cebba669",
   "metadata": {
    "collapsed": true
   },
   "outputs": [
    {
     "name": "stdout",
     "output_type": "stream",
     "text": [
      "Defaulting to user installation because normal site-packages is not writeable\n",
      "Requirement already satisfied: jupyterthemes in /Users/yeonsoo/Library/Python/3.8/lib/python/site-packages (0.20.0)\n",
      "Requirement already satisfied: lesscpy>=0.11.2 in /Users/yeonsoo/Library/Python/3.8/lib/python/site-packages (from jupyterthemes) (0.15.1)\n",
      "Requirement already satisfied: ipython>=5.4.1 in /Users/yeonsoo/Library/Python/3.8/lib/python/site-packages (from jupyterthemes) (8.6.0)\n",
      "Requirement already satisfied: jupyter-core in /Users/yeonsoo/Library/Python/3.8/lib/python/site-packages (from jupyterthemes) (4.11.2)\n",
      "Requirement already satisfied: matplotlib>=1.4.3 in /Users/yeonsoo/Library/Python/3.8/lib/python/site-packages (from jupyterthemes) (3.6.1)\n",
      "Requirement already satisfied: notebook>=5.6.0 in /Users/yeonsoo/Library/Python/3.8/lib/python/site-packages (from jupyterthemes) (6.5.2)\n",
      "Requirement already satisfied: pygments>=2.4.0 in /Users/yeonsoo/Library/Python/3.8/lib/python/site-packages (from ipython>=5.4.1->jupyterthemes) (2.13.0)\n",
      "Requirement already satisfied: stack-data in /Users/yeonsoo/Library/Python/3.8/lib/python/site-packages (from ipython>=5.4.1->jupyterthemes) (0.6.0)\n",
      "Requirement already satisfied: appnope in /Users/yeonsoo/Library/Python/3.8/lib/python/site-packages (from ipython>=5.4.1->jupyterthemes) (0.1.3)\n",
      "Requirement already satisfied: pexpect>4.3 in /Users/yeonsoo/Library/Python/3.8/lib/python/site-packages (from ipython>=5.4.1->jupyterthemes) (4.8.0)\n",
      "Requirement already satisfied: traitlets>=5 in /Users/yeonsoo/Library/Python/3.8/lib/python/site-packages (from ipython>=5.4.1->jupyterthemes) (5.5.0)\n",
      "Requirement already satisfied: jedi>=0.16 in /Users/yeonsoo/Library/Python/3.8/lib/python/site-packages (from ipython>=5.4.1->jupyterthemes) (0.18.1)\n",
      "Requirement already satisfied: pickleshare in /Users/yeonsoo/Library/Python/3.8/lib/python/site-packages (from ipython>=5.4.1->jupyterthemes) (0.7.5)\n",
      "Requirement already satisfied: prompt-toolkit<3.1.0,>3.0.1 in /Users/yeonsoo/Library/Python/3.8/lib/python/site-packages (from ipython>=5.4.1->jupyterthemes) (3.0.31)\n",
      "Requirement already satisfied: backcall in /Users/yeonsoo/Library/Python/3.8/lib/python/site-packages (from ipython>=5.4.1->jupyterthemes) (0.2.0)\n",
      "Requirement already satisfied: decorator in /Users/yeonsoo/Library/Python/3.8/lib/python/site-packages (from ipython>=5.4.1->jupyterthemes) (5.1.1)\n",
      "Requirement already satisfied: matplotlib-inline in /Users/yeonsoo/Library/Python/3.8/lib/python/site-packages (from ipython>=5.4.1->jupyterthemes) (0.1.6)\n",
      "Requirement already satisfied: ply in /Users/yeonsoo/Library/Python/3.8/lib/python/site-packages (from lesscpy>=0.11.2->jupyterthemes) (3.11)\n",
      "Requirement already satisfied: numpy>=1.19 in /Users/yeonsoo/Library/Python/3.8/lib/python/site-packages (from matplotlib>=1.4.3->jupyterthemes) (1.23.4)\n",
      "Requirement already satisfied: packaging>=20.0 in /Users/yeonsoo/Library/Python/3.8/lib/python/site-packages (from matplotlib>=1.4.3->jupyterthemes) (21.3)\n",
      "Requirement already satisfied: fonttools>=4.22.0 in /Users/yeonsoo/Library/Python/3.8/lib/python/site-packages (from matplotlib>=1.4.3->jupyterthemes) (4.38.0)\n",
      "Requirement already satisfied: pillow>=6.2.0 in /Users/yeonsoo/Library/Python/3.8/lib/python/site-packages (from matplotlib>=1.4.3->jupyterthemes) (9.3.0)\n",
      "Requirement already satisfied: python-dateutil>=2.7 in /Users/yeonsoo/Library/Python/3.8/lib/python/site-packages (from matplotlib>=1.4.3->jupyterthemes) (2.8.2)\n",
      "Requirement already satisfied: pyparsing>=2.2.1 in /Users/yeonsoo/Library/Python/3.8/lib/python/site-packages (from matplotlib>=1.4.3->jupyterthemes) (3.0.9)\n",
      "Requirement already satisfied: cycler>=0.10 in /Users/yeonsoo/Library/Python/3.8/lib/python/site-packages (from matplotlib>=1.4.3->jupyterthemes) (0.11.0)\n",
      "Requirement already satisfied: kiwisolver>=1.0.1 in /Users/yeonsoo/Library/Python/3.8/lib/python/site-packages (from matplotlib>=1.4.3->jupyterthemes) (1.4.4)\n",
      "Requirement already satisfied: contourpy>=1.0.1 in /Users/yeonsoo/Library/Python/3.8/lib/python/site-packages (from matplotlib>=1.4.3->jupyterthemes) (1.0.6)\n",
      "Requirement already satisfied: nbformat in /Users/yeonsoo/Library/Python/3.8/lib/python/site-packages (from notebook>=5.6.0->jupyterthemes) (5.7.0)\n",
      "Requirement already satisfied: pyzmq>=17 in /Users/yeonsoo/Library/Python/3.8/lib/python/site-packages (from notebook>=5.6.0->jupyterthemes) (24.0.1)\n",
      "Requirement already satisfied: jinja2 in /Users/yeonsoo/Library/Python/3.8/lib/python/site-packages (from notebook>=5.6.0->jupyterthemes) (3.1.2)\n",
      "Requirement already satisfied: terminado>=0.8.3 in /Users/yeonsoo/Library/Python/3.8/lib/python/site-packages (from notebook>=5.6.0->jupyterthemes) (0.17.0)\n",
      "Requirement already satisfied: prometheus-client in /Users/yeonsoo/Library/Python/3.8/lib/python/site-packages (from notebook>=5.6.0->jupyterthemes) (0.15.0)\n",
      "Requirement already satisfied: ipykernel in /Users/yeonsoo/Library/Python/3.8/lib/python/site-packages (from notebook>=5.6.0->jupyterthemes) (6.17.0)\n",
      "Requirement already satisfied: argon2-cffi in /Users/yeonsoo/Library/Python/3.8/lib/python/site-packages (from notebook>=5.6.0->jupyterthemes) (21.3.0)\n",
      "Requirement already satisfied: tornado>=6.1 in /Users/yeonsoo/Library/Python/3.8/lib/python/site-packages (from notebook>=5.6.0->jupyterthemes) (6.2)\n",
      "Requirement already satisfied: jupyter-client>=5.3.4 in /Users/yeonsoo/Library/Python/3.8/lib/python/site-packages (from notebook>=5.6.0->jupyterthemes) (7.4.4)\n",
      "Requirement already satisfied: nest-asyncio>=1.5 in /Users/yeonsoo/Library/Python/3.8/lib/python/site-packages (from notebook>=5.6.0->jupyterthemes) (1.5.6)\n",
      "Requirement already satisfied: nbconvert>=5 in /Users/yeonsoo/Library/Python/3.8/lib/python/site-packages (from notebook>=5.6.0->jupyterthemes) (7.2.3)\n",
      "Requirement already satisfied: Send2Trash>=1.8.0 in /Users/yeonsoo/Library/Python/3.8/lib/python/site-packages (from notebook>=5.6.0->jupyterthemes) (1.8.0)\n",
      "Requirement already satisfied: nbclassic>=0.4.7 in /Users/yeonsoo/Library/Python/3.8/lib/python/site-packages (from notebook>=5.6.0->jupyterthemes) (0.4.7)\n",
      "Requirement already satisfied: ipython-genutils in /Users/yeonsoo/Library/Python/3.8/lib/python/site-packages (from notebook>=5.6.0->jupyterthemes) (0.2.0)\n",
      "Requirement already satisfied: parso<0.9.0,>=0.8.0 in /Users/yeonsoo/Library/Python/3.8/lib/python/site-packages (from jedi>=0.16->ipython>=5.4.1->jupyterthemes) (0.8.3)\n",
      "Requirement already satisfied: entrypoints in /Users/yeonsoo/Library/Python/3.8/lib/python/site-packages (from jupyter-client>=5.3.4->notebook>=5.6.0->jupyterthemes) (0.4)\n",
      "Requirement already satisfied: jupyter-server>=1.8 in /Users/yeonsoo/Library/Python/3.8/lib/python/site-packages (from nbclassic>=0.4.7->notebook>=5.6.0->jupyterthemes) (1.21.0)\n",
      "Requirement already satisfied: notebook-shim>=0.1.0 in /Users/yeonsoo/Library/Python/3.8/lib/python/site-packages (from nbclassic>=0.4.7->notebook>=5.6.0->jupyterthemes) (0.2.0)\n",
      "Requirement already satisfied: beautifulsoup4 in /Users/yeonsoo/Library/Python/3.8/lib/python/site-packages (from nbconvert>=5->notebook>=5.6.0->jupyterthemes) (4.11.1)\n",
      "Requirement already satisfied: pandocfilters>=1.4.1 in /Users/yeonsoo/Library/Python/3.8/lib/python/site-packages (from nbconvert>=5->notebook>=5.6.0->jupyterthemes) (1.5.0)\n",
      "Requirement already satisfied: bleach in /Users/yeonsoo/Library/Python/3.8/lib/python/site-packages (from nbconvert>=5->notebook>=5.6.0->jupyterthemes) (5.0.1)\n",
      "Requirement already satisfied: jupyterlab-pygments in /Users/yeonsoo/Library/Python/3.8/lib/python/site-packages (from nbconvert>=5->notebook>=5.6.0->jupyterthemes) (0.2.2)\n",
      "Requirement already satisfied: nbclient>=0.5.0 in /Users/yeonsoo/Library/Python/3.8/lib/python/site-packages (from nbconvert>=5->notebook>=5.6.0->jupyterthemes) (0.7.0)\n",
      "Requirement already satisfied: mistune<3,>=2.0.3 in /Users/yeonsoo/Library/Python/3.8/lib/python/site-packages (from nbconvert>=5->notebook>=5.6.0->jupyterthemes) (2.0.4)\n",
      "Requirement already satisfied: defusedxml in /Users/yeonsoo/Library/Python/3.8/lib/python/site-packages (from nbconvert>=5->notebook>=5.6.0->jupyterthemes) (0.7.1)\n",
      "Requirement already satisfied: tinycss2 in /Users/yeonsoo/Library/Python/3.8/lib/python/site-packages (from nbconvert>=5->notebook>=5.6.0->jupyterthemes) (1.2.1)\n",
      "Requirement already satisfied: markupsafe>=2.0 in /Users/yeonsoo/Library/Python/3.8/lib/python/site-packages (from nbconvert>=5->notebook>=5.6.0->jupyterthemes) (2.1.1)\n",
      "Requirement already satisfied: importlib-metadata>=3.6 in /Users/yeonsoo/Library/Python/3.8/lib/python/site-packages (from nbconvert>=5->notebook>=5.6.0->jupyterthemes) (5.0.0)\n",
      "Requirement already satisfied: jsonschema>=2.6 in /Users/yeonsoo/Library/Python/3.8/lib/python/site-packages (from nbformat->notebook>=5.6.0->jupyterthemes) (4.16.0)\n",
      "Requirement already satisfied: fastjsonschema in /Users/yeonsoo/Library/Python/3.8/lib/python/site-packages (from nbformat->notebook>=5.6.0->jupyterthemes) (2.16.2)\n",
      "Requirement already satisfied: ptyprocess>=0.5 in /Users/yeonsoo/Library/Python/3.8/lib/python/site-packages (from pexpect>4.3->ipython>=5.4.1->jupyterthemes) (0.7.0)\n",
      "Requirement already satisfied: wcwidth in /Users/yeonsoo/Library/Python/3.8/lib/python/site-packages (from prompt-toolkit<3.1.0,>3.0.1->ipython>=5.4.1->jupyterthemes) (0.2.5)\n",
      "Requirement already satisfied: six>=1.5 in /Library/Developer/CommandLineTools/Library/Frameworks/Python3.framework/Versions/3.8/lib/python3.8/site-packages (from python-dateutil>=2.7->matplotlib>=1.4.3->jupyterthemes) (1.15.0)\n"
     ]
    },
    {
     "name": "stdout",
     "output_type": "stream",
     "text": [
      "Requirement already satisfied: argon2-cffi-bindings in /Users/yeonsoo/Library/Python/3.8/lib/python/site-packages (from argon2-cffi->notebook>=5.6.0->jupyterthemes) (21.2.0)\n",
      "Requirement already satisfied: psutil in /Users/yeonsoo/Library/Python/3.8/lib/python/site-packages (from ipykernel->notebook>=5.6.0->jupyterthemes) (5.9.3)\n",
      "Requirement already satisfied: debugpy>=1.0 in /Users/yeonsoo/Library/Python/3.8/lib/python/site-packages (from ipykernel->notebook>=5.6.0->jupyterthemes) (1.6.3)\n",
      "Requirement already satisfied: asttokens>=2.1.0 in /Users/yeonsoo/Library/Python/3.8/lib/python/site-packages (from stack-data->ipython>=5.4.1->jupyterthemes) (2.1.0)\n",
      "Requirement already satisfied: executing>=1.2.0 in /Users/yeonsoo/Library/Python/3.8/lib/python/site-packages (from stack-data->ipython>=5.4.1->jupyterthemes) (1.2.0)\n",
      "Requirement already satisfied: pure-eval in /Users/yeonsoo/Library/Python/3.8/lib/python/site-packages (from stack-data->ipython>=5.4.1->jupyterthemes) (0.2.2)\n",
      "Requirement already satisfied: zipp>=0.5 in /Users/yeonsoo/Library/Python/3.8/lib/python/site-packages (from importlib-metadata>=3.6->nbconvert>=5->notebook>=5.6.0->jupyterthemes) (3.10.0)\n",
      "Requirement already satisfied: pyrsistent!=0.17.0,!=0.17.1,!=0.17.2,>=0.14.0 in /Users/yeonsoo/Library/Python/3.8/lib/python/site-packages (from jsonschema>=2.6->nbformat->notebook>=5.6.0->jupyterthemes) (0.19.1)\n",
      "Requirement already satisfied: attrs>=17.4.0 in /Users/yeonsoo/Library/Python/3.8/lib/python/site-packages (from jsonschema>=2.6->nbformat->notebook>=5.6.0->jupyterthemes) (22.1.0)\n",
      "Requirement already satisfied: importlib-resources>=1.4.0 in /Users/yeonsoo/Library/Python/3.8/lib/python/site-packages (from jsonschema>=2.6->nbformat->notebook>=5.6.0->jupyterthemes) (5.10.0)\n",
      "Requirement already satisfied: pkgutil-resolve-name>=1.3.10 in /Users/yeonsoo/Library/Python/3.8/lib/python/site-packages (from jsonschema>=2.6->nbformat->notebook>=5.6.0->jupyterthemes) (1.3.10)\n",
      "Requirement already satisfied: anyio<4,>=3.1.0 in /Users/yeonsoo/Library/Python/3.8/lib/python/site-packages (from jupyter-server>=1.8->nbclassic>=0.4.7->notebook>=5.6.0->jupyterthemes) (3.6.2)\n",
      "Requirement already satisfied: websocket-client in /Users/yeonsoo/Library/Python/3.8/lib/python/site-packages (from jupyter-server>=1.8->nbclassic>=0.4.7->notebook>=5.6.0->jupyterthemes) (1.4.1)\n",
      "Requirement already satisfied: cffi>=1.0.1 in /Users/yeonsoo/Library/Python/3.8/lib/python/site-packages (from argon2-cffi-bindings->argon2-cffi->notebook>=5.6.0->jupyterthemes) (1.15.1)\n",
      "Requirement already satisfied: soupsieve>1.2 in /Users/yeonsoo/Library/Python/3.8/lib/python/site-packages (from beautifulsoup4->nbconvert>=5->notebook>=5.6.0->jupyterthemes) (2.3.2.post1)\n",
      "Requirement already satisfied: webencodings in /Users/yeonsoo/Library/Python/3.8/lib/python/site-packages (from bleach->nbconvert>=5->notebook>=5.6.0->jupyterthemes) (0.5.1)\n",
      "Requirement already satisfied: sniffio>=1.1 in /Users/yeonsoo/Library/Python/3.8/lib/python/site-packages (from anyio<4,>=3.1.0->jupyter-server>=1.8->nbclassic>=0.4.7->notebook>=5.6.0->jupyterthemes) (1.3.0)\n",
      "Requirement already satisfied: idna>=2.8 in /Users/yeonsoo/Library/Python/3.8/lib/python/site-packages (from anyio<4,>=3.1.0->jupyter-server>=1.8->nbclassic>=0.4.7->notebook>=5.6.0->jupyterthemes) (3.4)\n",
      "Requirement already satisfied: pycparser in /Users/yeonsoo/Library/Python/3.8/lib/python/site-packages (from cffi>=1.0.1->argon2-cffi-bindings->argon2-cffi->notebook>=5.6.0->jupyterthemes) (2.21)\n"
     ]
    }
   ],
   "source": [
    "!pip3 install jupyterthemes"
   ]
  },
  {
   "cell_type": "code",
   "execution_count": 2,
   "id": "f12d5c61",
   "metadata": {
    "collapsed": true
   },
   "outputs": [
    {
     "name": "stdout",
     "output_type": "stream",
     "text": [
      "Defaulting to user installation because normal site-packages is not writeable\n",
      "Requirement already satisfied: jupyter_contrib_nbextensions in /Users/yeonsoo/Library/Python/3.8/lib/python/site-packages (0.5.1)\n",
      "Requirement already satisfied: ipython-genutils in /Users/yeonsoo/Library/Python/3.8/lib/python/site-packages (from jupyter_contrib_nbextensions) (0.2.0)\n",
      "Requirement already satisfied: jupyter-highlight-selected-word>=0.1.1 in /Users/yeonsoo/Library/Python/3.8/lib/python/site-packages (from jupyter_contrib_nbextensions) (0.2.0)\n",
      "Requirement already satisfied: notebook>=4.0 in /Users/yeonsoo/Library/Python/3.8/lib/python/site-packages (from jupyter_contrib_nbextensions) (6.5.2)\n",
      "Requirement already satisfied: jupyter-core in /Users/yeonsoo/Library/Python/3.8/lib/python/site-packages (from jupyter_contrib_nbextensions) (4.11.2)\n",
      "Requirement already satisfied: jupyter-contrib-core>=0.3.3 in /Users/yeonsoo/Library/Python/3.8/lib/python/site-packages (from jupyter_contrib_nbextensions) (0.4.0)\n",
      "Requirement already satisfied: tornado in /Users/yeonsoo/Library/Python/3.8/lib/python/site-packages (from jupyter_contrib_nbextensions) (6.2)\n",
      "Requirement already satisfied: jupyter-latex-envs>=1.3.8 in /Users/yeonsoo/Library/Python/3.8/lib/python/site-packages (from jupyter_contrib_nbextensions) (1.4.6)\n",
      "Requirement already satisfied: traitlets>=4.1 in /Users/yeonsoo/Library/Python/3.8/lib/python/site-packages (from jupyter_contrib_nbextensions) (5.5.0)\n",
      "Requirement already satisfied: pyyaml in /Users/yeonsoo/Library/Python/3.8/lib/python/site-packages (from jupyter_contrib_nbextensions) (6.0)\n",
      "Requirement already satisfied: jupyter-nbextensions-configurator>=0.4.0 in /Users/yeonsoo/Library/Python/3.8/lib/python/site-packages (from jupyter_contrib_nbextensions) (0.5.0)\n",
      "Requirement already satisfied: lxml in /Users/yeonsoo/Library/Python/3.8/lib/python/site-packages (from jupyter_contrib_nbextensions) (4.9.1)\n",
      "Requirement already satisfied: nbconvert>=4.2 in /Users/yeonsoo/Library/Python/3.8/lib/python/site-packages (from jupyter_contrib_nbextensions) (7.2.3)\n",
      "Requirement already satisfied: setuptools in /Library/Developer/CommandLineTools/Library/Frameworks/Python3.framework/Versions/3.8/lib/python3.8/site-packages (from jupyter-contrib-core>=0.3.3->jupyter_contrib_nbextensions) (49.2.1)\n",
      "Requirement already satisfied: ipython in /Users/yeonsoo/Library/Python/3.8/lib/python/site-packages (from jupyter-latex-envs>=1.3.8->jupyter_contrib_nbextensions) (8.6.0)\n",
      "Requirement already satisfied: markupsafe>=2.0 in /Users/yeonsoo/Library/Python/3.8/lib/python/site-packages (from nbconvert>=4.2->jupyter_contrib_nbextensions) (2.1.1)\n",
      "Requirement already satisfied: nbclient>=0.5.0 in /Users/yeonsoo/Library/Python/3.8/lib/python/site-packages (from nbconvert>=4.2->jupyter_contrib_nbextensions) (0.7.0)\n",
      "Requirement already satisfied: jinja2>=3.0 in /Users/yeonsoo/Library/Python/3.8/lib/python/site-packages (from nbconvert>=4.2->jupyter_contrib_nbextensions) (3.1.2)\n",
      "Requirement already satisfied: packaging in /Users/yeonsoo/Library/Python/3.8/lib/python/site-packages (from nbconvert>=4.2->jupyter_contrib_nbextensions) (21.3)\n",
      "Requirement already satisfied: pygments>=2.4.1 in /Users/yeonsoo/Library/Python/3.8/lib/python/site-packages (from nbconvert>=4.2->jupyter_contrib_nbextensions) (2.13.0)\n",
      "Requirement already satisfied: bleach in /Users/yeonsoo/Library/Python/3.8/lib/python/site-packages (from nbconvert>=4.2->jupyter_contrib_nbextensions) (5.0.1)\n",
      "Requirement already satisfied: jupyterlab-pygments in /Users/yeonsoo/Library/Python/3.8/lib/python/site-packages (from nbconvert>=4.2->jupyter_contrib_nbextensions) (0.2.2)\n",
      "Requirement already satisfied: beautifulsoup4 in /Users/yeonsoo/Library/Python/3.8/lib/python/site-packages (from nbconvert>=4.2->jupyter_contrib_nbextensions) (4.11.1)\n",
      "Requirement already satisfied: mistune<3,>=2.0.3 in /Users/yeonsoo/Library/Python/3.8/lib/python/site-packages (from nbconvert>=4.2->jupyter_contrib_nbextensions) (2.0.4)\n",
      "Requirement already satisfied: pandocfilters>=1.4.1 in /Users/yeonsoo/Library/Python/3.8/lib/python/site-packages (from nbconvert>=4.2->jupyter_contrib_nbextensions) (1.5.0)\n",
      "Requirement already satisfied: nbformat>=5.1 in /Users/yeonsoo/Library/Python/3.8/lib/python/site-packages (from nbconvert>=4.2->jupyter_contrib_nbextensions) (5.7.0)\n",
      "Requirement already satisfied: defusedxml in /Users/yeonsoo/Library/Python/3.8/lib/python/site-packages (from nbconvert>=4.2->jupyter_contrib_nbextensions) (0.7.1)\n",
      "Requirement already satisfied: importlib-metadata>=3.6 in /Users/yeonsoo/Library/Python/3.8/lib/python/site-packages (from nbconvert>=4.2->jupyter_contrib_nbextensions) (5.0.0)\n",
      "Requirement already satisfied: tinycss2 in /Users/yeonsoo/Library/Python/3.8/lib/python/site-packages (from nbconvert>=4.2->jupyter_contrib_nbextensions) (1.2.1)\n",
      "Requirement already satisfied: Send2Trash>=1.8.0 in /Users/yeonsoo/Library/Python/3.8/lib/python/site-packages (from notebook>=4.0->jupyter_contrib_nbextensions) (1.8.0)\n",
      "Requirement already satisfied: argon2-cffi in /Users/yeonsoo/Library/Python/3.8/lib/python/site-packages (from notebook>=4.0->jupyter_contrib_nbextensions) (21.3.0)\n",
      "Requirement already satisfied: nbclassic>=0.4.7 in /Users/yeonsoo/Library/Python/3.8/lib/python/site-packages (from notebook>=4.0->jupyter_contrib_nbextensions) (0.4.7)\n",
      "Requirement already satisfied: prometheus-client in /Users/yeonsoo/Library/Python/3.8/lib/python/site-packages (from notebook>=4.0->jupyter_contrib_nbextensions) (0.15.0)\n",
      "Requirement already satisfied: ipykernel in /Users/yeonsoo/Library/Python/3.8/lib/python/site-packages (from notebook>=4.0->jupyter_contrib_nbextensions) (6.17.0)\n",
      "Requirement already satisfied: pyzmq>=17 in /Users/yeonsoo/Library/Python/3.8/lib/python/site-packages (from notebook>=4.0->jupyter_contrib_nbextensions) (24.0.1)\n",
      "Requirement already satisfied: jupyter-client>=5.3.4 in /Users/yeonsoo/Library/Python/3.8/lib/python/site-packages (from notebook>=4.0->jupyter_contrib_nbextensions) (7.4.4)\n",
      "Requirement already satisfied: terminado>=0.8.3 in /Users/yeonsoo/Library/Python/3.8/lib/python/site-packages (from notebook>=4.0->jupyter_contrib_nbextensions) (0.17.0)\n",
      "Requirement already satisfied: nest-asyncio>=1.5 in /Users/yeonsoo/Library/Python/3.8/lib/python/site-packages (from notebook>=4.0->jupyter_contrib_nbextensions) (1.5.6)\n",
      "Requirement already satisfied: zipp>=0.5 in /Users/yeonsoo/Library/Python/3.8/lib/python/site-packages (from importlib-metadata>=3.6->nbconvert>=4.2->jupyter_contrib_nbextensions) (3.10.0)\n",
      "Requirement already satisfied: python-dateutil>=2.8.2 in /Users/yeonsoo/Library/Python/3.8/lib/python/site-packages (from jupyter-client>=5.3.4->notebook>=4.0->jupyter_contrib_nbextensions) (2.8.2)\n",
      "Requirement already satisfied: entrypoints in /Users/yeonsoo/Library/Python/3.8/lib/python/site-packages (from jupyter-client>=5.3.4->notebook>=4.0->jupyter_contrib_nbextensions) (0.4)\n",
      "Requirement already satisfied: notebook-shim>=0.1.0 in /Users/yeonsoo/Library/Python/3.8/lib/python/site-packages (from nbclassic>=0.4.7->notebook>=4.0->jupyter_contrib_nbextensions) (0.2.0)\n",
      "Requirement already satisfied: jupyter-server>=1.8 in /Users/yeonsoo/Library/Python/3.8/lib/python/site-packages (from nbclassic>=0.4.7->notebook>=4.0->jupyter_contrib_nbextensions) (1.21.0)\n",
      "Requirement already satisfied: jsonschema>=2.6 in /Users/yeonsoo/Library/Python/3.8/lib/python/site-packages (from nbformat>=5.1->nbconvert>=4.2->jupyter_contrib_nbextensions) (4.16.0)\n",
      "Requirement already satisfied: fastjsonschema in /Users/yeonsoo/Library/Python/3.8/lib/python/site-packages (from nbformat>=5.1->nbconvert>=4.2->jupyter_contrib_nbextensions) (2.16.2)\n",
      "Requirement already satisfied: ptyprocess in /Users/yeonsoo/Library/Python/3.8/lib/python/site-packages (from terminado>=0.8.3->notebook>=4.0->jupyter_contrib_nbextensions) (0.7.0)\n",
      "Requirement already satisfied: argon2-cffi-bindings in /Users/yeonsoo/Library/Python/3.8/lib/python/site-packages (from argon2-cffi->notebook>=4.0->jupyter_contrib_nbextensions) (21.2.0)\n",
      "Requirement already satisfied: soupsieve>1.2 in /Users/yeonsoo/Library/Python/3.8/lib/python/site-packages (from beautifulsoup4->nbconvert>=4.2->jupyter_contrib_nbextensions) (2.3.2.post1)\n",
      "Requirement already satisfied: six>=1.9.0 in /Library/Developer/CommandLineTools/Library/Frameworks/Python3.framework/Versions/3.8/lib/python3.8/site-packages (from bleach->nbconvert>=4.2->jupyter_contrib_nbextensions) (1.15.0)\n",
      "Requirement already satisfied: webencodings in /Users/yeonsoo/Library/Python/3.8/lib/python/site-packages (from bleach->nbconvert>=4.2->jupyter_contrib_nbextensions) (0.5.1)\n",
      "Requirement already satisfied: appnope in /Users/yeonsoo/Library/Python/3.8/lib/python/site-packages (from ipykernel->notebook>=4.0->jupyter_contrib_nbextensions) (0.1.3)\n",
      "Requirement already satisfied: matplotlib-inline>=0.1 in /Users/yeonsoo/Library/Python/3.8/lib/python/site-packages (from ipykernel->notebook>=4.0->jupyter_contrib_nbextensions) (0.1.6)\n",
      "Requirement already satisfied: debugpy>=1.0 in /Users/yeonsoo/Library/Python/3.8/lib/python/site-packages (from ipykernel->notebook>=4.0->jupyter_contrib_nbextensions) (1.6.3)\n",
      "Requirement already satisfied: psutil in /Users/yeonsoo/Library/Python/3.8/lib/python/site-packages (from ipykernel->notebook>=4.0->jupyter_contrib_nbextensions) (5.9.3)\n"
     ]
    },
    {
     "name": "stdout",
     "output_type": "stream",
     "text": [
      "Requirement already satisfied: pickleshare in /Users/yeonsoo/Library/Python/3.8/lib/python/site-packages (from ipython->jupyter-latex-envs>=1.3.8->jupyter_contrib_nbextensions) (0.7.5)\n",
      "Requirement already satisfied: backcall in /Users/yeonsoo/Library/Python/3.8/lib/python/site-packages (from ipython->jupyter-latex-envs>=1.3.8->jupyter_contrib_nbextensions) (0.2.0)\n",
      "Requirement already satisfied: stack-data in /Users/yeonsoo/Library/Python/3.8/lib/python/site-packages (from ipython->jupyter-latex-envs>=1.3.8->jupyter_contrib_nbextensions) (0.6.0)\n",
      "Requirement already satisfied: prompt-toolkit<3.1.0,>3.0.1 in /Users/yeonsoo/Library/Python/3.8/lib/python/site-packages (from ipython->jupyter-latex-envs>=1.3.8->jupyter_contrib_nbextensions) (3.0.31)\n",
      "Requirement already satisfied: jedi>=0.16 in /Users/yeonsoo/Library/Python/3.8/lib/python/site-packages (from ipython->jupyter-latex-envs>=1.3.8->jupyter_contrib_nbextensions) (0.18.1)\n",
      "Requirement already satisfied: decorator in /Users/yeonsoo/Library/Python/3.8/lib/python/site-packages (from ipython->jupyter-latex-envs>=1.3.8->jupyter_contrib_nbextensions) (5.1.1)\n",
      "Requirement already satisfied: pexpect>4.3 in /Users/yeonsoo/Library/Python/3.8/lib/python/site-packages (from ipython->jupyter-latex-envs>=1.3.8->jupyter_contrib_nbextensions) (4.8.0)\n",
      "Requirement already satisfied: pyparsing!=3.0.5,>=2.0.2 in /Users/yeonsoo/Library/Python/3.8/lib/python/site-packages (from packaging->nbconvert>=4.2->jupyter_contrib_nbextensions) (3.0.9)\n",
      "Requirement already satisfied: parso<0.9.0,>=0.8.0 in /Users/yeonsoo/Library/Python/3.8/lib/python/site-packages (from jedi>=0.16->ipython->jupyter-latex-envs>=1.3.8->jupyter_contrib_nbextensions) (0.8.3)\n",
      "Requirement already satisfied: attrs>=17.4.0 in /Users/yeonsoo/Library/Python/3.8/lib/python/site-packages (from jsonschema>=2.6->nbformat>=5.1->nbconvert>=4.2->jupyter_contrib_nbextensions) (22.1.0)\n",
      "Requirement already satisfied: pyrsistent!=0.17.0,!=0.17.1,!=0.17.2,>=0.14.0 in /Users/yeonsoo/Library/Python/3.8/lib/python/site-packages (from jsonschema>=2.6->nbformat>=5.1->nbconvert>=4.2->jupyter_contrib_nbextensions) (0.19.1)\n",
      "Requirement already satisfied: importlib-resources>=1.4.0 in /Users/yeonsoo/Library/Python/3.8/lib/python/site-packages (from jsonschema>=2.6->nbformat>=5.1->nbconvert>=4.2->jupyter_contrib_nbextensions) (5.10.0)\n",
      "Requirement already satisfied: pkgutil-resolve-name>=1.3.10 in /Users/yeonsoo/Library/Python/3.8/lib/python/site-packages (from jsonschema>=2.6->nbformat>=5.1->nbconvert>=4.2->jupyter_contrib_nbextensions) (1.3.10)\n",
      "Requirement already satisfied: websocket-client in /Users/yeonsoo/Library/Python/3.8/lib/python/site-packages (from jupyter-server>=1.8->nbclassic>=0.4.7->notebook>=4.0->jupyter_contrib_nbextensions) (1.4.1)\n",
      "Requirement already satisfied: anyio<4,>=3.1.0 in /Users/yeonsoo/Library/Python/3.8/lib/python/site-packages (from jupyter-server>=1.8->nbclassic>=0.4.7->notebook>=4.0->jupyter_contrib_nbextensions) (3.6.2)\n",
      "Requirement already satisfied: wcwidth in /Users/yeonsoo/Library/Python/3.8/lib/python/site-packages (from prompt-toolkit<3.1.0,>3.0.1->ipython->jupyter-latex-envs>=1.3.8->jupyter_contrib_nbextensions) (0.2.5)\n",
      "Requirement already satisfied: cffi>=1.0.1 in /Users/yeonsoo/Library/Python/3.8/lib/python/site-packages (from argon2-cffi-bindings->argon2-cffi->notebook>=4.0->jupyter_contrib_nbextensions) (1.15.1)\n",
      "Requirement already satisfied: asttokens>=2.1.0 in /Users/yeonsoo/Library/Python/3.8/lib/python/site-packages (from stack-data->ipython->jupyter-latex-envs>=1.3.8->jupyter_contrib_nbextensions) (2.1.0)\n",
      "Requirement already satisfied: pure-eval in /Users/yeonsoo/Library/Python/3.8/lib/python/site-packages (from stack-data->ipython->jupyter-latex-envs>=1.3.8->jupyter_contrib_nbextensions) (0.2.2)\n",
      "Requirement already satisfied: executing>=1.2.0 in /Users/yeonsoo/Library/Python/3.8/lib/python/site-packages (from stack-data->ipython->jupyter-latex-envs>=1.3.8->jupyter_contrib_nbextensions) (1.2.0)\n",
      "Requirement already satisfied: idna>=2.8 in /Users/yeonsoo/Library/Python/3.8/lib/python/site-packages (from anyio<4,>=3.1.0->jupyter-server>=1.8->nbclassic>=0.4.7->notebook>=4.0->jupyter_contrib_nbextensions) (3.4)\n",
      "Requirement already satisfied: sniffio>=1.1 in /Users/yeonsoo/Library/Python/3.8/lib/python/site-packages (from anyio<4,>=3.1.0->jupyter-server>=1.8->nbclassic>=0.4.7->notebook>=4.0->jupyter_contrib_nbextensions) (1.3.0)\n",
      "Requirement already satisfied: pycparser in /Users/yeonsoo/Library/Python/3.8/lib/python/site-packages (from cffi>=1.0.1->argon2-cffi-bindings->argon2-cffi->notebook>=4.0->jupyter_contrib_nbextensions) (2.21)\n",
      "\u001b[32m[I 00:53:04 InstallContribNbextensionsApp]\u001b[m jupyter contrib nbextension install --user\n",
      "\u001b[32m[I 00:53:04 InstallContribNbextensionsApp]\u001b[m Installing jupyter_contrib_nbextensions nbextension files to jupyter data directory\n",
      "\u001b[32m[I 00:53:04 InstallContribNbextensionsApp]\u001b[m Installing /opt/homebrew/lib/python3.9/site-packages/jupyter_contrib_nbextensions/nbextensions/rubberband -> rubberband\n",
      "\u001b[32m[I 00:53:04 InstallContribNbextensionsApp]\u001b[m Up to date: /Users/yeonsoo/Library/Jupyter/nbextensions/rubberband/icon.png\n",
      "\u001b[32m[I 00:53:04 InstallContribNbextensionsApp]\u001b[m Up to date: /Users/yeonsoo/Library/Jupyter/nbextensions/rubberband/main.css\n",
      "\u001b[32m[I 00:53:04 InstallContribNbextensionsApp]\u001b[m Up to date: /Users/yeonsoo/Library/Jupyter/nbextensions/rubberband/readme.md\n",
      "\u001b[32m[I 00:53:04 InstallContribNbextensionsApp]\u001b[m Up to date: /Users/yeonsoo/Library/Jupyter/nbextensions/rubberband/main.js\n",
      "\u001b[32m[I 00:53:04 InstallContribNbextensionsApp]\u001b[m Up to date: /Users/yeonsoo/Library/Jupyter/nbextensions/rubberband/rubberband.yaml\n",
      "\u001b[32m[I 00:53:04 InstallContribNbextensionsApp]\u001b[m - Validating: \u001b[32mOK\u001b[0m\n",
      "\u001b[32m[I 00:53:04 InstallContribNbextensionsApp]\u001b[m Installing /opt/homebrew/lib/python3.9/site-packages/jupyter_contrib_nbextensions/nbextensions/scroll_down -> scroll_down\n",
      "\u001b[32m[I 00:53:04 InstallContribNbextensionsApp]\u001b[m Up to date: /Users/yeonsoo/Library/Jupyter/nbextensions/scroll_down/icon.png\n",
      "\u001b[32m[I 00:53:04 InstallContribNbextensionsApp]\u001b[m Up to date: /Users/yeonsoo/Library/Jupyter/nbextensions/scroll_down/config.yaml\n",
      "\u001b[32m[I 00:53:04 InstallContribNbextensionsApp]\u001b[m Up to date: /Users/yeonsoo/Library/Jupyter/nbextensions/scroll_down/readme.md\n",
      "\u001b[32m[I 00:53:04 InstallContribNbextensionsApp]\u001b[m Up to date: /Users/yeonsoo/Library/Jupyter/nbextensions/scroll_down/main.js\n",
      "\u001b[32m[I 00:53:04 InstallContribNbextensionsApp]\u001b[m - Validating: \u001b[32mOK\u001b[0m\n",
      "\u001b[32m[I 00:53:04 InstallContribNbextensionsApp]\u001b[m Installing /opt/homebrew/lib/python3.9/site-packages/jupyter_contrib_nbextensions/nbextensions/hinterland -> hinterland\n",
      "\u001b[32m[I 00:53:04 InstallContribNbextensionsApp]\u001b[m Up to date: /Users/yeonsoo/Library/Jupyter/nbextensions/hinterland/hinterland.yaml\n",
      "\u001b[32m[I 00:53:04 InstallContribNbextensionsApp]\u001b[m Up to date: /Users/yeonsoo/Library/Jupyter/nbextensions/hinterland/hinterland.js\n",
      "\u001b[32m[I 00:53:04 InstallContribNbextensionsApp]\u001b[m Up to date: /Users/yeonsoo/Library/Jupyter/nbextensions/hinterland/README.md\n",
      "\u001b[32m[I 00:53:04 InstallContribNbextensionsApp]\u001b[m - Validating: \u001b[32mOK\u001b[0m\n",
      "\u001b[32m[I 00:53:04 InstallContribNbextensionsApp]\u001b[m Installing /opt/homebrew/lib/python3.9/site-packages/jupyter_contrib_nbextensions/nbextensions/snippets -> snippets\n",
      "\u001b[32m[I 00:53:04 InstallContribNbextensionsApp]\u001b[m Up to date: /Users/yeonsoo/Library/Jupyter/nbextensions/snippets/snippets.yaml\n",
      "\u001b[32m[I 00:53:04 InstallContribNbextensionsApp]\u001b[m Up to date: /Users/yeonsoo/Library/Jupyter/nbextensions/snippets/snippets.json\n",
      "\u001b[32m[I 00:53:04 InstallContribNbextensionsApp]\u001b[m Up to date: /Users/yeonsoo/Library/Jupyter/nbextensions/snippets/README.md\n",
      "\u001b[32m[I 00:53:04 InstallContribNbextensionsApp]\u001b[m Up to date: /Users/yeonsoo/Library/Jupyter/nbextensions/snippets/main.js\n",
      "\u001b[32m[I 00:53:04 InstallContribNbextensionsApp]\u001b[m Up to date: /Users/yeonsoo/Library/Jupyter/nbextensions/snippets/snippets-demo.gif\n",
      "\u001b[32m[I 00:53:04 InstallContribNbextensionsApp]\u001b[m - Validating: \u001b[32mOK\u001b[0m\n",
      "\u001b[32m[I 00:53:04 InstallContribNbextensionsApp]\u001b[m Installing /opt/homebrew/lib/python3.9/site-packages/jupyter_contrib_nbextensions/nbextensions/toggle_all_line_numbers -> toggle_all_line_numbers\n",
      "\u001b[32m[I 00:53:04 InstallContribNbextensionsApp]\u001b[m Up to date: /Users/yeonsoo/Library/Jupyter/nbextensions/toggle_all_line_numbers/icon.png\n",
      "\u001b[32m[I 00:53:04 InstallContribNbextensionsApp]\u001b[m Up to date: /Users/yeonsoo/Library/Jupyter/nbextensions/toggle_all_line_numbers/main.yaml\n",
      "\u001b[32m[I 00:53:04 InstallContribNbextensionsApp]\u001b[m Up to date: /Users/yeonsoo/Library/Jupyter/nbextensions/toggle_all_line_numbers/readme.md\n",
      "\u001b[32m[I 00:53:04 InstallContribNbextensionsApp]\u001b[m Up to date: /Users/yeonsoo/Library/Jupyter/nbextensions/toggle_all_line_numbers/main.js\n",
      "\u001b[32m[I 00:53:04 InstallContribNbextensionsApp]\u001b[m - Validating: \u001b[32mOK\u001b[0m\n",
      "\u001b[32m[I 00:53:04 InstallContribNbextensionsApp]\u001b[m Installing /opt/homebrew/lib/python3.9/site-packages/jupyter_contrib_nbextensions/nbextensions/notify -> notify\n",
      "\u001b[32m[I 00:53:04 InstallContribNbextensionsApp]\u001b[m Up to date: /Users/yeonsoo/Library/Jupyter/nbextensions/notify/notify.js\n",
      "\u001b[32m[I 00:53:04 InstallContribNbextensionsApp]\u001b[m Up to date: /Users/yeonsoo/Library/Jupyter/nbextensions/notify/notify.mp3\n",
      "\u001b[32m[I 00:53:04 InstallContribNbextensionsApp]\u001b[m Up to date: /Users/yeonsoo/Library/Jupyter/nbextensions/notify/readme.md\n",
      "\u001b[32m[I 00:53:04 InstallContribNbextensionsApp]\u001b[m Up to date: /Users/yeonsoo/Library/Jupyter/nbextensions/notify/notify.yaml\n",
      "\u001b[32m[I 00:53:04 InstallContribNbextensionsApp]\u001b[m Up to date: /Users/yeonsoo/Library/Jupyter/nbextensions/notify/notification.png\n",
      "\u001b[32m[I 00:53:04 InstallContribNbextensionsApp]\u001b[m - Validating: \u001b[32mOK\u001b[0m\n",
      "\u001b[32m[I 00:53:04 InstallContribNbextensionsApp]\u001b[m Installing /opt/homebrew/lib/python3.9/site-packages/jupyter_contrib_nbextensions/nbextensions/runtools -> runtools\n",
      "\u001b[32m[I 00:53:04 InstallContribNbextensionsApp]\u001b[m Up to date: /Users/yeonsoo/Library/Jupyter/nbextensions/runtools/cellstate.js\n",
      "\u001b[32m[I 00:53:04 InstallContribNbextensionsApp]\u001b[m Up to date: /Users/yeonsoo/Library/Jupyter/nbextensions/runtools/icon.png\n",
      "\u001b[32m[I 00:53:04 InstallContribNbextensionsApp]\u001b[m Up to date: /Users/yeonsoo/Library/Jupyter/nbextensions/runtools/runtools_execute.png\n",
      "\u001b[32m[I 00:53:04 InstallContribNbextensionsApp]\u001b[m Up to date: /Users/yeonsoo/Library/Jupyter/nbextensions/runtools/annotations.odg\n",
      "\u001b[32m[I 00:53:04 InstallContribNbextensionsApp]\u001b[m Up to date: /Users/yeonsoo/Library/Jupyter/nbextensions/runtools/runtools.yaml\n",
      "\u001b[32m[I 00:53:04 InstallContribNbextensionsApp]\u001b[m Up to date: /Users/yeonsoo/Library/Jupyter/nbextensions/runtools/main.css\n",
      "\u001b[32m[I 00:53:04 InstallContribNbextensionsApp]\u001b[m Up to date: /Users/yeonsoo/Library/Jupyter/nbextensions/runtools/runtools_nb.png\n",
      "\u001b[32m[I 00:53:04 InstallContribNbextensionsApp]\u001b[m Up to date: /Users/yeonsoo/Library/Jupyter/nbextensions/runtools/readme.md\n",
      "\u001b[32m[I 00:53:04 InstallContribNbextensionsApp]\u001b[m Up to date: /Users/yeonsoo/Library/Jupyter/nbextensions/runtools/runtools_marker.png\n",
      "\u001b[32m[I 00:53:04 InstallContribNbextensionsApp]\u001b[m Up to date: /Users/yeonsoo/Library/Jupyter/nbextensions/runtools/main.js\n",
      "\u001b[32m[I 00:53:04 InstallContribNbextensionsApp]\u001b[m Up to date: /Users/yeonsoo/Library/Jupyter/nbextensions/runtools/runtools_show_hide.png\n",
      "\u001b[32m[I 00:53:04 InstallContribNbextensionsApp]\u001b[m Up to date: /Users/yeonsoo/Library/Jupyter/nbextensions/runtools/runtools_lock.png\n",
      "\u001b[32m[I 00:53:04 InstallContribNbextensionsApp]\u001b[m Up to date: /Users/yeonsoo/Library/Jupyter/nbextensions/runtools/demo.gif\n",
      "\u001b[32m[I 00:53:04 InstallContribNbextensionsApp]\u001b[m Up to date: /Users/yeonsoo/Library/Jupyter/nbextensions/runtools/gutter.css\n",
      "\u001b[32m[I 00:53:04 InstallContribNbextensionsApp]\u001b[m - Validating: \u001b[32mOK\u001b[0m\n",
      "\u001b[32m[I 00:53:04 InstallContribNbextensionsApp]\u001b[m Installing /opt/homebrew/lib/python3.9/site-packages/jupyter_contrib_nbextensions/nbextensions/tree-filter -> tree-filter\n",
      "\u001b[32m[I 00:53:04 InstallContribNbextensionsApp]\u001b[m Up to date: /Users/yeonsoo/Library/Jupyter/nbextensions/tree-filter/tree-filter.yaml\n",
      "\u001b[32m[I 00:53:04 InstallContribNbextensionsApp]\u001b[m Up to date: /Users/yeonsoo/Library/Jupyter/nbextensions/tree-filter/index.js\n",
      "\u001b[32m[I 00:53:04 InstallContribNbextensionsApp]\u001b[m Up to date: /Users/yeonsoo/Library/Jupyter/nbextensions/tree-filter/readme.md\n",
      "\u001b[32m[I 00:53:04 InstallContribNbextensionsApp]\u001b[m Up to date: /Users/yeonsoo/Library/Jupyter/nbextensions/tree-filter/demo.gif\n",
      "\u001b[32m[I 00:53:04 InstallContribNbextensionsApp]\u001b[m - Validating: \u001b[32mOK\u001b[0m\n",
      "\u001b[32m[I 00:53:04 InstallContribNbextensionsApp]\u001b[m Installing /opt/homebrew/lib/python3.9/site-packages/jupyter_contrib_nbextensions/nbextensions/table_beautifier -> table_beautifier\n",
      "\u001b[32m[I 00:53:04 InstallContribNbextensionsApp]\u001b[m Up to date: /Users/yeonsoo/Library/Jupyter/nbextensions/table_beautifier/main.css\n",
      "\u001b[32m[I 00:53:04 InstallContribNbextensionsApp]\u001b[m Up to date: /Users/yeonsoo/Library/Jupyter/nbextensions/table_beautifier/README.md\n",
      "\u001b[32m[I 00:53:04 InstallContribNbextensionsApp]\u001b[m Up to date: /Users/yeonsoo/Library/Jupyter/nbextensions/table_beautifier/main.js\n",
      "\u001b[32m[I 00:53:04 InstallContribNbextensionsApp]\u001b[m Up to date: /Users/yeonsoo/Library/Jupyter/nbextensions/table_beautifier/table_beautifier.yaml\n",
      "\u001b[32m[I 00:53:04 InstallContribNbextensionsApp]\u001b[m - Validating: \u001b[32mOK\u001b[0m\n",
      "\u001b[32m[I 00:53:04 InstallContribNbextensionsApp]\u001b[m Installing /opt/homebrew/lib/python3.9/site-packages/jupyter_contrib_nbextensions/nbextensions/freeze -> freeze\n",
      "\u001b[32m[I 00:53:04 InstallContribNbextensionsApp]\u001b[m Up to date: /Users/yeonsoo/Library/Jupyter/nbextensions/freeze/icon.png\n",
      "\u001b[32m[I 00:53:04 InstallContribNbextensionsApp]\u001b[m Up to date: /Users/yeonsoo/Library/Jupyter/nbextensions/freeze/config.yaml\n",
      "\u001b[32m[I 00:53:04 InstallContribNbextensionsApp]\u001b[m Up to date: /Users/yeonsoo/Library/Jupyter/nbextensions/freeze/readme.md\n",
      "\u001b[32m[I 00:53:04 InstallContribNbextensionsApp]\u001b[m Up to date: /Users/yeonsoo/Library/Jupyter/nbextensions/freeze/main.js\n",
      "\u001b[32m[I 00:53:04 InstallContribNbextensionsApp]\u001b[m - Validating: \u001b[32mOK\u001b[0m\n",
      "\u001b[32m[I 00:53:04 InstallContribNbextensionsApp]\u001b[m Installing /opt/homebrew/lib/python3.9/site-packages/jupyter_contrib_nbextensions/nbextensions/exercise2 -> exercise2\n",
      "\u001b[32m[I 00:53:04 InstallContribNbextensionsApp]\u001b[m Up to date: /Users/yeonsoo/Library/Jupyter/nbextensions/exercise2/icon.png\n",
      "\u001b[32m[I 00:53:04 InstallContribNbextensionsApp]\u001b[m Up to date: /Users/yeonsoo/Library/Jupyter/nbextensions/exercise2/exercise2.yaml\n",
      "\u001b[32m[I 00:53:04 InstallContribNbextensionsApp]\u001b[m Up to date: /Users/yeonsoo/Library/Jupyter/nbextensions/exercise2/main.css\n",
      "\u001b[32m[I 00:53:04 InstallContribNbextensionsApp]\u001b[m Up to date: /Users/yeonsoo/Library/Jupyter/nbextensions/exercise2/image.gif\n",
      "\u001b[32m[I 00:53:04 InstallContribNbextensionsApp]\u001b[m Up to date: /Users/yeonsoo/Library/Jupyter/nbextensions/exercise2/readme.md\n",
      "\u001b[32m[I 00:53:04 InstallContribNbextensionsApp]\u001b[m Up to date: /Users/yeonsoo/Library/Jupyter/nbextensions/exercise2/main.js\n",
      "\u001b[32m[I 00:53:04 InstallContribNbextensionsApp]\u001b[m - Validating: \u001b[32mOK\u001b[0m\n",
      "\u001b[32m[I 00:53:04 InstallContribNbextensionsApp]\u001b[m Installing /opt/homebrew/lib/python3.9/site-packages/jupyter_contrib_nbextensions/nbextensions/execution_dependencies -> execution_dependencies\n",
      "\u001b[32m[I 00:53:04 InstallContribNbextensionsApp]\u001b[m Up to date: /Users/yeonsoo/Library/Jupyter/nbextensions/execution_dependencies/execution_dependencies.yml\n",
      "\u001b[32m[I 00:53:04 InstallContribNbextensionsApp]\u001b[m Up to date: /Users/yeonsoo/Library/Jupyter/nbextensions/execution_dependencies/README.md\n",
      "\u001b[32m[I 00:53:04 InstallContribNbextensionsApp]\u001b[m Up to date: /Users/yeonsoo/Library/Jupyter/nbextensions/execution_dependencies/execution_dependencies.js\n",
      "\u001b[32m[I 00:53:04 InstallContribNbextensionsApp]\u001b[m - Validating: \u001b[32mOK\u001b[0m\n",
      "\u001b[32m[I 00:53:04 InstallContribNbextensionsApp]\u001b[m Installing /opt/homebrew/lib/python3.9/site-packages/jupyter_contrib_nbextensions/nbextensions/skill -> skill\n",
      "\u001b[32m[I 00:53:04 InstallContribNbextensionsApp]\u001b[m Up to date: /Users/yeonsoo/Library/Jupyter/nbextensions/skill/skill.js\n",
      "\u001b[32m[I 00:53:04 InstallContribNbextensionsApp]\u001b[m Up to date: /Users/yeonsoo/Library/Jupyter/nbextensions/skill/README.md\n",
      "\u001b[32m[I 00:53:04 InstallContribNbextensionsApp]\u001b[m Up to date: /Users/yeonsoo/Library/Jupyter/nbextensions/skill/main.js\n",
      "\u001b[32m[I 00:53:04 InstallContribNbextensionsApp]\u001b[m Up to date: /Users/yeonsoo/Library/Jupyter/nbextensions/skill/skill.yaml\n",
      "\u001b[32m[I 00:53:04 InstallContribNbextensionsApp]\u001b[m - Validating: \u001b[32mOK\u001b[0m\n",
      "\u001b[32m[I 00:53:04 InstallContribNbextensionsApp]\u001b[m Installing /opt/homebrew/lib/python3.9/site-packages/jupyter_contrib_nbextensions/nbextensions/splitcell -> splitcell\n",
      "\u001b[32m[I 00:53:04 InstallContribNbextensionsApp]\u001b[m Up to date: /Users/yeonsoo/Library/Jupyter/nbextensions/splitcell/icon.png\n",
      "\u001b[32m[I 00:53:04 InstallContribNbextensionsApp]\u001b[m Up to date: /Users/yeonsoo/Library/Jupyter/nbextensions/splitcell/readme.md\n",
      "\u001b[32m[I 00:53:04 InstallContribNbextensionsApp]\u001b[m Up to date: /Users/yeonsoo/Library/Jupyter/nbextensions/splitcell/splitcell.yaml\n",
      "\u001b[32m[I 00:53:04 InstallContribNbextensionsApp]\u001b[m Up to date: /Users/yeonsoo/Library/Jupyter/nbextensions/splitcell/splitcell.js\n",
      "\u001b[32m[I 00:53:04 InstallContribNbextensionsApp]\u001b[m - Validating: \u001b[32mOK\u001b[0m\n",
      "\u001b[32m[I 00:53:04 InstallContribNbextensionsApp]\u001b[m Installing /opt/homebrew/lib/python3.9/site-packages/jupyter_contrib_nbextensions/nbextensions/autosavetime -> autosavetime\n",
      "\u001b[32m[I 00:53:04 InstallContribNbextensionsApp]\u001b[m Up to date: /Users/yeonsoo/Library/Jupyter/nbextensions/autosavetime/icon.png\n",
      "\u001b[32m[I 00:53:04 InstallContribNbextensionsApp]\u001b[m Up to date: /Users/yeonsoo/Library/Jupyter/nbextensions/autosavetime/README.md\n",
      "\u001b[32m[I 00:53:04 InstallContribNbextensionsApp]\u001b[m Up to date: /Users/yeonsoo/Library/Jupyter/nbextensions/autosavetime/autosavetime.yaml\n",
      "\u001b[32m[I 00:53:04 InstallContribNbextensionsApp]\u001b[m Up to date: /Users/yeonsoo/Library/Jupyter/nbextensions/autosavetime/main.js\n",
      "\u001b[32m[I 00:53:04 InstallContribNbextensionsApp]\u001b[m - Validating: \u001b[32mOK\u001b[0m\n",
      "\u001b[32m[I 00:53:04 InstallContribNbextensionsApp]\u001b[m Installing /opt/homebrew/lib/python3.9/site-packages/jupyter_contrib_nbextensions/nbextensions/select_keymap -> select_keymap\n",
      "\u001b[32m[I 00:53:04 InstallContribNbextensionsApp]\u001b[m Up to date: /Users/yeonsoo/Library/Jupyter/nbextensions/select_keymap/select_keymap.png\n",
      "\u001b[32m[I 00:53:04 InstallContribNbextensionsApp]\u001b[m Up to date: /Users/yeonsoo/Library/Jupyter/nbextensions/select_keymap/README.md\n",
      "\u001b[32m[I 00:53:04 InstallContribNbextensionsApp]\u001b[m Up to date: /Users/yeonsoo/Library/Jupyter/nbextensions/select_keymap/main.js\n",
      "\u001b[32m[I 00:53:04 InstallContribNbextensionsApp]\u001b[m Up to date: /Users/yeonsoo/Library/Jupyter/nbextensions/select_keymap/select_keymap.yaml\n",
      "\u001b[32m[I 00:53:04 InstallContribNbextensionsApp]\u001b[m - Validating: \u001b[32mOK\u001b[0m\n",
      "\u001b[32m[I 00:53:04 InstallContribNbextensionsApp]\u001b[m Installing /opt/homebrew/lib/python3.9/site-packages/jupyter_contrib_nbextensions/nbextensions/livemdpreview -> livemdpreview\n",
      "\u001b[32m[I 00:53:04 InstallContribNbextensionsApp]\u001b[m Up to date: /Users/yeonsoo/Library/Jupyter/nbextensions/livemdpreview/livemdpreview.yml\n",
      "\u001b[32m[I 00:53:04 InstallContribNbextensionsApp]\u001b[m Up to date: /Users/yeonsoo/Library/Jupyter/nbextensions/livemdpreview/livemdpreview.js\n",
      "\u001b[32m[I 00:53:04 InstallContribNbextensionsApp]\u001b[m - Validating: \u001b[32mOK\u001b[0m\n",
      "\u001b[32m[I 00:53:04 InstallContribNbextensionsApp]\u001b[m Installing /opt/homebrew/lib/python3.9/site-packages/jupyter_contrib_nbextensions/nbextensions/gist_it -> gist_it\n",
      "\u001b[32m[I 00:53:04 InstallContribNbextensionsApp]\u001b[m Up to date: /Users/yeonsoo/Library/Jupyter/nbextensions/gist_it/icon.png\n",
      "\u001b[32m[I 00:53:04 InstallContribNbextensionsApp]\u001b[m Up to date: /Users/yeonsoo/Library/Jupyter/nbextensions/gist_it/gist_it.yaml\n",
      "\u001b[32m[I 00:53:04 InstallContribNbextensionsApp]\u001b[m Up to date: /Users/yeonsoo/Library/Jupyter/nbextensions/gist_it/readme.md\n",
      "\u001b[32m[I 00:53:04 InstallContribNbextensionsApp]\u001b[m Up to date: /Users/yeonsoo/Library/Jupyter/nbextensions/gist_it/main.js\n",
      "\u001b[32m[I 00:53:04 InstallContribNbextensionsApp]\u001b[m - Validating: \u001b[32mOK\u001b[0m\n",
      "\u001b[32m[I 00:53:04 InstallContribNbextensionsApp]\u001b[m Installing /opt/homebrew/lib/python3.9/site-packages/jupyter_contrib_nbextensions/nbextensions/cell_filter -> cell_filter\n",
      "\u001b[32m[I 00:53:04 InstallContribNbextensionsApp]\u001b[m Up to date: /Users/yeonsoo/Library/Jupyter/nbextensions/cell_filter/cell_filter.yml\n",
      "\u001b[32m[I 00:53:04 InstallContribNbextensionsApp]\u001b[m Up to date: /Users/yeonsoo/Library/Jupyter/nbextensions/cell_filter/cell_filter.js\n",
      "\u001b[32m[I 00:53:04 InstallContribNbextensionsApp]\u001b[m Up to date: /Users/yeonsoo/Library/Jupyter/nbextensions/cell_filter/README.md\n",
      "\u001b[32m[I 00:53:04 InstallContribNbextensionsApp]\u001b[m - Validating: \u001b[32mOK\u001b[0m\n",
      "\u001b[32m[I 00:53:04 InstallContribNbextensionsApp]\u001b[m Installing /opt/homebrew/lib/python3.9/site-packages/jupyter_contrib_nbextensions/nbextensions/scratchpad -> scratchpad\n",
      "\u001b[32m[I 00:53:04 InstallContribNbextensionsApp]\u001b[m Up to date: /Users/yeonsoo/Library/Jupyter/nbextensions/scratchpad/LICENSE\n",
      "\u001b[32m[I 00:53:04 InstallContribNbextensionsApp]\u001b[m Up to date: /Users/yeonsoo/Library/Jupyter/nbextensions/scratchpad/scratchpad.yaml\n",
      "\u001b[32m[I 00:53:04 InstallContribNbextensionsApp]\u001b[m Up to date: /Users/yeonsoo/Library/Jupyter/nbextensions/scratchpad/README.md\n",
      "\u001b[32m[I 00:53:04 InstallContribNbextensionsApp]\u001b[m Up to date: /Users/yeonsoo/Library/Jupyter/nbextensions/scratchpad/main.js\n",
      "\u001b[32m[I 00:53:04 InstallContribNbextensionsApp]\u001b[m Up to date: /Users/yeonsoo/Library/Jupyter/nbextensions/scratchpad/scratchpad.css\n",
      "\u001b[32m[I 00:53:04 InstallContribNbextensionsApp]\u001b[m Up to date: /Users/yeonsoo/Library/Jupyter/nbextensions/scratchpad/demo.gif\n",
      "\u001b[32m[I 00:53:04 InstallContribNbextensionsApp]\u001b[m - Validating: \u001b[32mOK\u001b[0m\n",
      "\u001b[32m[I 00:53:04 InstallContribNbextensionsApp]\u001b[m Installing /opt/homebrew/lib/python3.9/site-packages/jupyter_contrib_nbextensions/nbextensions/toc2 -> toc2\n",
      "\u001b[32m[I 00:53:04 InstallContribNbextensionsApp]\u001b[m Up to date: /Users/yeonsoo/Library/Jupyter/nbextensions/toc2/toc2.yaml\n",
      "\u001b[32m[I 00:53:04 InstallContribNbextensionsApp]\u001b[m Up to date: /Users/yeonsoo/Library/Jupyter/nbextensions/toc2/icon.png\n",
      "\u001b[32m[I 00:53:04 InstallContribNbextensionsApp]\u001b[m Up to date: /Users/yeonsoo/Library/Jupyter/nbextensions/toc2/demo_dark.png\n",
      "\u001b[32m[I 00:53:04 InstallContribNbextensionsApp]\u001b[m Up to date: /Users/yeonsoo/Library/Jupyter/nbextensions/toc2/main.css\n",
      "\u001b[32m[I 00:53:04 InstallContribNbextensionsApp]\u001b[m Up to date: /Users/yeonsoo/Library/Jupyter/nbextensions/toc2/README.md\n",
      "\u001b[32m[I 00:53:04 InstallContribNbextensionsApp]\u001b[m Up to date: /Users/yeonsoo/Library/Jupyter/nbextensions/toc2/main.js\n",
      "\u001b[32m[I 00:53:04 InstallContribNbextensionsApp]\u001b[m Up to date: /Users/yeonsoo/Library/Jupyter/nbextensions/toc2/demo3.gif\n",
      "\u001b[32m[I 00:53:04 InstallContribNbextensionsApp]\u001b[m Up to date: /Users/yeonsoo/Library/Jupyter/nbextensions/toc2/demo2.gif\n",
      "\u001b[32m[I 00:53:04 InstallContribNbextensionsApp]\u001b[m Up to date: /Users/yeonsoo/Library/Jupyter/nbextensions/toc2/toc2.js\n",
      "\u001b[32m[I 00:53:04 InstallContribNbextensionsApp]\u001b[m Up to date: /Users/yeonsoo/Library/Jupyter/nbextensions/toc2/demo.gif\n",
      "\u001b[32m[I 00:53:04 InstallContribNbextensionsApp]\u001b[m Up to date: /Users/yeonsoo/Library/Jupyter/nbextensions/toc2/image.png\n",
      "\u001b[32m[I 00:53:04 InstallContribNbextensionsApp]\u001b[m - Validating: \u001b[32mOK\u001b[0m\n",
      "\u001b[32m[I 00:53:04 InstallContribNbextensionsApp]\u001b[m Installing /opt/homebrew/lib/python3.9/site-packages/jupyter_contrib_nbextensions/nbextensions/nbTranslate -> nbTranslate\n",
      "\u001b[32m[I 00:53:04 InstallContribNbextensionsApp]\u001b[m Up to date: /Users/yeonsoo/Library/Jupyter/nbextensions/nbTranslate/nbTranslate.yaml\n",
      "\u001b[32m[I 00:53:04 InstallContribNbextensionsApp]\u001b[m Up to date: /Users/yeonsoo/Library/Jupyter/nbextensions/nbTranslate/nbTranslate.js\n",
      "\u001b[32m[I 00:53:04 InstallContribNbextensionsApp]\u001b[m Up to date: /Users/yeonsoo/Library/Jupyter/nbextensions/nbTranslate/README.md\n",
      "\u001b[32m[I 00:53:04 InstallContribNbextensionsApp]\u001b[m Up to date: /Users/yeonsoo/Library/Jupyter/nbextensions/nbTranslate/main.js\n",
      "\u001b[32m[I 00:53:04 InstallContribNbextensionsApp]\u001b[m Up to date: /Users/yeonsoo/Library/Jupyter/nbextensions/nbTranslate/demo1.gif\n",
      "\u001b[32m[I 00:53:04 InstallContribNbextensionsApp]\u001b[m Up to date: /Users/yeonsoo/Library/Jupyter/nbextensions/nbTranslate/demo2.gif\n",
      "\u001b[32m[I 00:53:04 InstallContribNbextensionsApp]\u001b[m Up to date: /Users/yeonsoo/Library/Jupyter/nbextensions/nbTranslate/languages.js\n",
      "\u001b[32m[I 00:53:04 InstallContribNbextensionsApp]\u001b[m Up to date: /Users/yeonsoo/Library/Jupyter/nbextensions/nbTranslate/mutils.js\n",
      "\u001b[32m[I 00:53:04 InstallContribNbextensionsApp]\u001b[m - Validating: \u001b[32mOK\u001b[0m\n",
      "\u001b[32m[I 00:53:04 InstallContribNbextensionsApp]\u001b[m Installing /opt/homebrew/lib/python3.9/site-packages/jupyter_contrib_nbextensions/nbextensions/equation-numbering -> equation-numbering\n",
      "\u001b[32m[I 00:53:04 InstallContribNbextensionsApp]\u001b[m Up to date: /Users/yeonsoo/Library/Jupyter/nbextensions/equation-numbering/icon.png\n",
      "\u001b[32m[I 00:53:04 InstallContribNbextensionsApp]\u001b[m Up to date: /Users/yeonsoo/Library/Jupyter/nbextensions/equation-numbering/readme.md\n",
      "\u001b[32m[I 00:53:04 InstallContribNbextensionsApp]\u001b[m Up to date: /Users/yeonsoo/Library/Jupyter/nbextensions/equation-numbering/main.js\n",
      "\u001b[32m[I 00:53:04 InstallContribNbextensionsApp]\u001b[m Up to date: /Users/yeonsoo/Library/Jupyter/nbextensions/equation-numbering/info.yaml\n",
      "\u001b[32m[I 00:53:04 InstallContribNbextensionsApp]\u001b[m Up to date: /Users/yeonsoo/Library/Jupyter/nbextensions/equation-numbering/button.png\n",
      "\u001b[32m[I 00:53:04 InstallContribNbextensionsApp]\u001b[m - Validating: \u001b[32mOK\u001b[0m\n",
      "\u001b[32m[I 00:53:04 InstallContribNbextensionsApp]\u001b[m Installing /opt/homebrew/lib/python3.9/site-packages/jupyter_contrib_nbextensions/nbextensions/navigation-hotkeys -> navigation-hotkeys\n",
      "\u001b[32m[I 00:53:04 InstallContribNbextensionsApp]\u001b[m Up to date: /Users/yeonsoo/Library/Jupyter/nbextensions/navigation-hotkeys/icon.png\n",
      "\u001b[32m[I 00:53:04 InstallContribNbextensionsApp]\u001b[m Up to date: /Users/yeonsoo/Library/Jupyter/nbextensions/navigation-hotkeys/readme.md\n",
      "\u001b[32m[I 00:53:04 InstallContribNbextensionsApp]\u001b[m Up to date: /Users/yeonsoo/Library/Jupyter/nbextensions/navigation-hotkeys/main.js\n",
      "\u001b[32m[I 00:53:04 InstallContribNbextensionsApp]\u001b[m Up to date: /Users/yeonsoo/Library/Jupyter/nbextensions/navigation-hotkeys/hotkeys.yaml\n",
      "\u001b[32m[I 00:53:04 InstallContribNbextensionsApp]\u001b[m - Validating: \u001b[32mOK\u001b[0m\n",
      "\u001b[32m[I 00:53:04 InstallContribNbextensionsApp]\u001b[m Installing /opt/homebrew/lib/python3.9/site-packages/jupyter_contrib_nbextensions/nbextensions/snippets_menu -> snippets_menu\n"
     ]
    },
    {
     "name": "stdout",
     "output_type": "stream",
     "text": [
      "\u001b[32m[I 00:53:04 InstallContribNbextensionsApp]\u001b[m Up to date: /Users/yeonsoo/Library/Jupyter/nbextensions/snippets_menu/snippets_menu.css\r\n",
      "\u001b[32m[I 00:53:04 InstallContribNbextensionsApp]\u001b[m Up to date: /Users/yeonsoo/Library/Jupyter/nbextensions/snippets_menu/snippets_submenu_python.js\r\n",
      "\u001b[32m[I 00:53:04 InstallContribNbextensionsApp]\u001b[m Up to date: /Users/yeonsoo/Library/Jupyter/nbextensions/snippets_menu/config.yaml\r\n",
      "\u001b[32m[I 00:53:04 InstallContribNbextensionsApp]\u001b[m Up to date: /Users/yeonsoo/Library/Jupyter/nbextensions/snippets_menu/readme.md\r\n",
      "\u001b[32m[I 00:53:04 InstallContribNbextensionsApp]\u001b[m Up to date: /Users/yeonsoo/Library/Jupyter/nbextensions/snippets_menu/main.js\r\n",
      "\u001b[32m[I 00:53:04 InstallContribNbextensionsApp]\u001b[m Up to date: /Users/yeonsoo/Library/Jupyter/nbextensions/snippets_menu/snippets_submenu_markdown.js\r\n",
      "\u001b[32m[I 00:53:04 InstallContribNbextensionsApp]\u001b[m Up to date: /Users/yeonsoo/Library/Jupyter/nbextensions/snippets_menu/thumbnail.png\r\n",
      "\u001b[32m[I 00:53:04 InstallContribNbextensionsApp]\u001b[m Up to date: /Users/yeonsoo/Library/Jupyter/nbextensions/snippets_menu/screenshot1.png\r\n",
      "\u001b[32m[I 00:53:04 InstallContribNbextensionsApp]\u001b[m Up to date: /Users/yeonsoo/Library/Jupyter/nbextensions/snippets_menu/screenshot2.png\r\n",
      "\u001b[32m[I 00:53:04 InstallContribNbextensionsApp]\u001b[m Up to date: /Users/yeonsoo/Library/Jupyter/nbextensions/snippets_menu/screenshot3.png\r\n",
      "\u001b[32m[I 00:53:04 InstallContribNbextensionsApp]\u001b[m Up to date: /Users/yeonsoo/Library/Jupyter/nbextensions/snippets_menu/examples_for_custom.js\r\n",
      "\u001b[32m[I 00:53:04 InstallContribNbextensionsApp]\u001b[m Up to date: /Users/yeonsoo/Library/Jupyter/nbextensions/snippets_menu/snippets_submenus_python/numpy_ufuncs.js\r\n",
      "\u001b[32m[I 00:53:04 InstallContribNbextensionsApp]\u001b[m Up to date: /Users/yeonsoo/Library/Jupyter/nbextensions/snippets_menu/snippets_submenus_python/numba.js\r\n",
      "\u001b[32m[I 00:53:04 InstallContribNbextensionsApp]\u001b[m Up to date: /Users/yeonsoo/Library/Jupyter/nbextensions/snippets_menu/snippets_submenus_python/sympy_assumptions.js\r\n",
      "\u001b[32m[I 00:53:04 InstallContribNbextensionsApp]\u001b[m Up to date: /Users/yeonsoo/Library/Jupyter/nbextensions/snippets_menu/snippets_submenus_python/sympy.js\r\n",
      "\u001b[32m[I 00:53:04 InstallContribNbextensionsApp]\u001b[m Up to date: /Users/yeonsoo/Library/Jupyter/nbextensions/snippets_menu/snippets_submenus_python/numpy.js\r\n",
      "\u001b[32m[I 00:53:04 InstallContribNbextensionsApp]\u001b[m Up to date: /Users/yeonsoo/Library/Jupyter/nbextensions/snippets_menu/snippets_submenus_python/astropy.js\r\n",
      "\u001b[32m[I 00:53:04 InstallContribNbextensionsApp]\u001b[m Up to date: /Users/yeonsoo/Library/Jupyter/nbextensions/snippets_menu/snippets_submenus_python/pandas.js\r\n",
      "\u001b[32m[I 00:53:04 InstallContribNbextensionsApp]\u001b[m Up to date: /Users/yeonsoo/Library/Jupyter/nbextensions/snippets_menu/snippets_submenus_python/numpy_polynomial.js\r\n",
      "\u001b[32m[I 00:53:04 InstallContribNbextensionsApp]\u001b[m Up to date: /Users/yeonsoo/Library/Jupyter/nbextensions/snippets_menu/snippets_submenus_python/scipy_constants.js\r\n",
      "\u001b[32m[I 00:53:04 InstallContribNbextensionsApp]\u001b[m Up to date: /Users/yeonsoo/Library/Jupyter/nbextensions/snippets_menu/snippets_submenus_python/matplotlib.js\r\n",
      "\u001b[32m[I 00:53:04 InstallContribNbextensionsApp]\u001b[m Up to date: /Users/yeonsoo/Library/Jupyter/nbextensions/snippets_menu/snippets_submenus_python/sympy_functions.js\r\n",
      "\u001b[32m[I 00:53:04 InstallContribNbextensionsApp]\u001b[m Up to date: /Users/yeonsoo/Library/Jupyter/nbextensions/snippets_menu/snippets_submenus_python/h5py.js\r\n",
      "\u001b[32m[I 00:53:04 InstallContribNbextensionsApp]\u001b[m Up to date: /Users/yeonsoo/Library/Jupyter/nbextensions/snippets_menu/snippets_submenus_python/scipy_special.js\r\n",
      "\u001b[32m[I 00:53:04 InstallContribNbextensionsApp]\u001b[m Up to date: /Users/yeonsoo/Library/Jupyter/nbextensions/snippets_menu/snippets_submenus_python/python_regex.js\r\n",
      "\u001b[32m[I 00:53:04 InstallContribNbextensionsApp]\u001b[m Up to date: /Users/yeonsoo/Library/Jupyter/nbextensions/snippets_menu/snippets_submenus_python/python.js\r\n",
      "\u001b[32m[I 00:53:04 InstallContribNbextensionsApp]\u001b[m Up to date: /Users/yeonsoo/Library/Jupyter/nbextensions/snippets_menu/snippets_submenus_python/scipy.js\r\n",
      "\u001b[32m[I 00:53:04 InstallContribNbextensionsApp]\u001b[m - Validating: \u001b[32mOK\u001b[0m\r\n",
      "\u001b[32m[I 00:53:04 InstallContribNbextensionsApp]\u001b[m Installing /opt/homebrew/lib/python3.9/site-packages/jupyter_contrib_nbextensions/nbextensions/printview -> printview\r\n",
      "\u001b[32m[I 00:53:04 InstallContribNbextensionsApp]\u001b[m Up to date: /Users/yeonsoo/Library/Jupyter/nbextensions/printview/icon.png\r\n",
      "\u001b[32m[I 00:53:04 InstallContribNbextensionsApp]\u001b[m Up to date: /Users/yeonsoo/Library/Jupyter/nbextensions/printview/printview-button.png\r\n",
      "\u001b[32m[I 00:53:04 InstallContribNbextensionsApp]\u001b[m Up to date: /Users/yeonsoo/Library/Jupyter/nbextensions/printview/readme.md\r\n",
      "\u001b[32m[I 00:53:04 InstallContribNbextensionsApp]\u001b[m Up to date: /Users/yeonsoo/Library/Jupyter/nbextensions/printview/main.js\r\n",
      "\u001b[32m[I 00:53:04 InstallContribNbextensionsApp]\u001b[m Up to date: /Users/yeonsoo/Library/Jupyter/nbextensions/printview/printview.yaml\r\n",
      "\u001b[32m[I 00:53:04 InstallContribNbextensionsApp]\u001b[m - Validating: \u001b[32mOK\u001b[0m\r\n",
      "\u001b[32m[I 00:53:04 InstallContribNbextensionsApp]\u001b[m Installing /opt/homebrew/lib/python3.9/site-packages/jupyter_contrib_nbextensions/nbextensions/export_embedded -> export_embedded\r\n",
      "\u001b[32m[I 00:53:04 InstallContribNbextensionsApp]\u001b[m Up to date: /Users/yeonsoo/Library/Jupyter/nbextensions/export_embedded/export_embedded.yaml\r\n",
      "\u001b[32m[I 00:53:04 InstallContribNbextensionsApp]\u001b[m Up to date: /Users/yeonsoo/Library/Jupyter/nbextensions/export_embedded/icon.png\r\n",
      "\u001b[32m[I 00:53:04 InstallContribNbextensionsApp]\u001b[m Up to date: /Users/yeonsoo/Library/Jupyter/nbextensions/export_embedded/readme.md\r\n",
      "\u001b[32m[I 00:53:04 InstallContribNbextensionsApp]\u001b[m Up to date: /Users/yeonsoo/Library/Jupyter/nbextensions/export_embedded/main.js\r\n",
      "\u001b[32m[I 00:53:04 InstallContribNbextensionsApp]\u001b[m - Validating: \u001b[32mOK\u001b[0m\r\n",
      "\u001b[32m[I 00:53:04 InstallContribNbextensionsApp]\u001b[m Installing /opt/homebrew/lib/python3.9/site-packages/jupyter_contrib_nbextensions/nbextensions/autoscroll -> autoscroll\r\n",
      "\u001b[32m[I 00:53:04 InstallContribNbextensionsApp]\u001b[m Up to date: /Users/yeonsoo/Library/Jupyter/nbextensions/autoscroll/icon.png\r\n",
      "\u001b[32m[I 00:53:04 InstallContribNbextensionsApp]\u001b[m Up to date: /Users/yeonsoo/Library/Jupyter/nbextensions/autoscroll/autoscroll.yaml\r\n",
      "\u001b[32m[I 00:53:04 InstallContribNbextensionsApp]\u001b[m Up to date: /Users/yeonsoo/Library/Jupyter/nbextensions/autoscroll/README.md\r\n",
      "\u001b[32m[I 00:53:04 InstallContribNbextensionsApp]\u001b[m Up to date: /Users/yeonsoo/Library/Jupyter/nbextensions/autoscroll/main.js\r\n",
      "\u001b[32m[I 00:53:04 InstallContribNbextensionsApp]\u001b[m - Validating: \u001b[32mOK\u001b[0m\r\n",
      "\u001b[32m[I 00:53:04 InstallContribNbextensionsApp]\u001b[m Installing /opt/homebrew/lib/python3.9/site-packages/jupyter_contrib_nbextensions/nbextensions/hide_input -> hide_input\r\n",
      "\u001b[32m[I 00:53:04 InstallContribNbextensionsApp]\u001b[m Up to date: /Users/yeonsoo/Library/Jupyter/nbextensions/hide_input/icon.png\r\n",
      "\u001b[32m[I 00:53:04 InstallContribNbextensionsApp]\u001b[m Up to date: /Users/yeonsoo/Library/Jupyter/nbextensions/hide_input/readme.md\r\n",
      "\u001b[32m[I 00:53:04 InstallContribNbextensionsApp]\u001b[m Up to date: /Users/yeonsoo/Library/Jupyter/nbextensions/hide_input/main.js\r\n",
      "\u001b[32m[I 00:53:04 InstallContribNbextensionsApp]\u001b[m Up to date: /Users/yeonsoo/Library/Jupyter/nbextensions/hide_input/hide-input.yaml\r\n",
      "\u001b[32m[I 00:53:04 InstallContribNbextensionsApp]\u001b[m - Validating: \u001b[32mOK\u001b[0m\r\n",
      "\u001b[32m[I 00:53:04 InstallContribNbextensionsApp]\u001b[m Installing /opt/homebrew/lib/python3.9/site-packages/jupyter_contrib_nbextensions/nbextensions/hide_input_all -> hide_input_all\r\n",
      "\u001b[32m[I 00:53:04 InstallContribNbextensionsApp]\u001b[m Up to date: /Users/yeonsoo/Library/Jupyter/nbextensions/hide_input_all/icon.png\r\n",
      "\u001b[32m[I 00:53:04 InstallContribNbextensionsApp]\u001b[m Up to date: /Users/yeonsoo/Library/Jupyter/nbextensions/hide_input_all/hide_input_all.yaml\r\n",
      "\u001b[32m[I 00:53:04 InstallContribNbextensionsApp]\u001b[m Up to date: /Users/yeonsoo/Library/Jupyter/nbextensions/hide_input_all/hide_input_all_show.png\r\n",
      "\u001b[32m[I 00:53:04 InstallContribNbextensionsApp]\u001b[m Up to date: /Users/yeonsoo/Library/Jupyter/nbextensions/hide_input_all/readme.md\r\n",
      "\u001b[32m[I 00:53:04 InstallContribNbextensionsApp]\u001b[m Up to date: /Users/yeonsoo/Library/Jupyter/nbextensions/hide_input_all/main.js\r\n",
      "\u001b[32m[I 00:53:04 InstallContribNbextensionsApp]\u001b[m Up to date: /Users/yeonsoo/Library/Jupyter/nbextensions/hide_input_all/hide_input_all_hide.png\r\n",
      "\u001b[32m[I 00:53:04 InstallContribNbextensionsApp]\u001b[m - Validating: \u001b[32mOK\u001b[0m\r\n",
      "\u001b[32m[I 00:53:04 InstallContribNbextensionsApp]\u001b[m Installing /opt/homebrew/lib/python3.9/site-packages/jupyter_contrib_nbextensions/nbextensions/keyboard_shortcut_editor -> keyboard_shortcut_editor\r\n",
      "\u001b[32m[I 00:53:04 InstallContribNbextensionsApp]\u001b[m Up to date: /Users/yeonsoo/Library/Jupyter/nbextensions/keyboard_shortcut_editor/keyboard_shortcut_editor.yaml\r\n",
      "\u001b[32m[I 00:53:04 InstallContribNbextensionsApp]\u001b[m Up to date: /Users/yeonsoo/Library/Jupyter/nbextensions/keyboard_shortcut_editor/icon.png\r\n",
      "\u001b[32m[I 00:53:04 InstallContribNbextensionsApp]\u001b[m Up to date: /Users/yeonsoo/Library/Jupyter/nbextensions/keyboard_shortcut_editor/readme_comma.png\r\n",
      "\u001b[32m[I 00:53:04 InstallContribNbextensionsApp]\u001b[m Up to date: /Users/yeonsoo/Library/Jupyter/nbextensions/keyboard_shortcut_editor/readme_shortcut_editor_blank.png\r\n",
      "\u001b[32m[I 00:53:04 InstallContribNbextensionsApp]\u001b[m Up to date: /Users/yeonsoo/Library/Jupyter/nbextensions/keyboard_shortcut_editor/readme_shortcut_editor_success.png\r\n",
      "\u001b[32m[I 00:53:04 InstallContribNbextensionsApp]\u001b[m Up to date: /Users/yeonsoo/Library/Jupyter/nbextensions/keyboard_shortcut_editor/main.css\r\n",
      "\u001b[32m[I 00:53:04 InstallContribNbextensionsApp]\u001b[m Up to date: /Users/yeonsoo/Library/Jupyter/nbextensions/keyboard_shortcut_editor/README.md\r\n",
      "\u001b[32m[I 00:53:04 InstallContribNbextensionsApp]\u001b[m Up to date: /Users/yeonsoo/Library/Jupyter/nbextensions/keyboard_shortcut_editor/readme_reset_disabled.png\r\n",
      "\u001b[32m[I 00:53:04 InstallContribNbextensionsApp]\u001b[m Up to date: /Users/yeonsoo/Library/Jupyter/nbextensions/keyboard_shortcut_editor/readme_add_new_link.png\r\n",
      "\u001b[32m[I 00:53:04 InstallContribNbextensionsApp]\u001b[m Up to date: /Users/yeonsoo/Library/Jupyter/nbextensions/keyboard_shortcut_editor/main.js\r\n",
      "\u001b[32m[I 00:53:04 InstallContribNbextensionsApp]\u001b[m Up to date: /Users/yeonsoo/Library/Jupyter/nbextensions/keyboard_shortcut_editor/readme_dropdown.png\r\n",
      "\u001b[32m[I 00:53:04 InstallContribNbextensionsApp]\u001b[m Up to date: /Users/yeonsoo/Library/Jupyter/nbextensions/keyboard_shortcut_editor/quickhelp_shim.js\r\n",
      "\u001b[32m[I 00:53:04 InstallContribNbextensionsApp]\u001b[m Up to date: /Users/yeonsoo/Library/Jupyter/nbextensions/keyboard_shortcut_editor/readme_add_new_select_action.png\r\n",
      "\u001b[32m[I 00:53:04 InstallContribNbextensionsApp]\u001b[m Up to date: /Users/yeonsoo/Library/Jupyter/nbextensions/keyboard_shortcut_editor/kse_components.js\r\n",
      "\u001b[32m[I 00:53:04 InstallContribNbextensionsApp]\u001b[m Up to date: /Users/yeonsoo/Library/Jupyter/nbextensions/keyboard_shortcut_editor/readme_undefined_key.png\r\n",
      "\u001b[32m[I 00:53:04 InstallContribNbextensionsApp]\u001b[m Up to date: /Users/yeonsoo/Library/Jupyter/nbextensions/keyboard_shortcut_editor/readme_conflict.png\r\n",
      "\u001b[32m[I 00:53:04 InstallContribNbextensionsApp]\u001b[m Up to date: /Users/yeonsoo/Library/Jupyter/nbextensions/keyboard_shortcut_editor/readme_menu_item.png\r\n",
      "\u001b[32m[I 00:53:04 InstallContribNbextensionsApp]\u001b[m - Validating: \u001b[32mOK\u001b[0m\r\n",
      "\u001b[32m[I 00:53:04 InstallContribNbextensionsApp]\u001b[m Installing /opt/homebrew/lib/python3.9/site-packages/jupyter_contrib_nbextensions/nbextensions/help_panel -> help_panel\r\n",
      "\u001b[32m[I 00:53:04 InstallContribNbextensionsApp]\u001b[m Up to date: /Users/yeonsoo/Library/Jupyter/nbextensions/help_panel/icon.png\r\n",
      "\u001b[32m[I 00:53:04 InstallContribNbextensionsApp]\u001b[m Up to date: /Users/yeonsoo/Library/Jupyter/nbextensions/help_panel/help_panel_ext.png\r\n",
      "\u001b[32m[I 00:53:04 InstallContribNbextensionsApp]\u001b[m Up to date: /Users/yeonsoo/Library/Jupyter/nbextensions/help_panel/readme.md\r\n",
      "\u001b[32m[I 00:53:04 InstallContribNbextensionsApp]\u001b[m Up to date: /Users/yeonsoo/Library/Jupyter/nbextensions/help_panel/help_panel_ext_fullscreen.png\r\n",
      "\u001b[32m[I 00:53:04 InstallContribNbextensionsApp]\u001b[m Up to date: /Users/yeonsoo/Library/Jupyter/nbextensions/help_panel/help_panel.yaml\r\n",
      "\u001b[32m[I 00:53:04 InstallContribNbextensionsApp]\u001b[m Up to date: /Users/yeonsoo/Library/Jupyter/nbextensions/help_panel/help_panel.css\r\n",
      "\u001b[32m[I 00:53:04 InstallContribNbextensionsApp]\u001b[m Up to date: /Users/yeonsoo/Library/Jupyter/nbextensions/help_panel/help_panel.js\r\n",
      "\u001b[32m[I 00:53:04 InstallContribNbextensionsApp]\u001b[m Up to date: /Users/yeonsoo/Library/Jupyter/nbextensions/help_panel/img/handle-v.png\r\n",
      "\u001b[32m[I 00:53:04 InstallContribNbextensionsApp]\u001b[m - Validating: \u001b[32mOK\u001b[0m\r\n",
      "\u001b[32m[I 00:53:04 InstallContribNbextensionsApp]\u001b[m Installing /opt/homebrew/lib/python3.9/site-packages/jupyter_contrib_nbextensions/nbextensions/move_selected_cells -> move_selected_cells\r\n",
      "\u001b[32m[I 00:53:04 InstallContribNbextensionsApp]\u001b[m Up to date: /Users/yeonsoo/Library/Jupyter/nbextensions/move_selected_cells/README.md\r\n",
      "\u001b[32m[I 00:53:04 InstallContribNbextensionsApp]\u001b[m Up to date: /Users/yeonsoo/Library/Jupyter/nbextensions/move_selected_cells/main.js\r\n",
      "\u001b[32m[I 00:53:04 InstallContribNbextensionsApp]\u001b[m Up to date: /Users/yeonsoo/Library/Jupyter/nbextensions/move_selected_cells/move_selected_cells.yaml\r\n",
      "\u001b[32m[I 00:53:04 InstallContribNbextensionsApp]\u001b[m - Validating: \u001b[32mOK\u001b[0m\r\n",
      "\u001b[32m[I 00:53:04 InstallContribNbextensionsApp]\u001b[m Installing /opt/homebrew/lib/python3.9/site-packages/jupyter_contrib_nbextensions/nbextensions/zenmode -> zenmode\r\n",
      "\u001b[32m[I 00:53:04 InstallContribNbextensionsApp]\u001b[m Up to date: /Users/yeonsoo/Library/Jupyter/nbextensions/zenmode/main.css\r\n",
      "\u001b[32m[I 00:53:04 InstallContribNbextensionsApp]\u001b[m Up to date: /Users/yeonsoo/Library/Jupyter/nbextensions/zenmode/README.md\r\n",
      "\u001b[32m[I 00:53:04 InstallContribNbextensionsApp]\u001b[m Up to date: /Users/yeonsoo/Library/Jupyter/nbextensions/zenmode/main.js\r\n",
      "\u001b[32m[I 00:53:04 InstallContribNbextensionsApp]\u001b[m Up to date: /Users/yeonsoo/Library/Jupyter/nbextensions/zenmode/zenmode.yaml\r\n",
      "\u001b[32m[I 00:53:04 InstallContribNbextensionsApp]\u001b[m Up to date: /Users/yeonsoo/Library/Jupyter/nbextensions/zenmode/images/back12.jpg\r\n",
      "\u001b[32m[I 00:53:04 InstallContribNbextensionsApp]\u001b[m Up to date: /Users/yeonsoo/Library/Jupyter/nbextensions/zenmode/images/back11.jpg\r\n",
      "\u001b[32m[I 00:53:04 InstallContribNbextensionsApp]\u001b[m Up to date: /Users/yeonsoo/Library/Jupyter/nbextensions/zenmode/images/back2.jpg\r\n",
      "\u001b[32m[I 00:53:04 InstallContribNbextensionsApp]\u001b[m Up to date: /Users/yeonsoo/Library/Jupyter/nbextensions/zenmode/images/back3.jpg\r\n",
      "\u001b[32m[I 00:53:04 InstallContribNbextensionsApp]\u001b[m Up to date: /Users/yeonsoo/Library/Jupyter/nbextensions/zenmode/images/back1.jpg\r\n",
      "\u001b[32m[I 00:53:04 InstallContribNbextensionsApp]\u001b[m Up to date: /Users/yeonsoo/Library/Jupyter/nbextensions/zenmode/images/ipynblogo1.png\r\n",
      "\u001b[32m[I 00:53:04 InstallContribNbextensionsApp]\u001b[m Up to date: /Users/yeonsoo/Library/Jupyter/nbextensions/zenmode/images/ipynblogo0.png\r\n",
      "\u001b[32m[I 00:53:04 InstallContribNbextensionsApp]\u001b[m Up to date: /Users/yeonsoo/Library/Jupyter/nbextensions/zenmode/images/back21.jpg\r\n",
      "\u001b[32m[I 00:53:04 InstallContribNbextensionsApp]\u001b[m Up to date: /Users/yeonsoo/Library/Jupyter/nbextensions/zenmode/images/back22.jpg\r\n",
      "\u001b[32m[I 00:53:04 InstallContribNbextensionsApp]\u001b[m - Validating: \u001b[32mOK\u001b[0m\r\n",
      "\u001b[32m[I 00:53:04 InstallContribNbextensionsApp]\u001b[m Installing /opt/homebrew/lib/python3.9/site-packages/jupyter_contrib_nbextensions/nbextensions/skip-traceback -> skip-traceback\r\n",
      "\u001b[32m[I 00:53:04 InstallContribNbextensionsApp]\u001b[m Up to date: /Users/yeonsoo/Library/Jupyter/nbextensions/skip-traceback/icon.png\r\n",
      "\u001b[32m[I 00:53:04 InstallContribNbextensionsApp]\u001b[m Up to date: /Users/yeonsoo/Library/Jupyter/nbextensions/skip-traceback/traceback.png\r\n",
      "\u001b[32m[I 00:53:04 InstallContribNbextensionsApp]\u001b[m Up to date: /Users/yeonsoo/Library/Jupyter/nbextensions/skip-traceback/readme.md\r\n",
      "\u001b[32m[I 00:53:04 InstallContribNbextensionsApp]\u001b[m Up to date: /Users/yeonsoo/Library/Jupyter/nbextensions/skip-traceback/main.js\r\n",
      "\u001b[32m[I 00:53:04 InstallContribNbextensionsApp]\u001b[m Up to date: /Users/yeonsoo/Library/Jupyter/nbextensions/skip-traceback/skip-traceback.yaml\r\n",
      "\u001b[32m[I 00:53:04 InstallContribNbextensionsApp]\u001b[m Up to date: /Users/yeonsoo/Library/Jupyter/nbextensions/skip-traceback/skip-traceback.png\r\n",
      "\u001b[32m[I 00:53:04 InstallContribNbextensionsApp]\u001b[m - Validating: \u001b[32mOK\u001b[0m\r\n",
      "\u001b[32m[I 00:53:04 InstallContribNbextensionsApp]\u001b[m Installing /opt/homebrew/lib/python3.9/site-packages/jupyter_contrib_nbextensions/nbextensions/python-markdown -> python-markdown\r\n",
      "\u001b[32m[I 00:53:04 InstallContribNbextensionsApp]\u001b[m Up to date: /Users/yeonsoo/Library/Jupyter/nbextensions/python-markdown/untrusted.png\r\n",
      "\u001b[32m[I 00:53:04 InstallContribNbextensionsApp]\u001b[m Up to date: /Users/yeonsoo/Library/Jupyter/nbextensions/python-markdown/python-markdown-pre.png\r\n",
      "\u001b[32m[I 00:53:04 InstallContribNbextensionsApp]\u001b[m Up to date: /Users/yeonsoo/Library/Jupyter/nbextensions/python-markdown/main.css\r\n",
      "\u001b[32m[I 00:53:04 InstallContribNbextensionsApp]\u001b[m Up to date: /Users/yeonsoo/Library/Jupyter/nbextensions/python-markdown/readme.md\r\n",
      "\u001b[32m[I 00:53:04 InstallContribNbextensionsApp]\u001b[m Up to date: /Users/yeonsoo/Library/Jupyter/nbextensions/python-markdown/main.js\r\n",
      "\u001b[32m[I 00:53:04 InstallContribNbextensionsApp]\u001b[m Up to date: /Users/yeonsoo/Library/Jupyter/nbextensions/python-markdown/python-markdown.png\r\n",
      "\u001b[32m[I 00:53:04 InstallContribNbextensionsApp]\u001b[m Up to date: /Users/yeonsoo/Library/Jupyter/nbextensions/python-markdown/trusted.png\r\n",
      "\u001b[32m[I 00:53:04 InstallContribNbextensionsApp]\u001b[m Up to date: /Users/yeonsoo/Library/Jupyter/nbextensions/python-markdown/python-markdown.yaml\r\n",
      "\u001b[32m[I 00:53:04 InstallContribNbextensionsApp]\u001b[m Up to date: /Users/yeonsoo/Library/Jupyter/nbextensions/python-markdown/python-markdown-post.png\r\n",
      "\u001b[32m[I 00:53:04 InstallContribNbextensionsApp]\u001b[m - Validating: \u001b[32mOK\u001b[0m\r\n",
      "\u001b[32m[I 00:53:04 InstallContribNbextensionsApp]\u001b[m Installing /opt/homebrew/lib/python3.9/site-packages/jupyter_contrib_nbextensions/nbextensions/codefolding -> codefolding\r\n",
      "\u001b[32m[I 00:53:04 InstallContribNbextensionsApp]\u001b[m Up to date: /Users/yeonsoo/Library/Jupyter/nbextensions/codefolding/codefolding_editor.yaml\r\n",
      "\u001b[32m[I 00:53:04 InstallContribNbextensionsApp]\u001b[m Up to date: /Users/yeonsoo/Library/Jupyter/nbextensions/codefolding/icon.png\r\n",
      "\u001b[32m[I 00:53:04 InstallContribNbextensionsApp]\u001b[m Up to date: /Users/yeonsoo/Library/Jupyter/nbextensions/codefolding/codefolding_firstline_folded.png\r\n",
      "\u001b[32m[I 00:53:04 InstallContribNbextensionsApp]\u001b[m Up to date: /Users/yeonsoo/Library/Jupyter/nbextensions/codefolding/codefolding_indent_folded_2.png\r\n",
      "\u001b[32m[I 00:53:04 InstallContribNbextensionsApp]\u001b[m Up to date: /Users/yeonsoo/Library/Jupyter/nbextensions/codefolding/codefolding_indent_folded_1.png\r\n",
      "\u001b[32m[I 00:53:04 InstallContribNbextensionsApp]\u001b[m Up to date: /Users/yeonsoo/Library/Jupyter/nbextensions/codefolding/edit.js\r\n",
      "\u001b[32m[I 00:53:04 InstallContribNbextensionsApp]\u001b[m Up to date: /Users/yeonsoo/Library/Jupyter/nbextensions/codefolding/magic-fold.js\r\n",
      "\u001b[32m[I 00:53:04 InstallContribNbextensionsApp]\u001b[m Up to date: /Users/yeonsoo/Library/Jupyter/nbextensions/codefolding/firstline-fold.js\r\n",
      "\u001b[32m[I 00:53:04 InstallContribNbextensionsApp]\u001b[m Up to date: /Users/yeonsoo/Library/Jupyter/nbextensions/codefolding/codefolding_firstline_unfolded.png\r\n",
      "\u001b[32m[I 00:53:04 InstallContribNbextensionsApp]\u001b[m Up to date: /Users/yeonsoo/Library/Jupyter/nbextensions/codefolding/readme.md\r\n",
      "\u001b[32m[I 00:53:04 InstallContribNbextensionsApp]\u001b[m Up to date: /Users/yeonsoo/Library/Jupyter/nbextensions/codefolding/main.js\r\n",
      "\u001b[32m[I 00:53:04 InstallContribNbextensionsApp]\u001b[m Up to date: /Users/yeonsoo/Library/Jupyter/nbextensions/codefolding/magic-unfolded.png\r\n",
      "\u001b[32m[I 00:53:04 InstallContribNbextensionsApp]\u001b[m Up to date: /Users/yeonsoo/Library/Jupyter/nbextensions/codefolding/foldgutter.css\r\n",
      "\u001b[32m[I 00:53:04 InstallContribNbextensionsApp]\u001b[m Up to date: /Users/yeonsoo/Library/Jupyter/nbextensions/codefolding/magic-folded.png\r\n",
      "\u001b[32m[I 00:53:04 InstallContribNbextensionsApp]\u001b[m Up to date: /Users/yeonsoo/Library/Jupyter/nbextensions/codefolding/codefolding.yaml\r\n",
      "\u001b[32m[I 00:53:04 InstallContribNbextensionsApp]\u001b[m Up to date: /Users/yeonsoo/Library/Jupyter/nbextensions/codefolding/codefolding_editor.png\r\n",
      "\u001b[32m[I 00:53:04 InstallContribNbextensionsApp]\u001b[m Up to date: /Users/yeonsoo/Library/Jupyter/nbextensions/codefolding/codefolding_indent_unfolded.png\r\n",
      "\u001b[32m[I 00:53:04 InstallContribNbextensionsApp]\u001b[m - Validating: \u001b[32mOK\u001b[0m\r\n",
      "\u001b[32m[I 00:53:04 InstallContribNbextensionsApp]\u001b[m Installing /opt/homebrew/lib/python3.9/site-packages/jupyter_contrib_nbextensions/nbextensions/codefolding -> codefolding\r\n",
      "\u001b[32m[I 00:53:04 InstallContribNbextensionsApp]\u001b[m Up to date: /Users/yeonsoo/Library/Jupyter/nbextensions/codefolding/codefolding_editor.yaml\r\n",
      "\u001b[32m[I 00:53:04 InstallContribNbextensionsApp]\u001b[m Up to date: /Users/yeonsoo/Library/Jupyter/nbextensions/codefolding/icon.png\r\n",
      "\u001b[32m[I 00:53:04 InstallContribNbextensionsApp]\u001b[m Up to date: /Users/yeonsoo/Library/Jupyter/nbextensions/codefolding/codefolding_firstline_folded.png\r\n",
      "\u001b[32m[I 00:53:04 InstallContribNbextensionsApp]\u001b[m Up to date: /Users/yeonsoo/Library/Jupyter/nbextensions/codefolding/codefolding_indent_folded_2.png\r\n",
      "\u001b[32m[I 00:53:04 InstallContribNbextensionsApp]\u001b[m Up to date: /Users/yeonsoo/Library/Jupyter/nbextensions/codefolding/codefolding_indent_folded_1.png\r\n",
      "\u001b[32m[I 00:53:04 InstallContribNbextensionsApp]\u001b[m Up to date: /Users/yeonsoo/Library/Jupyter/nbextensions/codefolding/edit.js\r\n",
      "\u001b[32m[I 00:53:04 InstallContribNbextensionsApp]\u001b[m Up to date: /Users/yeonsoo/Library/Jupyter/nbextensions/codefolding/magic-fold.js\r\n",
      "\u001b[32m[I 00:53:04 InstallContribNbextensionsApp]\u001b[m Up to date: /Users/yeonsoo/Library/Jupyter/nbextensions/codefolding/firstline-fold.js\r\n",
      "\u001b[32m[I 00:53:04 InstallContribNbextensionsApp]\u001b[m Up to date: /Users/yeonsoo/Library/Jupyter/nbextensions/codefolding/codefolding_firstline_unfolded.png\r\n",
      "\u001b[32m[I 00:53:04 InstallContribNbextensionsApp]\u001b[m Up to date: /Users/yeonsoo/Library/Jupyter/nbextensions/codefolding/readme.md\r\n",
      "\u001b[32m[I 00:53:04 InstallContribNbextensionsApp]\u001b[m Up to date: /Users/yeonsoo/Library/Jupyter/nbextensions/codefolding/main.js\r\n",
      "\u001b[32m[I 00:53:04 InstallContribNbextensionsApp]\u001b[m Up to date: /Users/yeonsoo/Library/Jupyter/nbextensions/codefolding/magic-unfolded.png\r\n",
      "\u001b[32m[I 00:53:04 InstallContribNbextensionsApp]\u001b[m Up to date: /Users/yeonsoo/Library/Jupyter/nbextensions/codefolding/foldgutter.css\r\n",
      "\u001b[32m[I 00:53:04 InstallContribNbextensionsApp]\u001b[m Up to date: /Users/yeonsoo/Library/Jupyter/nbextensions/codefolding/magic-folded.png\r\n",
      "\u001b[32m[I 00:53:04 InstallContribNbextensionsApp]\u001b[m Up to date: /Users/yeonsoo/Library/Jupyter/nbextensions/codefolding/codefolding.yaml\r\n",
      "\u001b[32m[I 00:53:04 InstallContribNbextensionsApp]\u001b[m Up to date: /Users/yeonsoo/Library/Jupyter/nbextensions/codefolding/codefolding_editor.png\r\n",
      "\u001b[32m[I 00:53:04 InstallContribNbextensionsApp]\u001b[m Up to date: /Users/yeonsoo/Library/Jupyter/nbextensions/codefolding/codefolding_indent_unfolded.png\r\n",
      "\u001b[32m[I 00:53:04 InstallContribNbextensionsApp]\u001b[m - Validating: \u001b[32mOK\u001b[0m\r\n",
      "\u001b[32m[I 00:53:04 InstallContribNbextensionsApp]\u001b[m Installing /opt/homebrew/lib/python3.9/site-packages/jupyter_contrib_nbextensions/nbextensions/collapsible_headings -> collapsible_headings\r\n",
      "\u001b[32m[I 00:53:04 InstallContribNbextensionsApp]\u001b[m Up to date: /Users/yeonsoo/Library/Jupyter/nbextensions/collapsible_headings/icon.png\r\n",
      "\u001b[32m[I 00:53:04 InstallContribNbextensionsApp]\u001b[m Up to date: /Users/yeonsoo/Library/Jupyter/nbextensions/collapsible_headings/screenshot.png\r\n",
      "\u001b[32m[I 00:53:04 InstallContribNbextensionsApp]\u001b[m Up to date: /Users/yeonsoo/Library/Jupyter/nbextensions/collapsible_headings/main.css\r\n",
      "\u001b[32m[I 00:53:04 InstallContribNbextensionsApp]\u001b[m Up to date: /Users/yeonsoo/Library/Jupyter/nbextensions/collapsible_headings/readme.md\r\n",
      "\u001b[32m[I 00:53:04 InstallContribNbextensionsApp]\u001b[m Up to date: /Users/yeonsoo/Library/Jupyter/nbextensions/collapsible_headings/main.js\r\n",
      "\u001b[32m[I 00:53:04 InstallContribNbextensionsApp]\u001b[m Up to date: /Users/yeonsoo/Library/Jupyter/nbextensions/collapsible_headings/collapsible_headings.yaml\r\n",
      "\u001b[32m[I 00:53:04 InstallContribNbextensionsApp]\u001b[m - Validating: \u001b[32mOK\u001b[0m\r\n",
      "\u001b[32m[I 00:53:04 InstallContribNbextensionsApp]\u001b[m Installing /opt/homebrew/lib/python3.9/site-packages/jupyter_contrib_nbextensions/nbextensions/exercise -> exercise\r\n",
      "\u001b[32m[I 00:53:04 InstallContribNbextensionsApp]\u001b[m Up to date: /Users/yeonsoo/Library/Jupyter/nbextensions/exercise/icon.png\r\n",
      "\u001b[32m[I 00:53:04 InstallContribNbextensionsApp]\u001b[m Up to date: /Users/yeonsoo/Library/Jupyter/nbextensions/exercise/history.md\r\n",
      "\u001b[32m[I 00:53:04 InstallContribNbextensionsApp]\u001b[m Up to date: /Users/yeonsoo/Library/Jupyter/nbextensions/exercise/main.css\r\n",
      "\u001b[32m[I 00:53:04 InstallContribNbextensionsApp]\u001b[m Up to date: /Users/yeonsoo/Library/Jupyter/nbextensions/exercise/image.gif\r\n",
      "\u001b[32m[I 00:53:04 InstallContribNbextensionsApp]\u001b[m Up to date: /Users/yeonsoo/Library/Jupyter/nbextensions/exercise/readme.md\r\n",
      "\u001b[32m[I 00:53:04 InstallContribNbextensionsApp]\u001b[m Up to date: /Users/yeonsoo/Library/Jupyter/nbextensions/exercise/main.js\r\n",
      "\u001b[32m[I 00:53:04 InstallContribNbextensionsApp]\u001b[m Up to date: /Users/yeonsoo/Library/Jupyter/nbextensions/exercise/exercise.yaml\r\n",
      "\u001b[32m[I 00:53:04 InstallContribNbextensionsApp]\u001b[m - Validating: \u001b[32mOK\u001b[0m\r\n",
      "\u001b[32m[I 00:53:04 InstallContribNbextensionsApp]\u001b[m Installing /opt/homebrew/lib/python3.9/site-packages/jupyter_contrib_nbextensions/nbextensions/codemirror_mode_extensions -> codemirror_mode_extensions\r\n",
      "\u001b[32m[I 00:53:04 InstallContribNbextensionsApp]\u001b[m Up to date: /Users/yeonsoo/Library/Jupyter/nbextensions/codemirror_mode_extensions/codemirror_mode_extensions.yaml\r\n",
      "\u001b[32m[I 00:53:04 InstallContribNbextensionsApp]\u001b[m Up to date: /Users/yeonsoo/Library/Jupyter/nbextensions/codemirror_mode_extensions/main.js\r\n",
      "\u001b[32m[I 00:53:04 InstallContribNbextensionsApp]\u001b[m - Validating: \u001b[32mOK\u001b[0m\r\n",
      "\u001b[32m[I 00:53:04 InstallContribNbextensionsApp]\u001b[m Installing /opt/homebrew/lib/python3.9/site-packages/jupyter_contrib_nbextensions/nbextensions/ruler -> ruler\r\n",
      "\u001b[32m[I 00:53:04 InstallContribNbextensionsApp]\u001b[m Up to date: /Users/yeonsoo/Library/Jupyter/nbextensions/ruler/icon.png\r\n",
      "\u001b[32m[I 00:53:04 InstallContribNbextensionsApp]\u001b[m Up to date: /Users/yeonsoo/Library/Jupyter/nbextensions/ruler/edit.js\r\n",
      "\u001b[32m[I 00:53:04 InstallContribNbextensionsApp]\u001b[m Up to date: /Users/yeonsoo/Library/Jupyter/nbextensions/ruler/ruler_editor.yaml\r\n",
      "\u001b[32m[I 00:53:04 InstallContribNbextensionsApp]\u001b[m Up to date: /Users/yeonsoo/Library/Jupyter/nbextensions/ruler/readme.md\r\n",
      "\u001b[32m[I 00:53:04 InstallContribNbextensionsApp]\u001b[m Up to date: /Users/yeonsoo/Library/Jupyter/nbextensions/ruler/main.js\r\n",
      "\u001b[32m[I 00:53:04 InstallContribNbextensionsApp]\u001b[m Up to date: /Users/yeonsoo/Library/Jupyter/nbextensions/ruler/ruler.yaml\r\n",
      "\u001b[32m[I 00:53:04 InstallContribNbextensionsApp]\u001b[m - Validating: \u001b[32mOK\u001b[0m\r\n",
      "\u001b[32m[I 00:53:04 InstallContribNbextensionsApp]\u001b[m Installing /opt/homebrew/lib/python3.9/site-packages/jupyter_contrib_nbextensions/nbextensions/ruler -> ruler\r\n",
      "\u001b[32m[I 00:53:04 InstallContribNbextensionsApp]\u001b[m Up to date: /Users/yeonsoo/Library/Jupyter/nbextensions/ruler/icon.png\r\n",
      "\u001b[32m[I 00:53:04 InstallContribNbextensionsApp]\u001b[m Up to date: /Users/yeonsoo/Library/Jupyter/nbextensions/ruler/edit.js\r\n",
      "\u001b[32m[I 00:53:04 InstallContribNbextensionsApp]\u001b[m Up to date: /Users/yeonsoo/Library/Jupyter/nbextensions/ruler/ruler_editor.yaml\r\n",
      "\u001b[32m[I 00:53:04 InstallContribNbextensionsApp]\u001b[m Up to date: /Users/yeonsoo/Library/Jupyter/nbextensions/ruler/readme.md\r\n",
      "\u001b[32m[I 00:53:04 InstallContribNbextensionsApp]\u001b[m Up to date: /Users/yeonsoo/Library/Jupyter/nbextensions/ruler/main.js\r\n",
      "\u001b[32m[I 00:53:04 InstallContribNbextensionsApp]\u001b[m Up to date: /Users/yeonsoo/Library/Jupyter/nbextensions/ruler/ruler.yaml\r\n",
      "\u001b[32m[I 00:53:04 InstallContribNbextensionsApp]\u001b[m - Validating: \u001b[32mOK\u001b[0m\r\n",
      "\u001b[32m[I 00:53:04 InstallContribNbextensionsApp]\u001b[m Installing /opt/homebrew/lib/python3.9/site-packages/jupyter_contrib_nbextensions/nbextensions/contrib_nbextensions_help_item -> contrib_nbextensions_help_item\r\n",
      "\u001b[32m[I 00:53:04 InstallContribNbextensionsApp]\u001b[m Up to date: /Users/yeonsoo/Library/Jupyter/nbextensions/contrib_nbextensions_help_item/README.md\r\n",
      "\u001b[32m[I 00:53:04 InstallContribNbextensionsApp]\u001b[m Up to date: /Users/yeonsoo/Library/Jupyter/nbextensions/contrib_nbextensions_help_item/main.js\r\n",
      "\u001b[32m[I 00:53:04 InstallContribNbextensionsApp]\u001b[m Up to date: /Users/yeonsoo/Library/Jupyter/nbextensions/contrib_nbextensions_help_item/contrib_nbextensions_help_item.yaml\r\n",
      "\u001b[32m[I 00:53:04 InstallContribNbextensionsApp]\u001b[m - Validating: \u001b[32mOK\u001b[0m\r\n",
      "\u001b[32m[I 00:53:04 InstallContribNbextensionsApp]\u001b[m Installing /opt/homebrew/lib/python3.9/site-packages/jupyter_contrib_nbextensions/nbextensions/datestamper -> datestamper\r\n",
      "\u001b[32m[I 00:53:04 InstallContribNbextensionsApp]\u001b[m Up to date: /Users/yeonsoo/Library/Jupyter/nbextensions/datestamper/icon.png\r\n",
      "\u001b[32m[I 00:53:04 InstallContribNbextensionsApp]\u001b[m Up to date: /Users/yeonsoo/Library/Jupyter/nbextensions/datestamper/main.yaml\r\n",
      "\u001b[32m[I 00:53:04 InstallContribNbextensionsApp]\u001b[m Up to date: /Users/yeonsoo/Library/Jupyter/nbextensions/datestamper/readme.md\r\n",
      "\u001b[32m[I 00:53:04 InstallContribNbextensionsApp]\u001b[m Up to date: /Users/yeonsoo/Library/Jupyter/nbextensions/datestamper/main.js\r\n",
      "\u001b[32m[I 00:53:04 InstallContribNbextensionsApp]\u001b[m - Validating: \u001b[32mOK\u001b[0m\r\n",
      "\u001b[32m[I 00:53:04 InstallContribNbextensionsApp]\u001b[m Installing /opt/homebrew/lib/python3.9/site-packages/jupyter_contrib_nbextensions/nbextensions/init_cell -> init_cell\r\n",
      "\u001b[32m[I 00:53:04 InstallContribNbextensionsApp]\u001b[m Up to date: /Users/yeonsoo/Library/Jupyter/nbextensions/init_cell/init_cell.yaml\r\n",
      "\u001b[32m[I 00:53:04 InstallContribNbextensionsApp]\u001b[m Up to date: /Users/yeonsoo/Library/Jupyter/nbextensions/init_cell/icon.png\r\n",
      "\u001b[32m[I 00:53:04 InstallContribNbextensionsApp]\u001b[m Up to date: /Users/yeonsoo/Library/Jupyter/nbextensions/init_cell/README.md\r\n",
      "\u001b[32m[I 00:53:04 InstallContribNbextensionsApp]\u001b[m Up to date: /Users/yeonsoo/Library/Jupyter/nbextensions/init_cell/main.js\r\n",
      "\u001b[32m[I 00:53:04 InstallContribNbextensionsApp]\u001b[m Up to date: /Users/yeonsoo/Library/Jupyter/nbextensions/init_cell/cell_toolbar_menu.png\r\n",
      "\u001b[32m[I 00:53:04 InstallContribNbextensionsApp]\u001b[m - Validating: \u001b[32mOK\u001b[0m\r\n",
      "\u001b[32m[I 00:53:04 InstallContribNbextensionsApp]\u001b[m Installing /opt/homebrew/lib/python3.9/site-packages/jupyter_contrib_nbextensions/nbextensions/limit_output -> limit_output\r\n",
      "\u001b[32m[I 00:53:04 InstallContribNbextensionsApp]\u001b[m Up to date: /Users/yeonsoo/Library/Jupyter/nbextensions/limit_output/icon.png\r\n",
      "\u001b[32m[I 00:53:04 InstallContribNbextensionsApp]\u001b[m Up to date: /Users/yeonsoo/Library/Jupyter/nbextensions/limit_output/readme.md\r\n",
      "\u001b[32m[I 00:53:04 InstallContribNbextensionsApp]\u001b[m Up to date: /Users/yeonsoo/Library/Jupyter/nbextensions/limit_output/main.js\r\n",
      "\u001b[32m[I 00:53:04 InstallContribNbextensionsApp]\u001b[m Up to date: /Users/yeonsoo/Library/Jupyter/nbextensions/limit_output/limit-output.yaml\r\n",
      "\u001b[32m[I 00:53:04 InstallContribNbextensionsApp]\u001b[m - Validating: \u001b[32mOK\u001b[0m\r\n",
      "\u001b[32m[I 00:53:04 InstallContribNbextensionsApp]\u001b[m Installing /opt/homebrew/lib/python3.9/site-packages/jupyter_contrib_nbextensions/nbextensions/qtconsole -> qtconsole\r\n",
      "\u001b[32m[I 00:53:04 InstallContribNbextensionsApp]\u001b[m Up to date: /Users/yeonsoo/Library/Jupyter/nbextensions/qtconsole/qtconsole.js\r\n",
      "\u001b[32m[I 00:53:04 InstallContribNbextensionsApp]\u001b[m Up to date: /Users/yeonsoo/Library/Jupyter/nbextensions/qtconsole/qtconsole.yaml\r\n",
      "\u001b[32m[I 00:53:04 InstallContribNbextensionsApp]\u001b[m Up to date: /Users/yeonsoo/Library/Jupyter/nbextensions/qtconsole/README.md\r\n",
      "\u001b[32m[I 00:53:04 InstallContribNbextensionsApp]\u001b[m - Validating: \u001b[32mOK\u001b[0m\r\n",
      "\u001b[32m[I 00:53:04 InstallContribNbextensionsApp]\u001b[m Installing /opt/homebrew/lib/python3.9/site-packages/jupyter_contrib_nbextensions/nbextensions/addbefore -> addbefore\r\n",
      "\u001b[32m[I 00:53:04 InstallContribNbextensionsApp]\u001b[m Up to date: /Users/yeonsoo/Library/Jupyter/nbextensions/addbefore/icon.png\r\n",
      "\u001b[32m[I 00:53:04 InstallContribNbextensionsApp]\u001b[m Up to date: /Users/yeonsoo/Library/Jupyter/nbextensions/addbefore/readme.md\r\n",
      "\u001b[32m[I 00:53:04 InstallContribNbextensionsApp]\u001b[m Up to date: /Users/yeonsoo/Library/Jupyter/nbextensions/addbefore/main.js\r\n",
      "\u001b[32m[I 00:53:04 InstallContribNbextensionsApp]\u001b[m Up to date: /Users/yeonsoo/Library/Jupyter/nbextensions/addbefore/addbefore.yaml\r\n",
      "\u001b[32m[I 00:53:04 InstallContribNbextensionsApp]\u001b[m - Validating: \u001b[32mOK\u001b[0m\r\n",
      "\u001b[32m[I 00:53:04 InstallContribNbextensionsApp]\u001b[m Installing /opt/homebrew/lib/python3.9/site-packages/jupyter_contrib_nbextensions/nbextensions/highlighter -> highlighter\r\n",
      "\u001b[32m[I 00:53:04 InstallContribNbextensionsApp]\u001b[m Up to date: /Users/yeonsoo/Library/Jupyter/nbextensions/highlighter/icon.png\r\n",
      "\u001b[32m[I 00:53:04 InstallContribNbextensionsApp]\u001b[m Up to date: /Users/yeonsoo/Library/Jupyter/nbextensions/highlighter/export_highlights.pdf\r\n",
      "\u001b[32m[I 00:53:04 InstallContribNbextensionsApp]\u001b[m Up to date: /Users/yeonsoo/Library/Jupyter/nbextensions/highlighter/demo_highlighter.html\r\n",
      "\u001b[32m[I 00:53:04 InstallContribNbextensionsApp]\u001b[m Up to date: /Users/yeonsoo/Library/Jupyter/nbextensions/highlighter/demo_highlighter.ipynb\r\n",
      "\u001b[32m[I 00:53:04 InstallContribNbextensionsApp]\u001b[m Up to date: /Users/yeonsoo/Library/Jupyter/nbextensions/highlighter/tst_highlights.ipynb\r\n",
      "\u001b[32m[I 00:53:04 InstallContribNbextensionsApp]\u001b[m Up to date: /Users/yeonsoo/Library/Jupyter/nbextensions/highlighter/export_highlights.ipynb\r\n",
      "\u001b[32m[I 00:53:04 InstallContribNbextensionsApp]\u001b[m Up to date: /Users/yeonsoo/Library/Jupyter/nbextensions/highlighter/tst_highlights.html\r\n",
      "\u001b[32m[I 00:53:04 InstallContribNbextensionsApp]\u001b[m Up to date: /Users/yeonsoo/Library/Jupyter/nbextensions/highlighter/export_highlights.tex\r\n",
      "\u001b[32m[I 00:53:04 InstallContribNbextensionsApp]\u001b[m Up to date: /Users/yeonsoo/Library/Jupyter/nbextensions/highlighter/image.gif\r\n",
      "\u001b[32m[I 00:53:04 InstallContribNbextensionsApp]\u001b[m Up to date: /Users/yeonsoo/Library/Jupyter/nbextensions/highlighter/readme.md\r\n",
      "\u001b[32m[I 00:53:04 InstallContribNbextensionsApp]\u001b[m Up to date: /Users/yeonsoo/Library/Jupyter/nbextensions/highlighter/highlighter.css\r\n",
      "\u001b[32m[I 00:53:04 InstallContribNbextensionsApp]\u001b[m Up to date: /Users/yeonsoo/Library/Jupyter/nbextensions/highlighter/tst_highlights.pdf\r\n",
      "\u001b[32m[I 00:53:04 InstallContribNbextensionsApp]\u001b[m Up to date: /Users/yeonsoo/Library/Jupyter/nbextensions/highlighter/export_highlights.html\r\n",
      "\u001b[32m[I 00:53:04 InstallContribNbextensionsApp]\u001b[m Up to date: /Users/yeonsoo/Library/Jupyter/nbextensions/highlighter/tst_highlights.tex\r\n",
      "\u001b[32m[I 00:53:04 InstallContribNbextensionsApp]\u001b[m Up to date: /Users/yeonsoo/Library/Jupyter/nbextensions/highlighter/highlighter.yaml\r\n",
      "\u001b[32m[I 00:53:04 InstallContribNbextensionsApp]\u001b[m Up to date: /Users/yeonsoo/Library/Jupyter/nbextensions/highlighter/highlighter.js\r\n",
      "\u001b[32m[I 00:53:04 InstallContribNbextensionsApp]\u001b[m - Validating: \u001b[32mOK\u001b[0m\r\n",
      "\u001b[32m[I 00:53:04 InstallContribNbextensionsApp]\u001b[m Installing /opt/homebrew/lib/python3.9/site-packages/jupyter_contrib_nbextensions/nbextensions/comment-uncomment -> comment-uncomment\r\n",
      "\u001b[32m[I 00:53:04 InstallContribNbextensionsApp]\u001b[m Up to date: /Users/yeonsoo/Library/Jupyter/nbextensions/comment-uncomment/icon.png\r\n",
      "\u001b[32m[I 00:53:04 InstallContribNbextensionsApp]\u001b[m Up to date: /Users/yeonsoo/Library/Jupyter/nbextensions/comment-uncomment/readme.md\r\n",
      "\u001b[32m[I 00:53:04 InstallContribNbextensionsApp]\u001b[m Up to date: /Users/yeonsoo/Library/Jupyter/nbextensions/comment-uncomment/main.js\r\n",
      "\u001b[32m[I 00:53:04 InstallContribNbextensionsApp]\u001b[m Up to date: /Users/yeonsoo/Library/Jupyter/nbextensions/comment-uncomment/comment-uncomment.yaml\r\n",
      "\u001b[32m[I 00:53:04 InstallContribNbextensionsApp]\u001b[m - Validating: \u001b[32mOK\u001b[0m\r\n",
      "\u001b[32m[I 00:53:04 InstallContribNbextensionsApp]\u001b[m Installing /opt/homebrew/lib/python3.9/site-packages/jupyter_contrib_nbextensions/nbextensions/code_font_size -> code_font_size\r\n",
      "\u001b[32m[I 00:53:04 InstallContribNbextensionsApp]\u001b[m Up to date: /Users/yeonsoo/Library/Jupyter/nbextensions/code_font_size/code_font_size.yaml\r\n",
      "\u001b[32m[I 00:53:04 InstallContribNbextensionsApp]\u001b[m Up to date: /Users/yeonsoo/Library/Jupyter/nbextensions/code_font_size/code_font_size.js\r\n",
      "\u001b[32m[I 00:53:04 InstallContribNbextensionsApp]\u001b[m Up to date: /Users/yeonsoo/Library/Jupyter/nbextensions/code_font_size/README.md\r\n",
      "\u001b[32m[I 00:53:04 InstallContribNbextensionsApp]\u001b[m - Validating: \u001b[32mOK\u001b[0m\r\n",
      "\u001b[32m[I 00:53:04 InstallContribNbextensionsApp]\u001b[m Installing /opt/homebrew/lib/python3.9/site-packages/jupyter_contrib_nbextensions/nbextensions/varInspector -> varInspector\r\n",
      "\u001b[32m[I 00:53:04 InstallContribNbextensionsApp]\u001b[m Up to date: /Users/yeonsoo/Library/Jupyter/nbextensions/varInspector/icon.png\r\n",
      "\u001b[32m[I 00:53:04 InstallContribNbextensionsApp]\u001b[m Up to date: /Users/yeonsoo/Library/Jupyter/nbextensions/varInspector/jquery.tablesorter.min.js\r\n",
      "\u001b[32m[I 00:53:04 InstallContribNbextensionsApp]\u001b[m Up to date: /Users/yeonsoo/Library/Jupyter/nbextensions/varInspector/varInspector.yaml\r\n",
      "\u001b[32m[I 00:53:04 InstallContribNbextensionsApp]\u001b[m Up to date: /Users/yeonsoo/Library/Jupyter/nbextensions/varInspector/main.css\r\n",
      "\u001b[32m[I 00:53:04 InstallContribNbextensionsApp]\u001b[m Up to date: /Users/yeonsoo/Library/Jupyter/nbextensions/varInspector/var_list.py\r\n",
      "\u001b[32m[I 00:53:04 InstallContribNbextensionsApp]\u001b[m Up to date: /Users/yeonsoo/Library/Jupyter/nbextensions/varInspector/README.md\r\n",
      "\u001b[32m[I 00:53:04 InstallContribNbextensionsApp]\u001b[m Up to date: /Users/yeonsoo/Library/Jupyter/nbextensions/varInspector/main.js\r\n",
      "\u001b[32m[I 00:53:04 InstallContribNbextensionsApp]\u001b[m Up to date: /Users/yeonsoo/Library/Jupyter/nbextensions/varInspector/var_list.r\r\n",
      "\u001b[32m[I 00:53:04 InstallContribNbextensionsApp]\u001b[m Up to date: /Users/yeonsoo/Library/Jupyter/nbextensions/varInspector/tablesorter_LICENSE.txt\r\n",
      "\u001b[32m[I 00:53:04 InstallContribNbextensionsApp]\u001b[m Up to date: /Users/yeonsoo/Library/Jupyter/nbextensions/varInspector/demo.gif\r\n",
      "\u001b[32m[I 00:53:04 InstallContribNbextensionsApp]\u001b[m Up to date: /Users/yeonsoo/Library/Jupyter/nbextensions/varInspector/__pycache__/var_list.cpython-39.pyc\r\n",
      "\u001b[32m[I 00:53:04 InstallContribNbextensionsApp]\u001b[m - Validating: \u001b[32mOK\u001b[0m\r\n",
      "\u001b[32m[I 00:53:04 InstallContribNbextensionsApp]\u001b[m Installing /opt/homebrew/lib/python3.9/site-packages/jupyter_contrib_nbextensions/nbextensions/execute_time -> execute_time\r\n",
      "\u001b[32m[I 00:53:04 InstallContribNbextensionsApp]\u001b[m Up to date: /Users/yeonsoo/Library/Jupyter/nbextensions/execute_time/ExecuteTime.js\r\n",
      "\u001b[32m[I 00:53:04 InstallContribNbextensionsApp]\u001b[m Up to date: /Users/yeonsoo/Library/Jupyter/nbextensions/execute_time/icon.png\r\n",
      "\u001b[32m[I 00:53:04 InstallContribNbextensionsApp]\u001b[m Up to date: /Users/yeonsoo/Library/Jupyter/nbextensions/execute_time/execution-timings-box.png\r\n",
      "\u001b[32m[I 00:53:04 InstallContribNbextensionsApp]\u001b[m Up to date: /Users/yeonsoo/Library/Jupyter/nbextensions/execute_time/ExecuteTime.css\r\n",
      "\u001b[32m[I 00:53:04 InstallContribNbextensionsApp]\u001b[m Up to date: /Users/yeonsoo/Library/Jupyter/nbextensions/execute_time/ExecuteTime.yaml\r\n",
      "\u001b[32m[I 00:53:04 InstallContribNbextensionsApp]\u001b[m Up to date: /Users/yeonsoo/Library/Jupyter/nbextensions/execute_time/execution-timings-menu.png\r\n",
      "\u001b[32m[I 00:53:04 InstallContribNbextensionsApp]\u001b[m Up to date: /Users/yeonsoo/Library/Jupyter/nbextensions/execute_time/readme.md\r\n",
      "\u001b[32m[I 00:53:04 InstallContribNbextensionsApp]\u001b[m - Validating: \u001b[32mOK\u001b[0m\r\n",
      "\u001b[32m[I 00:53:04 InstallContribNbextensionsApp]\u001b[m Installing /opt/homebrew/lib/python3.9/site-packages/jupyter_contrib_nbextensions/nbextensions/spellchecker -> spellchecker\r\n",
      "\u001b[32m[I 00:53:04 InstallContribNbextensionsApp]\u001b[m Up to date: /Users/yeonsoo/Library/Jupyter/nbextensions/spellchecker/download_new_dict.py\r\n",
      "\u001b[32m[I 00:53:04 InstallContribNbextensionsApp]\u001b[m Up to date: /Users/yeonsoo/Library/Jupyter/nbextensions/spellchecker/screenshot.png\r\n",
      "\u001b[32m[I 00:53:04 InstallContribNbextensionsApp]\u001b[m Up to date: /Users/yeonsoo/Library/Jupyter/nbextensions/spellchecker/config.yaml\r\n",
      "\u001b[32m[I 00:53:04 InstallContribNbextensionsApp]\u001b[m Up to date: /Users/yeonsoo/Library/Jupyter/nbextensions/spellchecker/main.css\r\n",
      "\u001b[32m[I 00:53:04 InstallContribNbextensionsApp]\u001b[m Up to date: /Users/yeonsoo/Library/Jupyter/nbextensions/spellchecker/README.md\r\n",
      "\u001b[32m[I 00:53:04 InstallContribNbextensionsApp]\u001b[m Up to date: /Users/yeonsoo/Library/Jupyter/nbextensions/spellchecker/main.js\r\n",
      "\u001b[32m[I 00:53:04 InstallContribNbextensionsApp]\u001b[m Up to date: /Users/yeonsoo/Library/Jupyter/nbextensions/spellchecker/typo/typo.js\r\n",
      "\u001b[32m[I 00:53:04 InstallContribNbextensionsApp]\u001b[m Up to date: /Users/yeonsoo/Library/Jupyter/nbextensions/spellchecker/typo/LICENSE.txt\r\n",
      "\u001b[32m[I 00:53:04 InstallContribNbextensionsApp]\u001b[m Up to date: /Users/yeonsoo/Library/Jupyter/nbextensions/spellchecker/__pycache__/download_new_dict.cpython-39.pyc\r\n",
      "\u001b[32m[I 00:53:04 InstallContribNbextensionsApp]\u001b[m - Validating: \u001b[32mOK\u001b[0m\r\n",
      "\u001b[32m[I 00:53:04 InstallContribNbextensionsApp]\u001b[m Installing /opt/homebrew/lib/python3.9/site-packages/jupyter_contrib_nbextensions/nbextensions/code_prettify -> code_prettify\r\n",
      "\u001b[32m[I 00:53:04 InstallContribNbextensionsApp]\u001b[m Up to date: /Users/yeonsoo/Library/Jupyter/nbextensions/code_prettify/demo-py.gif\r\n",
      "\u001b[32m[I 00:53:04 InstallContribNbextensionsApp]\u001b[m Up to date: /Users/yeonsoo/Library/Jupyter/nbextensions/code_prettify/kernel_exec_on_cell.js\r\n",
      "\u001b[32m[I 00:53:04 InstallContribNbextensionsApp]\u001b[m Up to date: /Users/yeonsoo/Library/Jupyter/nbextensions/code_prettify/demo-jv.gif\r\n",
      "\u001b[32m[I 00:53:04 InstallContribNbextensionsApp]\u001b[m Up to date: /Users/yeonsoo/Library/Jupyter/nbextensions/code_prettify/README_2to3.md\r\n",
      "\u001b[32m[I 00:53:04 InstallContribNbextensionsApp]\u001b[m Up to date: /Users/yeonsoo/Library/Jupyter/nbextensions/code_prettify/2to3.yaml\r\n",
      "\u001b[32m[I 00:53:04 InstallContribNbextensionsApp]\u001b[m Up to date: /Users/yeonsoo/Library/Jupyter/nbextensions/code_prettify/README_autopep8.md\r\n",
      "\u001b[32m[I 00:53:04 InstallContribNbextensionsApp]\u001b[m Up to date: /Users/yeonsoo/Library/Jupyter/nbextensions/code_prettify/demo_2to3.gif\r\n",
      "\u001b[32m[I 00:53:04 InstallContribNbextensionsApp]\u001b[m Up to date: /Users/yeonsoo/Library/Jupyter/nbextensions/code_prettify/README_isort.md\r\n",
      "\u001b[32m[I 00:53:04 InstallContribNbextensionsApp]\u001b[m Up to date: /Users/yeonsoo/Library/Jupyter/nbextensions/code_prettify/README_code_prettify.md\r\n",
      "\u001b[32m[I 00:53:04 InstallContribNbextensionsApp]\u001b[m Up to date: /Users/yeonsoo/Library/Jupyter/nbextensions/code_prettify/README.md\r\n",
      "\u001b[32m[I 00:53:04 InstallContribNbextensionsApp]\u001b[m Up to date: /Users/yeonsoo/Library/Jupyter/nbextensions/code_prettify/code_prettify.js\r\n",
      "\u001b[32m[I 00:53:04 InstallContribNbextensionsApp]\u001b[m Up to date: /Users/yeonsoo/Library/Jupyter/nbextensions/code_prettify/autopep8.js\r\n",
      "\u001b[32m[I 00:53:04 InstallContribNbextensionsApp]\u001b[m Up to date: /Users/yeonsoo/Library/Jupyter/nbextensions/code_prettify/demo-R.gif\r\n",
      "\u001b[32m[I 00:53:04 InstallContribNbextensionsApp]\u001b[m Up to date: /Users/yeonsoo/Library/Jupyter/nbextensions/code_prettify/isort.js\r\n",
      "\u001b[32m[I 00:53:04 InstallContribNbextensionsApp]\u001b[m Up to date: /Users/yeonsoo/Library/Jupyter/nbextensions/code_prettify/code_prettify.yaml\r\n",
      "\u001b[32m[I 00:53:04 InstallContribNbextensionsApp]\u001b[m Up to date: /Users/yeonsoo/Library/Jupyter/nbextensions/code_prettify/2to3.js\r\n",
      "\u001b[32m[I 00:53:04 InstallContribNbextensionsApp]\u001b[m Up to date: /Users/yeonsoo/Library/Jupyter/nbextensions/code_prettify/autopep8.yaml\r\n",
      "\u001b[32m[I 00:53:04 InstallContribNbextensionsApp]\u001b[m Up to date: /Users/yeonsoo/Library/Jupyter/nbextensions/code_prettify/isort.yaml\r\n",
      "\u001b[32m[I 00:53:04 InstallContribNbextensionsApp]\u001b[m - Validating: \u001b[32mOK\u001b[0m\r\n",
      "\u001b[32m[I 00:53:04 InstallContribNbextensionsApp]\u001b[m Installing /opt/homebrew/lib/python3.9/site-packages/jupyter_contrib_nbextensions/nbextensions/code_prettify -> code_prettify\r\n",
      "\u001b[32m[I 00:53:04 InstallContribNbextensionsApp]\u001b[m Up to date: /Users/yeonsoo/Library/Jupyter/nbextensions/code_prettify/demo-py.gif\r\n",
      "\u001b[32m[I 00:53:04 InstallContribNbextensionsApp]\u001b[m Up to date: /Users/yeonsoo/Library/Jupyter/nbextensions/code_prettify/kernel_exec_on_cell.js\r\n",
      "\u001b[32m[I 00:53:04 InstallContribNbextensionsApp]\u001b[m Up to date: /Users/yeonsoo/Library/Jupyter/nbextensions/code_prettify/demo-jv.gif\r\n",
      "\u001b[32m[I 00:53:04 InstallContribNbextensionsApp]\u001b[m Up to date: /Users/yeonsoo/Library/Jupyter/nbextensions/code_prettify/README_2to3.md\r\n",
      "\u001b[32m[I 00:53:04 InstallContribNbextensionsApp]\u001b[m Up to date: /Users/yeonsoo/Library/Jupyter/nbextensions/code_prettify/2to3.yaml\r\n",
      "\u001b[32m[I 00:53:04 InstallContribNbextensionsApp]\u001b[m Up to date: /Users/yeonsoo/Library/Jupyter/nbextensions/code_prettify/README_autopep8.md\r\n",
      "\u001b[32m[I 00:53:04 InstallContribNbextensionsApp]\u001b[m Up to date: /Users/yeonsoo/Library/Jupyter/nbextensions/code_prettify/demo_2to3.gif\r\n",
      "\u001b[32m[I 00:53:04 InstallContribNbextensionsApp]\u001b[m Up to date: /Users/yeonsoo/Library/Jupyter/nbextensions/code_prettify/README_isort.md\r\n",
      "\u001b[32m[I 00:53:04 InstallContribNbextensionsApp]\u001b[m Up to date: /Users/yeonsoo/Library/Jupyter/nbextensions/code_prettify/README_code_prettify.md\r\n",
      "\u001b[32m[I 00:53:04 InstallContribNbextensionsApp]\u001b[m Up to date: /Users/yeonsoo/Library/Jupyter/nbextensions/code_prettify/README.md\r\n",
      "\u001b[32m[I 00:53:04 InstallContribNbextensionsApp]\u001b[m Up to date: /Users/yeonsoo/Library/Jupyter/nbextensions/code_prettify/code_prettify.js\r\n",
      "\u001b[32m[I 00:53:04 InstallContribNbextensionsApp]\u001b[m Up to date: /Users/yeonsoo/Library/Jupyter/nbextensions/code_prettify/autopep8.js\r\n",
      "\u001b[32m[I 00:53:04 InstallContribNbextensionsApp]\u001b[m Up to date: /Users/yeonsoo/Library/Jupyter/nbextensions/code_prettify/demo-R.gif\r\n",
      "\u001b[32m[I 00:53:04 InstallContribNbextensionsApp]\u001b[m Up to date: /Users/yeonsoo/Library/Jupyter/nbextensions/code_prettify/isort.js\r\n",
      "\u001b[32m[I 00:53:04 InstallContribNbextensionsApp]\u001b[m Up to date: /Users/yeonsoo/Library/Jupyter/nbextensions/code_prettify/code_prettify.yaml\r\n",
      "\u001b[32m[I 00:53:04 InstallContribNbextensionsApp]\u001b[m Up to date: /Users/yeonsoo/Library/Jupyter/nbextensions/code_prettify/2to3.js\r\n",
      "\u001b[32m[I 00:53:04 InstallContribNbextensionsApp]\u001b[m Up to date: /Users/yeonsoo/Library/Jupyter/nbextensions/code_prettify/autopep8.yaml\r\n",
      "\u001b[32m[I 00:53:04 InstallContribNbextensionsApp]\u001b[m Up to date: /Users/yeonsoo/Library/Jupyter/nbextensions/code_prettify/isort.yaml\r\n",
      "\u001b[32m[I 00:53:04 InstallContribNbextensionsApp]\u001b[m - Validating: \u001b[32mOK\u001b[0m\r\n",
      "\u001b[32m[I 00:53:04 InstallContribNbextensionsApp]\u001b[m Installing /opt/homebrew/lib/python3.9/site-packages/jupyter_contrib_nbextensions/nbextensions/code_prettify -> code_prettify\r\n",
      "\u001b[32m[I 00:53:04 InstallContribNbextensionsApp]\u001b[m Up to date: /Users/yeonsoo/Library/Jupyter/nbextensions/code_prettify/demo-py.gif\r\n",
      "\u001b[32m[I 00:53:04 InstallContribNbextensionsApp]\u001b[m Up to date: /Users/yeonsoo/Library/Jupyter/nbextensions/code_prettify/kernel_exec_on_cell.js\r\n",
      "\u001b[32m[I 00:53:04 InstallContribNbextensionsApp]\u001b[m Up to date: /Users/yeonsoo/Library/Jupyter/nbextensions/code_prettify/demo-jv.gif\r\n",
      "\u001b[32m[I 00:53:04 InstallContribNbextensionsApp]\u001b[m Up to date: /Users/yeonsoo/Library/Jupyter/nbextensions/code_prettify/README_2to3.md\r\n",
      "\u001b[32m[I 00:53:04 InstallContribNbextensionsApp]\u001b[m Up to date: /Users/yeonsoo/Library/Jupyter/nbextensions/code_prettify/2to3.yaml\r\n",
      "\u001b[32m[I 00:53:04 InstallContribNbextensionsApp]\u001b[m Up to date: /Users/yeonsoo/Library/Jupyter/nbextensions/code_prettify/README_autopep8.md\r\n",
      "\u001b[32m[I 00:53:04 InstallContribNbextensionsApp]\u001b[m Up to date: /Users/yeonsoo/Library/Jupyter/nbextensions/code_prettify/demo_2to3.gif\r\n",
      "\u001b[32m[I 00:53:04 InstallContribNbextensionsApp]\u001b[m Up to date: /Users/yeonsoo/Library/Jupyter/nbextensions/code_prettify/README_isort.md\r\n",
      "\u001b[32m[I 00:53:04 InstallContribNbextensionsApp]\u001b[m Up to date: /Users/yeonsoo/Library/Jupyter/nbextensions/code_prettify/README_code_prettify.md\r\n",
      "\u001b[32m[I 00:53:04 InstallContribNbextensionsApp]\u001b[m Up to date: /Users/yeonsoo/Library/Jupyter/nbextensions/code_prettify/README.md\r\n",
      "\u001b[32m[I 00:53:04 InstallContribNbextensionsApp]\u001b[m Up to date: /Users/yeonsoo/Library/Jupyter/nbextensions/code_prettify/code_prettify.js\r\n",
      "\u001b[32m[I 00:53:04 InstallContribNbextensionsApp]\u001b[m Up to date: /Users/yeonsoo/Library/Jupyter/nbextensions/code_prettify/autopep8.js\r\n",
      "\u001b[32m[I 00:53:04 InstallContribNbextensionsApp]\u001b[m Up to date: /Users/yeonsoo/Library/Jupyter/nbextensions/code_prettify/demo-R.gif\r\n",
      "\u001b[32m[I 00:53:04 InstallContribNbextensionsApp]\u001b[m Up to date: /Users/yeonsoo/Library/Jupyter/nbextensions/code_prettify/isort.js\r\n",
      "\u001b[32m[I 00:53:04 InstallContribNbextensionsApp]\u001b[m Up to date: /Users/yeonsoo/Library/Jupyter/nbextensions/code_prettify/code_prettify.yaml\r\n",
      "\u001b[32m[I 00:53:04 InstallContribNbextensionsApp]\u001b[m Up to date: /Users/yeonsoo/Library/Jupyter/nbextensions/code_prettify/2to3.js\r\n",
      "\u001b[32m[I 00:53:04 InstallContribNbextensionsApp]\u001b[m Up to date: /Users/yeonsoo/Library/Jupyter/nbextensions/code_prettify/autopep8.yaml\r\n",
      "\u001b[32m[I 00:53:04 InstallContribNbextensionsApp]\u001b[m Up to date: /Users/yeonsoo/Library/Jupyter/nbextensions/code_prettify/isort.yaml\r\n",
      "\u001b[32m[I 00:53:04 InstallContribNbextensionsApp]\u001b[m - Validating: \u001b[32mOK\u001b[0m\r\n",
      "\u001b[32m[I 00:53:04 InstallContribNbextensionsApp]\u001b[m Installing /opt/homebrew/lib/python3.9/site-packages/jupyter_contrib_nbextensions/nbextensions/code_prettify -> code_prettify\r\n",
      "\u001b[32m[I 00:53:04 InstallContribNbextensionsApp]\u001b[m Up to date: /Users/yeonsoo/Library/Jupyter/nbextensions/code_prettify/demo-py.gif\r\n",
      "\u001b[32m[I 00:53:04 InstallContribNbextensionsApp]\u001b[m Up to date: /Users/yeonsoo/Library/Jupyter/nbextensions/code_prettify/kernel_exec_on_cell.js\r\n",
      "\u001b[32m[I 00:53:04 InstallContribNbextensionsApp]\u001b[m Up to date: /Users/yeonsoo/Library/Jupyter/nbextensions/code_prettify/demo-jv.gif\r\n",
      "\u001b[32m[I 00:53:04 InstallContribNbextensionsApp]\u001b[m Up to date: /Users/yeonsoo/Library/Jupyter/nbextensions/code_prettify/README_2to3.md\r\n",
      "\u001b[32m[I 00:53:04 InstallContribNbextensionsApp]\u001b[m Up to date: /Users/yeonsoo/Library/Jupyter/nbextensions/code_prettify/2to3.yaml\r\n",
      "\u001b[32m[I 00:53:04 InstallContribNbextensionsApp]\u001b[m Up to date: /Users/yeonsoo/Library/Jupyter/nbextensions/code_prettify/README_autopep8.md\r\n",
      "\u001b[32m[I 00:53:04 InstallContribNbextensionsApp]\u001b[m Up to date: /Users/yeonsoo/Library/Jupyter/nbextensions/code_prettify/demo_2to3.gif\r\n",
      "\u001b[32m[I 00:53:04 InstallContribNbextensionsApp]\u001b[m Up to date: /Users/yeonsoo/Library/Jupyter/nbextensions/code_prettify/README_isort.md\r\n",
      "\u001b[32m[I 00:53:04 InstallContribNbextensionsApp]\u001b[m Up to date: /Users/yeonsoo/Library/Jupyter/nbextensions/code_prettify/README_code_prettify.md\r\n",
      "\u001b[32m[I 00:53:04 InstallContribNbextensionsApp]\u001b[m Up to date: /Users/yeonsoo/Library/Jupyter/nbextensions/code_prettify/README.md\r\n",
      "\u001b[32m[I 00:53:04 InstallContribNbextensionsApp]\u001b[m Up to date: /Users/yeonsoo/Library/Jupyter/nbextensions/code_prettify/code_prettify.js\r\n",
      "\u001b[32m[I 00:53:04 InstallContribNbextensionsApp]\u001b[m Up to date: /Users/yeonsoo/Library/Jupyter/nbextensions/code_prettify/autopep8.js\r\n",
      "\u001b[32m[I 00:53:04 InstallContribNbextensionsApp]\u001b[m Up to date: /Users/yeonsoo/Library/Jupyter/nbextensions/code_prettify/demo-R.gif\r\n",
      "\u001b[32m[I 00:53:04 InstallContribNbextensionsApp]\u001b[m Up to date: /Users/yeonsoo/Library/Jupyter/nbextensions/code_prettify/isort.js\r\n",
      "\u001b[32m[I 00:53:04 InstallContribNbextensionsApp]\u001b[m Up to date: /Users/yeonsoo/Library/Jupyter/nbextensions/code_prettify/code_prettify.yaml\r\n",
      "\u001b[32m[I 00:53:04 InstallContribNbextensionsApp]\u001b[m Up to date: /Users/yeonsoo/Library/Jupyter/nbextensions/code_prettify/2to3.js\r\n",
      "\u001b[32m[I 00:53:04 InstallContribNbextensionsApp]\u001b[m Up to date: /Users/yeonsoo/Library/Jupyter/nbextensions/code_prettify/autopep8.yaml\r\n",
      "\u001b[32m[I 00:53:04 InstallContribNbextensionsApp]\u001b[m Up to date: /Users/yeonsoo/Library/Jupyter/nbextensions/code_prettify/isort.yaml\r\n",
      "\u001b[32m[I 00:53:04 InstallContribNbextensionsApp]\u001b[m - Validating: \u001b[32mOK\u001b[0m\r\n",
      "\u001b[32m[I 00:53:04 InstallContribNbextensionsApp]\u001b[m Installing /opt/homebrew/lib/python3.9/site-packages/jupyter_contrib_nbextensions/nbextensions/load_tex_macros -> load_tex_macros\r\n",
      "\u001b[32m[I 00:53:04 InstallContribNbextensionsApp]\u001b[m Up to date: /Users/yeonsoo/Library/Jupyter/nbextensions/load_tex_macros/load_tex_macros.yaml\r\n",
      "\u001b[32m[I 00:53:04 InstallContribNbextensionsApp]\u001b[m Up to date: /Users/yeonsoo/Library/Jupyter/nbextensions/load_tex_macros/icon.png\r\n",
      "\u001b[32m[I 00:53:04 InstallContribNbextensionsApp]\u001b[m Up to date: /Users/yeonsoo/Library/Jupyter/nbextensions/load_tex_macros/readme.md\r\n",
      "\u001b[32m[I 00:53:04 InstallContribNbextensionsApp]\u001b[m Up to date: /Users/yeonsoo/Library/Jupyter/nbextensions/load_tex_macros/main.js\r\n",
      "\u001b[32m[I 00:53:04 InstallContribNbextensionsApp]\u001b[m - Validating: \u001b[32mOK\u001b[0m\r\n",
      "\u001b[32m[I 00:53:04 InstallContribNbextensionsApp]\u001b[m Installing /opt/homebrew/lib/python3.9/site-packages/jupyter_contrib_nbextensions/nbextensions/hide_header -> hide_header\r\n",
      "\u001b[32m[I 00:53:04 InstallContribNbextensionsApp]\u001b[m Up to date: /Users/yeonsoo/Library/Jupyter/nbextensions/hide_header/hide_header.yaml\r\n",
      "\u001b[32m[I 00:53:04 InstallContribNbextensionsApp]\u001b[m Up to date: /Users/yeonsoo/Library/Jupyter/nbextensions/hide_header/README.md\r\n",
      "\u001b[32m[I 00:53:04 InstallContribNbextensionsApp]\u001b[m Up to date: /Users/yeonsoo/Library/Jupyter/nbextensions/hide_header/main.js\r\n",
      "\u001b[32m[I 00:53:04 InstallContribNbextensionsApp]\u001b[m - Validating: \u001b[32mOK\u001b[0m\r\n",
      "\u001b[32m[I 00:53:04 InstallContribNbextensionsApp]\u001b[m Installing /opt/homebrew/lib/python3.9/site-packages/jupyter_highlight_selected_word/static/highlight_selected_word -> highlight_selected_word\r\n",
      "\u001b[32m[I 00:53:04 InstallContribNbextensionsApp]\u001b[m Up to date: /Users/yeonsoo/Library/Jupyter/nbextensions/highlight_selected_word/configurator.yaml\r\n",
      "\u001b[32m[I 00:53:04 InstallContribNbextensionsApp]\u001b[m Up to date: /Users/yeonsoo/Library/Jupyter/nbextensions/highlight_selected_word/README.md\r\n",
      "\u001b[32m[I 00:53:04 InstallContribNbextensionsApp]\u001b[m Up to date: /Users/yeonsoo/Library/Jupyter/nbextensions/highlight_selected_word/main.js\r\n",
      "\u001b[32m[I 00:53:04 InstallContribNbextensionsApp]\u001b[m - Validating: \u001b[32mOK\u001b[0m\r\n",
      "\u001b[32m[I 00:53:04 InstallContribNbextensionsApp]\u001b[m Installing /opt/homebrew/lib/python3.9/site-packages/latex_envs/static -> latex_envs\r\n",
      "\u001b[32m[I 00:53:04 InstallContribNbextensionsApp]\u001b[m Up to date: /Users/yeonsoo/Library/Jupyter/nbextensions/latex_envs/icon.png\r\n",
      "\u001b[32m[I 00:53:04 InstallContribNbextensionsApp]\u001b[m Up to date: /Users/yeonsoo/Library/Jupyter/nbextensions/latex_envs/latex_envs.yaml\r\n",
      "\u001b[32m[I 00:53:04 InstallContribNbextensionsApp]\u001b[m Up to date: /Users/yeonsoo/Library/Jupyter/nbextensions/latex_envs/configuration_toolbar.png\r\n",
      "\u001b[32m[I 00:53:04 InstallContribNbextensionsApp]\u001b[m Up to date: /Users/yeonsoo/Library/Jupyter/nbextensions/latex_envs/bibInNb4.js\r\n",
      "\u001b[32m[I 00:53:04 InstallContribNbextensionsApp]\u001b[m Up to date: /Users/yeonsoo/Library/Jupyter/nbextensions/latex_envs/example_user_envs.json\r\n",
      "\u001b[32m[I 00:53:04 InstallContribNbextensionsApp]\u001b[m Up to date: /Users/yeonsoo/Library/Jupyter/nbextensions/latex_envs/envsLatex.js\r\n",
      "\u001b[32m[I 00:53:04 InstallContribNbextensionsApp]\u001b[m Up to date: /Users/yeonsoo/Library/Jupyter/nbextensions/latex_envs/main_toolbar.png\r\n",
      "\u001b[32m[I 00:53:04 InstallContribNbextensionsApp]\u001b[m Up to date: /Users/yeonsoo/Library/Jupyter/nbextensions/latex_envs/envsLatex.json\r\n",
      "\u001b[32m[I 00:53:04 InstallContribNbextensionsApp]\u001b[m Up to date: /Users/yeonsoo/Library/Jupyter/nbextensions/latex_envs/README.md\r\n",
      "\u001b[32m[I 00:53:04 InstallContribNbextensionsApp]\u001b[m Up to date: /Users/yeonsoo/Library/Jupyter/nbextensions/latex_envs/thmsInNb4.js\r\n",
      "\u001b[32m[I 00:53:04 InstallContribNbextensionsApp]\u001b[m Up to date: /Users/yeonsoo/Library/Jupyter/nbextensions/latex_envs/initNb.js\r\n",
      "\u001b[32m[I 00:53:04 InstallContribNbextensionsApp]\u001b[m Up to date: /Users/yeonsoo/Library/Jupyter/nbextensions/latex_envs/latex_envs.css\r\n",
      "\u001b[32m[I 00:53:04 InstallContribNbextensionsApp]\u001b[m Up to date: /Users/yeonsoo/Library/Jupyter/nbextensions/latex_envs/latex_envs.js\r\n",
      "\u001b[32m[I 00:53:04 InstallContribNbextensionsApp]\u001b[m Up to date: /Users/yeonsoo/Library/Jupyter/nbextensions/latex_envs/bibtex2.js\r\n",
      "\u001b[32m[I 00:53:04 InstallContribNbextensionsApp]\u001b[m Up to date: /Users/yeonsoo/Library/Jupyter/nbextensions/latex_envs/example.png\r\n",
      "\u001b[32m[I 00:53:04 InstallContribNbextensionsApp]\u001b[m Up to date: /Users/yeonsoo/Library/Jupyter/nbextensions/latex_envs/doc/IEEEtran.bst\r\n",
      "\u001b[32m[I 00:53:04 InstallContribNbextensionsApp]\u001b[m Up to date: /Users/yeonsoo/Library/Jupyter/nbextensions/latex_envs/doc/documentation.pdf\r\n",
      "\u001b[32m[I 00:53:04 InstallContribNbextensionsApp]\u001b[m Up to date: /Users/yeonsoo/Library/Jupyter/nbextensions/latex_envs/doc/configuration_toolbar.png\r\n",
      "\u001b[32m[I 00:53:04 InstallContribNbextensionsApp]\u001b[m Up to date: /Users/yeonsoo/Library/Jupyter/nbextensions/latex_envs/doc/biblio_ipython.bib\r\n",
      "\u001b[32m[I 00:53:04 InstallContribNbextensionsApp]\u001b[m Up to date: /Users/yeonsoo/Library/Jupyter/nbextensions/latex_envs/doc/config_toolbar.png\r\n",
      "\u001b[32m[I 00:53:04 InstallContribNbextensionsApp]\u001b[m Up to date: /Users/yeonsoo/Library/Jupyter/nbextensions/latex_envs/doc/documentation.tex\r\n",
      "\u001b[32m[I 00:53:04 InstallContribNbextensionsApp]\u001b[m Up to date: /Users/yeonsoo/Library/Jupyter/nbextensions/latex_envs/doc/main_toolbar.png\r\n",
      "\u001b[32m[I 00:53:04 InstallContribNbextensionsApp]\u001b[m Up to date: /Users/yeonsoo/Library/Jupyter/nbextensions/latex_envs/doc/README.md\r\n",
      "\u001b[32m[I 00:53:04 InstallContribNbextensionsApp]\u001b[m Up to date: /Users/yeonsoo/Library/Jupyter/nbextensions/latex_envs/doc/latex_env_doc.ipynb\r\n",
      "\u001b[32m[I 00:53:04 InstallContribNbextensionsApp]\u001b[m Up to date: /Users/yeonsoo/Library/Jupyter/nbextensions/latex_envs/doc/LaTeX_envs_menu.png\r\n",
      "\u001b[32m[I 00:53:04 InstallContribNbextensionsApp]\u001b[m Up to date: /Users/yeonsoo/Library/Jupyter/nbextensions/latex_envs/doc/latex_env_doc.tex\r\n",
      "\u001b[32m[I 00:53:04 InstallContribNbextensionsApp]\u001b[m Up to date: /Users/yeonsoo/Library/Jupyter/nbextensions/latex_envs/doc/header.tex\r\n",
      "\u001b[32m[I 00:53:04 InstallContribNbextensionsApp]\u001b[m Up to date: /Users/yeonsoo/Library/Jupyter/nbextensions/latex_envs/doc/Toggles.png\r\n",
      "\u001b[32m[I 00:53:04 InstallContribNbextensionsApp]\u001b[m Up to date: /Users/yeonsoo/Library/Jupyter/nbextensions/latex_envs/doc/latex_env_doc.html\r\n",
      "\u001b[32m[I 00:53:04 InstallContribNbextensionsApp]\u001b[m Up to date: /Users/yeonsoo/Library/Jupyter/nbextensions/latex_envs/doc/example.png\r\n",
      "\u001b[32m[I 00:53:04 InstallContribNbextensionsApp]\u001b[m Up to date: /Users/yeonsoo/Library/Jupyter/nbextensions/latex_envs/doc/.ipynb_checkpoints/latex_env_doc-checkpoint.ipynb\r\n",
      "\u001b[32m[I 00:53:04 InstallContribNbextensionsApp]\u001b[m Up to date: /Users/yeonsoo/Library/Jupyter/nbextensions/latex_envs/doc/latex_env_doc_files/latex_env_doc_51_0.png\r\n",
      "\u001b[32m[I 00:53:04 InstallContribNbextensionsApp]\u001b[m Up to date: /Users/yeonsoo/Library/Jupyter/nbextensions/latex_envs/doc/latex_env_doc_files/latex_env_doc_48_0.png\r\n",
      "\u001b[32m[I 00:53:04 InstallContribNbextensionsApp]\u001b[m Up to date: /Users/yeonsoo/Library/Jupyter/nbextensions/latex_envs/doc/latex_env_doc_files/latex_env_doc_50_0.png\r\n",
      "\u001b[32m[I 00:53:04 InstallContribNbextensionsApp]\u001b[m Up to date: /Users/yeonsoo/Library/Jupyter/nbextensions/latex_envs/doc/latex_env_doc_files/latex_env_doc_49_0.png\r\n",
      "\u001b[32m[I 00:53:04 InstallContribNbextensionsApp]\u001b[m Up to date: /Users/yeonsoo/Library/Jupyter/nbextensions/latex_envs/doc/latex_env_doc_files/latex_env_doc_52_0.png\r\n",
      "\u001b[32m[I 00:53:04 InstallContribNbextensionsApp]\u001b[m Up to date: /Users/yeonsoo/Library/Jupyter/nbextensions/latex_envs/doc/latex_env_doc_files/latex_env_doc_41_0.png\r\n",
      "\u001b[32m[I 00:53:04 InstallContribNbextensionsApp]\u001b[m Up to date: /Users/yeonsoo/Library/Jupyter/nbextensions/latex_envs/doc/latex_env_doc_files/latex_env_doc_43_0.png\r\n",
      "\u001b[32m[I 00:53:04 InstallContribNbextensionsApp]\u001b[m Up to date: /Users/yeonsoo/Library/Jupyter/nbextensions/latex_envs/doc/latex_env_doc_files/latex_env_doc_24_2.png\r\n",
      "\u001b[32m[I 00:53:04 InstallContribNbextensionsApp]\u001b[m Up to date: /Users/yeonsoo/Library/Jupyter/nbextensions/latex_envs/doc/latex_env_doc_files/latex_env_doc_47_0.png\r\n",
      "\u001b[32m[I 00:53:04 InstallContribNbextensionsApp]\u001b[m Up to date: /Users/yeonsoo/Library/Jupyter/nbextensions/latex_envs/doc/latex_env_doc_files/latex_env_doc_45_0.png\r\n",
      "\u001b[32m[I 00:53:04 InstallContribNbextensionsApp]\u001b[m Up to date: /Users/yeonsoo/Library/Jupyter/nbextensions/latex_envs/doc/latex_env_doc_files/latex_env_doc_26_2.png\r\n",
      "\u001b[32m[I 00:53:04 InstallContribNbextensionsApp]\u001b[m Up to date: /Users/yeonsoo/Library/Jupyter/nbextensions/latex_envs/doc/latex_env_doc_files/latex_env_doc_42_0.png\r\n",
      "\u001b[32m[I 00:53:04 InstallContribNbextensionsApp]\u001b[m Up to date: /Users/yeonsoo/Library/Jupyter/nbextensions/latex_envs/doc/latex_env_doc_files/latex_env_doc_23_2.png\r\n",
      "\u001b[32m[I 00:53:04 InstallContribNbextensionsApp]\u001b[m Up to date: /Users/yeonsoo/Library/Jupyter/nbextensions/latex_envs/doc/latex_env_doc_files/latex_env_doc_44_0.png\r\n",
      "\u001b[32m[I 00:53:04 InstallContribNbextensionsApp]\u001b[m Up to date: /Users/yeonsoo/Library/Jupyter/nbextensions/latex_envs/doc/latex_env_doc_files/latex_env_doc_27_2.png\r\n",
      "\u001b[32m[I 00:53:04 InstallContribNbextensionsApp]\u001b[m Up to date: /Users/yeonsoo/Library/Jupyter/nbextensions/latex_envs/doc/latex_env_doc_files/latex_env_doc_46_0.png\r\n",
      "\u001b[32m[I 00:53:04 InstallContribNbextensionsApp]\u001b[m - Validating: \u001b[32mOK\u001b[0m\r\n",
      "\u001b[32m[I 00:53:04 InstallContribNbextensionsApp]\u001b[m Installing jupyter_contrib_nbextensions items to config in /Users/yeonsoo/.jupyter\r\n",
      "Enabling: jupyter_nbextensions_configurator\r\n",
      "- Writing config: /Users/yeonsoo/.jupyter\r\n",
      "    - Validating...\r\n",
      "      jupyter_nbextensions_configurator 0.4.1 \u001b[32mOK\u001b[0m\r\n",
      "Enabling notebook nbextension nbextensions_configurator/config_menu/main...\r\n",
      "Enabling tree nbextension nbextensions_configurator/tree_tab/main...\r\n",
      "\u001b[32m[I 00:53:04 InstallContribNbextensionsApp]\u001b[m Enabling notebook extension contrib_nbextensions_help_item/main...\r\n",
      "\u001b[32m[I 00:53:04 InstallContribNbextensionsApp]\u001b[m       - Validating: \u001b[32mOK\u001b[0m\r\n",
      "\u001b[32m[I 00:53:04 InstallContribNbextensionsApp]\u001b[m - Editing config: /Users/yeonsoo/.jupyter/jupyter_nbconvert_config.json\r\n",
      "\u001b[32m[I 00:53:04 InstallContribNbextensionsApp]\u001b[m --  Configuring nbconvert template path\r\n",
      "\u001b[32m[I 00:53:04 InstallContribNbextensionsApp]\u001b[m --  Configuring nbconvert preprocessors\r\n",
      "\u001b[32m[I 00:53:04 InstallContribNbextensionsApp]\u001b[m - Writing config: /Users/yeonsoo/.jupyter/jupyter_nbconvert_config.json\r\n",
      "\u001b[32m[I 00:53:04 InstallContribNbextensionsApp]\u001b[m --  Writing updated config file /Users/yeonsoo/.jupyter/jupyter_nbconvert_config.json\r\n"
     ]
    }
   ],
   "source": [
    "!pip3 install jupyter_contrib_nbextensions && jupyter contrib nbextension install --user"
   ]
  },
  {
   "cell_type": "markdown",
   "id": "f7764a98",
   "metadata": {},
   "source": [
    "# Python 자료형"
   ]
  },
  {
   "cell_type": "markdown",
   "id": "787fc54f",
   "metadata": {},
   "source": [
    "## 숫자형\n",
    "- 정수형/실수형\n",
    "- 산술연산자\n",
    "- 할당연산자"
   ]
  },
  {
   "cell_type": "code",
   "execution_count": 1,
   "id": "e24f57c3",
   "metadata": {},
   "outputs": [
    {
     "data": {
      "text/plain": [
       "1"
      ]
     },
     "execution_count": 1,
     "metadata": {},
     "output_type": "execute_result"
    }
   ],
   "source": [
    "7 % 3 # 나머지"
   ]
  },
  {
   "cell_type": "code",
   "execution_count": 2,
   "id": "af53fee1",
   "metadata": {},
   "outputs": [
    {
     "data": {
      "text/plain": [
       "2"
      ]
     },
     "execution_count": 2,
     "metadata": {},
     "output_type": "execute_result"
    }
   ],
   "source": [
    "7 // 3 # 몫"
   ]
  },
  {
   "cell_type": "markdown",
   "id": "e02c2b9a",
   "metadata": {},
   "source": [
    "## 문자열 자료형\n",
    "- 문자열(String) 만드는 방법 4가지"
   ]
  },
  {
   "cell_type": "code",
   "execution_count": 4,
   "id": "551cb7fd",
   "metadata": {},
   "outputs": [
    {
     "data": {
      "text/plain": [
       "'Hello'"
      ]
     },
     "execution_count": 4,
     "metadata": {},
     "output_type": "execute_result"
    }
   ],
   "source": [
    "\"Hello\""
   ]
  },
  {
   "cell_type": "code",
   "execution_count": 5,
   "id": "d327bde7",
   "metadata": {},
   "outputs": [
    {
     "data": {
      "text/plain": [
       "'Hello'"
      ]
     },
     "execution_count": 5,
     "metadata": {},
     "output_type": "execute_result"
    }
   ],
   "source": [
    "'Hello'"
   ]
  },
  {
   "cell_type": "code",
   "execution_count": 6,
   "id": "670fbd33",
   "metadata": {},
   "outputs": [
    {
     "data": {
      "text/plain": [
       "'Hello'"
      ]
     },
     "execution_count": 6,
     "metadata": {},
     "output_type": "execute_result"
    }
   ],
   "source": [
    "\"\"\"Hello\"\"\" # 문자열 자체에 따옴표를 사용해야 하는 경우 활용"
   ]
  },
  {
   "cell_type": "code",
   "execution_count": 7,
   "id": "02b69414",
   "metadata": {},
   "outputs": [
    {
     "data": {
      "text/plain": [
       "'Hello'"
      ]
     },
     "execution_count": 7,
     "metadata": {},
     "output_type": "execute_result"
    }
   ],
   "source": [
    "'''Hello'''"
   ]
  },
  {
   "cell_type": "code",
   "execution_count": 12,
   "id": "a704fdb9",
   "metadata": {},
   "outputs": [
    {
     "data": {
      "text/plain": [
       "'\"I\\'m a student.\" he says.'"
      ]
     },
     "execution_count": 12,
     "metadata": {},
     "output_type": "execute_result"
    }
   ],
   "source": [
    "\"\"\"\"I'm a student.\" he says.\"\"\""
   ]
  },
  {
   "cell_type": "markdown",
   "id": "f6ce13d7",
   "metadata": {},
   "source": [
    "- 여러 줄의 문자열"
   ]
  },
  {
   "cell_type": "code",
   "execution_count": 9,
   "id": "2e2e8b5f",
   "metadata": {},
   "outputs": [
    {
     "name": "stdout",
     "output_type": "stream",
     "text": [
      "\"I'm a student.\" he says.\n"
     ]
    }
   ],
   "source": [
    "print(\"\"\"\"I'm a student.\" he says.\"\"\")"
   ]
  },
  {
   "cell_type": "code",
   "execution_count": 10,
   "id": "7df548e6",
   "metadata": {},
   "outputs": [
    {
     "name": "stdout",
     "output_type": "stream",
     "text": [
      "\"I'm a student.\" \n",
      " he says.\n"
     ]
    }
   ],
   "source": [
    "print(\"\"\"\"I'm a student.\" \\n he says.\"\"\") # 줄바꿈 \\n"
   ]
  },
  {
   "cell_type": "code",
   "execution_count": 11,
   "id": "25c2ed1c",
   "metadata": {},
   "outputs": [
    {
     "name": "stdout",
     "output_type": "stream",
     "text": [
      "\"I'm a student.\" \t he says.\n"
     ]
    }
   ],
   "source": [
    "print(\"\"\"\"I'm a student.\" \\t he says.\"\"\") # 탭간격 /t"
   ]
  },
  {
   "cell_type": "markdown",
   "id": "3a60263c",
   "metadata": {},
   "source": [
    "- 문자열 연산하기 (더하기, 곱하기, 문자열 길이 구하기)"
   ]
  },
  {
   "cell_type": "code",
   "execution_count": 13,
   "id": "c02f8e07",
   "metadata": {},
   "outputs": [],
   "source": [
    "a = \"apple\"\n",
    "b = \"banana\""
   ]
  },
  {
   "cell_type": "code",
   "execution_count": 14,
   "id": "28076c25",
   "metadata": {},
   "outputs": [
    {
     "data": {
      "text/plain": [
       "'applebanana'"
      ]
     },
     "execution_count": 14,
     "metadata": {},
     "output_type": "execute_result"
    }
   ],
   "source": [
    "a + b # 더하기"
   ]
  },
  {
   "cell_type": "code",
   "execution_count": 15,
   "id": "ae7ea5ad",
   "metadata": {},
   "outputs": [
    {
     "data": {
      "text/plain": [
       "'appleappleapple'"
      ]
     },
     "execution_count": 15,
     "metadata": {},
     "output_type": "execute_result"
    }
   ],
   "source": [
    "a * 3 # 곱하기"
   ]
  },
  {
   "cell_type": "code",
   "execution_count": 16,
   "id": "546fa81e",
   "metadata": {},
   "outputs": [
    {
     "name": "stdout",
     "output_type": "stream",
     "text": [
      "==============================\n"
     ]
    }
   ],
   "source": [
    "print(\"=\" * 30) # 한 셀에서 여러 개의 값을 출력하려면 print 함수 써야 함"
   ]
  },
  {
   "cell_type": "code",
   "execution_count": 17,
   "id": "7f088bda",
   "metadata": {},
   "outputs": [
    {
     "data": {
      "text/plain": [
       "5"
      ]
     },
     "execution_count": 17,
     "metadata": {},
     "output_type": "execute_result"
    }
   ],
   "source": [
    "len(a) # 문자열 길이, 다양한 자료형에서 활용됨"
   ]
  },
  {
   "cell_type": "markdown",
   "id": "4f18e52e",
   "metadata": {},
   "source": [
    "- 문자열 인덱싱과 슬라이싱"
   ]
  },
  {
   "cell_type": "code",
   "execution_count": 19,
   "id": "bd237de3",
   "metadata": {},
   "outputs": [],
   "source": [
    "a = \"Life is too short.\""
   ]
  },
  {
   "cell_type": "code",
   "execution_count": 20,
   "id": "06410515",
   "metadata": {},
   "outputs": [
    {
     "data": {
      "text/plain": [
       "'L'"
      ]
     },
     "execution_count": 20,
     "metadata": {},
     "output_type": "execute_result"
    }
   ],
   "source": [
    "a[0]"
   ]
  },
  {
   "cell_type": "code",
   "execution_count": 21,
   "id": "ae794abb",
   "metadata": {
    "scrolled": true
   },
   "outputs": [
    {
     "data": {
      "text/plain": [
       "'.'"
      ]
     },
     "execution_count": 21,
     "metadata": {},
     "output_type": "execute_result"
    }
   ],
   "source": [
    "a[-1] # 마지막"
   ]
  },
  {
   "cell_type": "code",
   "execution_count": 22,
   "id": "d7b4448f",
   "metadata": {
    "scrolled": true
   },
   "outputs": [
    {
     "data": {
      "text/plain": [
       "'r'"
      ]
     },
     "execution_count": 22,
     "metadata": {},
     "output_type": "execute_result"
    }
   ],
   "source": [
    "a[-3] # 뒤에서 세 번째"
   ]
  },
  {
   "cell_type": "code",
   "execution_count": 23,
   "id": "72722f6a",
   "metadata": {},
   "outputs": [
    {
     "data": {
      "text/plain": [
       "'Life'"
      ]
     },
     "execution_count": 23,
     "metadata": {},
     "output_type": "execute_result"
    }
   ],
   "source": [
    "a[0:4] # 인덱싱할 때 끝번호는 하나 크게 "
   ]
  },
  {
   "cell_type": "code",
   "execution_count": 25,
   "id": "cf0875f6",
   "metadata": {},
   "outputs": [
    {
     "data": {
      "text/plain": [
       "'is too short.'"
      ]
     },
     "execution_count": 25,
     "metadata": {},
     "output_type": "execute_result"
    }
   ],
   "source": [
    "a[5:] # 5부터 끝까지"
   ]
  },
  {
   "cell_type": "code",
   "execution_count": 26,
   "id": "6cfeda9b",
   "metadata": {},
   "outputs": [
    {
     "data": {
      "text/plain": [
       "'Life is too short.'"
      ]
     },
     "execution_count": 26,
     "metadata": {},
     "output_type": "execute_result"
    }
   ],
   "source": [
    "a[:] # 전체"
   ]
  },
  {
   "cell_type": "code",
   "execution_count": 27,
   "id": "4c5606ec",
   "metadata": {},
   "outputs": [
    {
     "data": {
      "text/plain": [
       "'Life is too short'"
      ]
     },
     "execution_count": 27,
     "metadata": {},
     "output_type": "execute_result"
    }
   ],
   "source": [
    "a[:-1] # 마지막 . 제외하고 가져오기"
   ]
  },
  {
   "cell_type": "code",
   "execution_count": 28,
   "id": "33e84fda",
   "metadata": {},
   "outputs": [
    {
     "data": {
      "text/plain": [
       "'short'"
      ]
     },
     "execution_count": 28,
     "metadata": {},
     "output_type": "execute_result"
    }
   ],
   "source": [
    "a[-6:-1]"
   ]
  },
  {
   "cell_type": "code",
   "execution_count": 29,
   "id": "79042e5a",
   "metadata": {},
   "outputs": [],
   "source": [
    "data = \"20220421Sunny\""
   ]
  },
  {
   "cell_type": "code",
   "execution_count": 31,
   "id": "0a031870",
   "metadata": {},
   "outputs": [],
   "source": [
    "year = data[:4]\n",
    "mon = data[4:6]\n",
    "day = data[6:8]\n",
    "weather = data[8:]"
   ]
  },
  {
   "cell_type": "code",
   "execution_count": 32,
   "id": "6ad12c8f",
   "metadata": {},
   "outputs": [
    {
     "name": "stdout",
     "output_type": "stream",
     "text": [
      "2022\n",
      "04\n",
      "21\n",
      "Sunny\n"
     ]
    }
   ],
   "source": [
    "print(year)\n",
    "print(mon)\n",
    "print(day)\n",
    "print(weather)"
   ]
  },
  {
   "cell_type": "markdown",
   "id": "ffca77c3",
   "metadata": {},
   "source": [
    "- 문자열 포맷팅\n",
    "    - 문자열 안에 값을 삽입하는 방법"
   ]
  },
  {
   "cell_type": "code",
   "execution_count": 33,
   "id": "12427fc1",
   "metadata": {},
   "outputs": [
    {
     "data": {
      "text/plain": [
       "'I eat 3 apples.'"
      ]
     },
     "execution_count": 33,
     "metadata": {},
     "output_type": "execute_result"
    }
   ],
   "source": [
    "\"I eat %d apples.\" %3 # 숫자형 %d"
   ]
  },
  {
   "cell_type": "code",
   "execution_count": 34,
   "id": "6a25ced9",
   "metadata": {},
   "outputs": [
    {
     "data": {
      "text/plain": [
       "'I eat three apples.'"
      ]
     },
     "execution_count": 34,
     "metadata": {},
     "output_type": "execute_result"
    }
   ],
   "source": [
    "\"I eat %s apples.\" %\"three\" # 문자형 %s"
   ]
  },
  {
   "cell_type": "code",
   "execution_count": 35,
   "id": "d3525bce",
   "metadata": {},
   "outputs": [
    {
     "data": {
      "text/plain": [
       "'I eat 3 apples.'"
      ]
     },
     "execution_count": 35,
     "metadata": {},
     "output_type": "execute_result"
    }
   ],
   "source": [
    "num = 3\n",
    "\"I eat %d apples.\" % num "
   ]
  },
  {
   "cell_type": "code",
   "execution_count": 36,
   "id": "cf130ac8",
   "metadata": {},
   "outputs": [
    {
     "data": {
      "text/plain": [
       "'I ate 10 apples, so I was sick for three days.'"
      ]
     },
     "execution_count": 36,
     "metadata": {},
     "output_type": "execute_result"
    }
   ],
   "source": [
    "num = 10\n",
    "day = \"three\"\n",
    "\"I ate %d apples, so I was sick for %s days.\" %(num, day) # 괄호로 묶어서 순서대로 나열"
   ]
  },
  {
   "cell_type": "code",
   "execution_count": 37,
   "id": "af511a4a",
   "metadata": {},
   "outputs": [
    {
     "data": {
      "text/plain": [
       "'Error is 90%'"
      ]
     },
     "execution_count": 37,
     "metadata": {},
     "output_type": "execute_result"
    }
   ],
   "source": [
    "accuracy_rate = 90\n",
    "\"Error is %d%%\" % accuracy_rate # % 표시할 시 두 번 활용"
   ]
  },
  {
   "cell_type": "code",
   "execution_count": 38,
   "id": "dde805de",
   "metadata": {},
   "outputs": [
    {
     "data": {
      "text/plain": [
       "'        hi'"
      ]
     },
     "execution_count": 38,
     "metadata": {},
     "output_type": "execute_result"
    }
   ],
   "source": [
    "\"%10s\" % \"hi\" # %10 전체를 10칸으로 맞춰줌 문자열 앞에 8칸 공백"
   ]
  },
  {
   "cell_type": "code",
   "execution_count": 40,
   "id": "00b24a34",
   "metadata": {},
   "outputs": [
    {
     "data": {
      "text/plain": [
       "'3.421342'"
      ]
     },
     "execution_count": 40,
     "metadata": {},
     "output_type": "execute_result"
    }
   ],
   "source": [
    "\"%f\" % 3.42134234 # %f 앞에서부터 6자리까지 표현"
   ]
  },
  {
   "cell_type": "code",
   "execution_count": 41,
   "id": "8e2708a7",
   "metadata": {},
   "outputs": [
    {
     "data": {
      "text/plain": [
       "'3.42'"
      ]
     },
     "execution_count": 41,
     "metadata": {},
     "output_type": "execute_result"
    }
   ],
   "source": [
    "\"%0.2f\" % 3.42134234 # 소수점 두 번째 자리까지만 표현"
   ]
  },
  {
   "cell_type": "code",
   "execution_count": 42,
   "id": "be2d3c04",
   "metadata": {},
   "outputs": [
    {
     "data": {
      "text/plain": [
       "'I eat 3 apples.'"
      ]
     },
     "execution_count": 42,
     "metadata": {},
     "output_type": "execute_result"
    }
   ],
   "source": [
    "\"I eat {0} apples.\".format(3)"
   ]
  },
  {
   "cell_type": "code",
   "execution_count": 43,
   "id": "e413d08b",
   "metadata": {},
   "outputs": [
    {
     "data": {
      "text/plain": [
       "'I eat three apples.'"
      ]
     },
     "execution_count": 43,
     "metadata": {},
     "output_type": "execute_result"
    }
   ],
   "source": [
    "\"I eat {0} apples.\".format(\"three\")"
   ]
  },
  {
   "cell_type": "code",
   "execution_count": 46,
   "id": "84f8a143",
   "metadata": {},
   "outputs": [
    {
     "data": {
      "text/plain": [
       "'I eat 3 apples.'"
      ]
     },
     "execution_count": 46,
     "metadata": {},
     "output_type": "execute_result"
    }
   ],
   "source": [
    "num = 3\n",
    "\"I eat {0} apples.\".format(num)"
   ]
  },
  {
   "cell_type": "code",
   "execution_count": 49,
   "id": "1cc46a59",
   "metadata": {},
   "outputs": [
    {
     "data": {
      "text/plain": [
       "'I ate 10 apples, so I was sick for three days.'"
      ]
     },
     "execution_count": 49,
     "metadata": {},
     "output_type": "execute_result"
    }
   ],
   "source": [
    "num = 10\n",
    "day = \"three\"\n",
    "\"I ate {0} apples, so I was sick for {1} days.\".format(num, day) "
   ]
  },
  {
   "cell_type": "code",
   "execution_count": 51,
   "id": "f6ed189b",
   "metadata": {},
   "outputs": [
    {
     "data": {
      "text/plain": [
       "'I ate 20 apples, so I was sick for five days.'"
      ]
     },
     "execution_count": 51,
     "metadata": {},
     "output_type": "execute_result"
    }
   ],
   "source": [
    "\"I ate {num} apples, so I was sick for {day} days.\".format(num = 20, day =\"five\") "
   ]
  },
  {
   "cell_type": "markdown",
   "id": "131a635c",
   "metadata": {},
   "source": [
    "- 문자열 관련 함수"
   ]
  },
  {
   "cell_type": "code",
   "execution_count": 52,
   "id": "02f2cbe2",
   "metadata": {},
   "outputs": [],
   "source": [
    "a = \"apple\""
   ]
  },
  {
   "cell_type": "code",
   "execution_count": 54,
   "id": "b5d00203",
   "metadata": {},
   "outputs": [
    {
     "data": {
      "text/plain": [
       "2"
      ]
     },
     "execution_count": 54,
     "metadata": {},
     "output_type": "execute_result"
    }
   ],
   "source": [
    "a.count(\"p\") # 특정 문자의 개수를 세는 함수"
   ]
  },
  {
   "cell_type": "code",
   "execution_count": 55,
   "id": "06fb0d87",
   "metadata": {},
   "outputs": [
    {
     "data": {
      "text/plain": [
       "4"
      ]
     },
     "execution_count": 55,
     "metadata": {},
     "output_type": "execute_result"
    }
   ],
   "source": [
    "a.find('e') # 인덱스를 알려주는 함수"
   ]
  },
  {
   "cell_type": "code",
   "execution_count": 56,
   "id": "2a7e4230",
   "metadata": {},
   "outputs": [
    {
     "data": {
      "text/plain": [
       "4"
      ]
     },
     "execution_count": 56,
     "metadata": {},
     "output_type": "execute_result"
    }
   ],
   "source": [
    "a.index('e')"
   ]
  },
  {
   "cell_type": "code",
   "execution_count": 57,
   "id": "34b50b7f",
   "metadata": {},
   "outputs": [
    {
     "data": {
      "text/plain": [
       "-1"
      ]
     },
     "execution_count": 57,
     "metadata": {},
     "output_type": "execute_result"
    }
   ],
   "source": [
    "a.find('k') # 없는 문자를 찾는 경우 -1 반환"
   ]
  },
  {
   "cell_type": "code",
   "execution_count": 58,
   "id": "6de1a43c",
   "metadata": {
    "scrolled": true
   },
   "outputs": [
    {
     "ename": "ValueError",
     "evalue": "substring not found",
     "output_type": "error",
     "traceback": [
      "\u001b[0;31m---------------------------------------------------------------------------\u001b[0m",
      "\u001b[0;31mValueError\u001b[0m                                Traceback (most recent call last)",
      "\u001b[0;32m/var/folders/q0/pmjpggzn2yqbzlw4r8fbvcsm0000gn/T/ipykernel_92431/1977862291.py\u001b[0m in \u001b[0;36m<module>\u001b[0;34m\u001b[0m\n\u001b[0;32m----> 1\u001b[0;31m \u001b[0ma\u001b[0m\u001b[0;34m.\u001b[0m\u001b[0mindex\u001b[0m\u001b[0;34m(\u001b[0m\u001b[0;34m'k'\u001b[0m\u001b[0;34m)\u001b[0m\u001b[0;34m\u001b[0m\u001b[0;34m\u001b[0m\u001b[0m\n\u001b[0m",
      "\u001b[0;31mValueError\u001b[0m: substring not found"
     ]
    }
   ],
   "source": [
    "a.index('k') # 없는 문자를 찾는 경우 error"
   ]
  },
  {
   "cell_type": "code",
   "execution_count": 60,
   "id": "26ae88cb",
   "metadata": {},
   "outputs": [
    {
     "data": {
      "text/plain": [
       "'a,b,c,d'"
      ]
     },
     "execution_count": 60,
     "metadata": {},
     "output_type": "execute_result"
    }
   ],
   "source": [
    "\",\".join('abcd')"
   ]
  },
  {
   "cell_type": "code",
   "execution_count": 61,
   "id": "e2ca83d3",
   "metadata": {},
   "outputs": [
    {
     "data": {
      "text/plain": [
       "'a b c d'"
      ]
     },
     "execution_count": 61,
     "metadata": {},
     "output_type": "execute_result"
    }
   ],
   "source": [
    "\" \".join('abcd')"
   ]
  },
  {
   "cell_type": "code",
   "execution_count": 62,
   "id": "0789d31c",
   "metadata": {},
   "outputs": [
    {
     "data": {
      "text/plain": [
       "'HI'"
      ]
     },
     "execution_count": 62,
     "metadata": {},
     "output_type": "execute_result"
    }
   ],
   "source": [
    "\"hi\".upper()"
   ]
  },
  {
   "cell_type": "code",
   "execution_count": 63,
   "id": "5fa5a20b",
   "metadata": {},
   "outputs": [
    {
     "data": {
      "text/plain": [
       "'hi'"
      ]
     },
     "execution_count": 63,
     "metadata": {},
     "output_type": "execute_result"
    }
   ],
   "source": [
    "\"HI\".lower()"
   ]
  },
  {
   "cell_type": "code",
   "execution_count": 64,
   "id": "172d241d",
   "metadata": {},
   "outputs": [],
   "source": [
    "a = \"  hi  \""
   ]
  },
  {
   "cell_type": "code",
   "execution_count": 65,
   "id": "bc8b1838",
   "metadata": {},
   "outputs": [
    {
     "data": {
      "text/plain": [
       "'hi  '"
      ]
     },
     "execution_count": 65,
     "metadata": {},
     "output_type": "execute_result"
    }
   ],
   "source": [
    "a.lstrip() # 왼쪽 공백 지우기"
   ]
  },
  {
   "cell_type": "code",
   "execution_count": 66,
   "id": "fb538534",
   "metadata": {},
   "outputs": [
    {
     "data": {
      "text/plain": [
       "'  hi'"
      ]
     },
     "execution_count": 66,
     "metadata": {},
     "output_type": "execute_result"
    }
   ],
   "source": [
    "a.rstrip()"
   ]
  },
  {
   "cell_type": "code",
   "execution_count": 67,
   "id": "e172a99f",
   "metadata": {},
   "outputs": [
    {
     "data": {
      "text/plain": [
       "'hi'"
      ]
     },
     "execution_count": 67,
     "metadata": {},
     "output_type": "execute_result"
    }
   ],
   "source": [
    "a.strip()"
   ]
  },
  {
   "cell_type": "code",
   "execution_count": 68,
   "id": "2dc9547d",
   "metadata": {},
   "outputs": [],
   "source": [
    "a = \"a is apple. c is banana.\""
   ]
  },
  {
   "cell_type": "code",
   "execution_count": 69,
   "id": "d1d1a445",
   "metadata": {},
   "outputs": [
    {
     "data": {
      "text/plain": [
       "'a is apple. b is banana.'"
      ]
     },
     "execution_count": 69,
     "metadata": {},
     "output_type": "execute_result"
    }
   ],
   "source": [
    "a.replace('c', 'b')"
   ]
  },
  {
   "cell_type": "code",
   "execution_count": 71,
   "id": "37708535",
   "metadata": {},
   "outputs": [],
   "source": [
    "a = a.replace('c', 'b') # a에 재할당"
   ]
  },
  {
   "cell_type": "code",
   "execution_count": 72,
   "id": "c2eca3ff",
   "metadata": {},
   "outputs": [
    {
     "data": {
      "text/plain": [
       "'a is apple. b is banana.'"
      ]
     },
     "execution_count": 72,
     "metadata": {},
     "output_type": "execute_result"
    }
   ],
   "source": [
    "a"
   ]
  },
  {
   "cell_type": "code",
   "execution_count": 73,
   "id": "c59455cb",
   "metadata": {},
   "outputs": [
    {
     "data": {
      "text/plain": [
       "['a', 'is', 'apple.', 'b', 'is', 'banana.']"
      ]
     },
     "execution_count": 73,
     "metadata": {},
     "output_type": "execute_result"
    }
   ],
   "source": [
    "a.split() # 공백을 기준으로 분리"
   ]
  },
  {
   "cell_type": "code",
   "execution_count": 74,
   "id": "bfba9714",
   "metadata": {},
   "outputs": [
    {
     "data": {
      "text/plain": [
       "['a', 'b', 'c', 'd']"
      ]
     },
     "execution_count": 74,
     "metadata": {},
     "output_type": "execute_result"
    }
   ],
   "source": [
    "a = 'a,b,c,d'\n",
    "a.split(',') # 쉼표를 기준으로 분리"
   ]
  }
 ],
 "metadata": {
  "kernelspec": {
   "display_name": "Python 3 (ipykernel)",
   "language": "python",
   "name": "python3"
  },
  "language_info": {
   "codemirror_mode": {
    "name": "ipython",
    "version": 3
   },
   "file_extension": ".py",
   "mimetype": "text/x-python",
   "name": "python",
   "nbconvert_exporter": "python",
   "pygments_lexer": "ipython3",
   "version": "3.9.12"
  },
  "toc": {
   "base_numbering": 1,
   "nav_menu": {},
   "number_sections": true,
   "sideBar": true,
   "skip_h1_title": false,
   "title_cell": "Table of Contents",
   "title_sidebar": "Contents",
   "toc_cell": false,
   "toc_position": {},
   "toc_section_display": true,
   "toc_window_display": false
  },
  "varInspector": {
   "cols": {
    "lenName": 16,
    "lenType": 16,
    "lenVar": 40
   },
   "kernels_config": {
    "python": {
     "delete_cmd_postfix": "",
     "delete_cmd_prefix": "del ",
     "library": "var_list.py",
     "varRefreshCmd": "print(var_dic_list())"
    },
    "r": {
     "delete_cmd_postfix": ") ",
     "delete_cmd_prefix": "rm(",
     "library": "var_list.r",
     "varRefreshCmd": "cat(var_dic_list()) "
    }
   },
   "types_to_exclude": [
    "module",
    "function",
    "builtin_function_or_method",
    "instance",
    "_Feature"
   ],
   "window_display": false
  }
 },
 "nbformat": 4,
 "nbformat_minor": 5
}
