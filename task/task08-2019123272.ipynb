{
 "cells": [
  {
   "cell_type": "markdown",
   "id": "93dad3d5",
   "metadata": {},
   "source": [
    "제출 파일명은 task08-학번.ipynb (예시:task08-2000000000.ipynb)로 제출해주세요.\n",
    "- 메뉴에서 File > rename 으로 파일명을 변경할 수 있어요.\n",
    "- 워킹 디렉토리는 보통 C드라이브 Users(사용자) 폴더 내에 본인 계정명으로 되어 있는 폴더에요.\n",
    "- 작성한 노트북파일을 찾아 제출하면 됩니다.\n",
    "\n",
    "\n",
    "*주의사항*\n",
    "\n",
    "- 제공된 스크립트에 답 작성 시, 코드 진행에 대한 설명 등을 주석으로 남기도록 합니다.\n",
    "\n",
    "- 파일명 오류 시 감점 요인이 될 수 있습니다.\n",
    "\n",
    "- 수업 시간에 배우지 않은 내용이 있다면 같은 결과가 출력되더라도 감점됩니다.\n",
    "\n",
    "- 과제의 문제 해결 시 복습을 통해서 충분히 풀 수 있는 문제들이기 때문에 타인과 상의하거나  의논하거나 정답을 공유하는 일체의 행동을 하지 않기 바랍니다. "
   ]
  },
  {
   "cell_type": "markdown",
   "id": "2a1a78a4",
   "metadata": {},
   "source": [
    "### 문제.  다음 셀에 우리가 배운 데이터시각화 라이브러리, 데이터 분석 라이브러리, 수학 연산 라이브러리를 약어별칭(alias)과 함께 불러오세요.\n"
   ]
  },
  {
   "cell_type": "code",
   "execution_count": 1,
   "id": "8c1df960",
   "metadata": {},
   "outputs": [],
   "source": [
    "import matplotlib.pyplot as plt\n",
    "import pandas as pd\n",
    "import numpy as np"
   ]
  },
  {
   "cell_type": "markdown",
   "id": "5ef9d80b",
   "metadata": {},
   "source": [
    "### 문제.  다음 셀에 지난주 과제용 데이터 titanic.csv를 tt이라는 데이터프레임 형태로 불러오세요.\n"
   ]
  },
  {
   "cell_type": "code",
   "execution_count": 2,
   "id": "9b5d358b",
   "metadata": {},
   "outputs": [],
   "source": [
    "import os\n",
    "tt = pd.read_csv(os.getcwd() + '/titanic.csv') # pd.read_csv로 csv 파일 열어 tt 변수에 데이터프레임 할당하기"
   ]
  },
  {
   "cell_type": "code",
   "execution_count": 4,
   "id": "a9026257",
   "metadata": {
    "scrolled": false
   },
   "outputs": [
    {
     "data": {
      "text/html": [
       "<div>\n",
       "<style scoped>\n",
       "    .dataframe tbody tr th:only-of-type {\n",
       "        vertical-align: middle;\n",
       "    }\n",
       "\n",
       "    .dataframe tbody tr th {\n",
       "        vertical-align: top;\n",
       "    }\n",
       "\n",
       "    .dataframe thead th {\n",
       "        text-align: right;\n",
       "    }\n",
       "</style>\n",
       "<table border=\"1\" class=\"dataframe\">\n",
       "  <thead>\n",
       "    <tr style=\"text-align: right;\">\n",
       "      <th></th>\n",
       "      <th>PassengerId</th>\n",
       "      <th>Survived</th>\n",
       "      <th>Pclass</th>\n",
       "      <th>Name</th>\n",
       "      <th>Sex</th>\n",
       "      <th>Age</th>\n",
       "      <th>SibSp</th>\n",
       "      <th>Parch</th>\n",
       "      <th>Ticket</th>\n",
       "      <th>Fare</th>\n",
       "      <th>Cabin</th>\n",
       "      <th>Embarked</th>\n",
       "    </tr>\n",
       "  </thead>\n",
       "  <tbody>\n",
       "    <tr>\n",
       "      <th>0</th>\n",
       "      <td>892</td>\n",
       "      <td>0</td>\n",
       "      <td>3</td>\n",
       "      <td>Kelly, Mr. James</td>\n",
       "      <td>male</td>\n",
       "      <td>34.5</td>\n",
       "      <td>0</td>\n",
       "      <td>0</td>\n",
       "      <td>330911</td>\n",
       "      <td>7.8292</td>\n",
       "      <td>NaN</td>\n",
       "      <td>Q</td>\n",
       "    </tr>\n",
       "    <tr>\n",
       "      <th>1</th>\n",
       "      <td>893</td>\n",
       "      <td>1</td>\n",
       "      <td>3</td>\n",
       "      <td>Wilkes, Mrs. James (Ellen Needs)</td>\n",
       "      <td>female</td>\n",
       "      <td>47.0</td>\n",
       "      <td>1</td>\n",
       "      <td>0</td>\n",
       "      <td>363272</td>\n",
       "      <td>7.0000</td>\n",
       "      <td>NaN</td>\n",
       "      <td>S</td>\n",
       "    </tr>\n",
       "    <tr>\n",
       "      <th>2</th>\n",
       "      <td>894</td>\n",
       "      <td>0</td>\n",
       "      <td>2</td>\n",
       "      <td>Myles, Mr. Thomas Francis</td>\n",
       "      <td>male</td>\n",
       "      <td>62.0</td>\n",
       "      <td>0</td>\n",
       "      <td>0</td>\n",
       "      <td>240276</td>\n",
       "      <td>9.6875</td>\n",
       "      <td>NaN</td>\n",
       "      <td>Q</td>\n",
       "    </tr>\n",
       "    <tr>\n",
       "      <th>3</th>\n",
       "      <td>895</td>\n",
       "      <td>0</td>\n",
       "      <td>3</td>\n",
       "      <td>Wirz, Mr. Albert</td>\n",
       "      <td>male</td>\n",
       "      <td>27.0</td>\n",
       "      <td>0</td>\n",
       "      <td>0</td>\n",
       "      <td>315154</td>\n",
       "      <td>8.6625</td>\n",
       "      <td>NaN</td>\n",
       "      <td>S</td>\n",
       "    </tr>\n",
       "    <tr>\n",
       "      <th>4</th>\n",
       "      <td>896</td>\n",
       "      <td>1</td>\n",
       "      <td>3</td>\n",
       "      <td>Hirvonen, Mrs. Alexander (Helga E Lindqvist)</td>\n",
       "      <td>female</td>\n",
       "      <td>22.0</td>\n",
       "      <td>1</td>\n",
       "      <td>1</td>\n",
       "      <td>3101298</td>\n",
       "      <td>12.2875</td>\n",
       "      <td>NaN</td>\n",
       "      <td>S</td>\n",
       "    </tr>\n",
       "  </tbody>\n",
       "</table>\n",
       "</div>"
      ],
      "text/plain": [
       "   PassengerId  Survived  Pclass  \\\n",
       "0          892         0       3   \n",
       "1          893         1       3   \n",
       "2          894         0       2   \n",
       "3          895         0       3   \n",
       "4          896         1       3   \n",
       "\n",
       "                                           Name     Sex   Age  SibSp  Parch  \\\n",
       "0                              Kelly, Mr. James    male  34.5      0      0   \n",
       "1              Wilkes, Mrs. James (Ellen Needs)  female  47.0      1      0   \n",
       "2                     Myles, Mr. Thomas Francis    male  62.0      0      0   \n",
       "3                              Wirz, Mr. Albert    male  27.0      0      0   \n",
       "4  Hirvonen, Mrs. Alexander (Helga E Lindqvist)  female  22.0      1      1   \n",
       "\n",
       "    Ticket     Fare Cabin Embarked  \n",
       "0   330911   7.8292   NaN        Q  \n",
       "1   363272   7.0000   NaN        S  \n",
       "2   240276   9.6875   NaN        Q  \n",
       "3   315154   8.6625   NaN        S  \n",
       "4  3101298  12.2875   NaN        S  "
      ]
     },
     "execution_count": 4,
     "metadata": {},
     "output_type": "execute_result"
    }
   ],
   "source": [
    "tt.head() # 데이터프레임 첫 5행 확인"
   ]
  },
  {
   "cell_type": "code",
   "execution_count": 31,
   "id": "94fae7de",
   "metadata": {},
   "outputs": [
    {
     "name": "stdout",
     "output_type": "stream",
     "text": [
      "<class 'pandas.core.frame.DataFrame'>\n",
      "RangeIndex: 418 entries, 0 to 417\n",
      "Data columns (total 12 columns):\n",
      " #   Column       Non-Null Count  Dtype  \n",
      "---  ------       --------------  -----  \n",
      " 0   PassengerId  418 non-null    int64  \n",
      " 1   Survived     418 non-null    int64  \n",
      " 2   Pclass       418 non-null    int64  \n",
      " 3   Name         418 non-null    object \n",
      " 4   Sex          418 non-null    object \n",
      " 5   Age          332 non-null    float64\n",
      " 6   SibSp        418 non-null    int64  \n",
      " 7   Parch        418 non-null    int64  \n",
      " 8   Ticket       418 non-null    object \n",
      " 9   Fare         417 non-null    float64\n",
      " 10  Cabin        91 non-null     object \n",
      " 11  Embarked     418 non-null    object \n",
      "dtypes: float64(2), int64(5), object(5)\n",
      "memory usage: 39.3+ KB\n"
     ]
    }
   ],
   "source": [
    "tt.info() # 자료형 파악"
   ]
  },
  {
   "cell_type": "markdown",
   "id": "3ac33caf",
   "metadata": {},
   "source": [
    "### 문제.  다음 셀에 나이(Age)와 생존여부(Survived)의 관계를 그룹 누적 그래프를 사용하여 나타내보세요. "
   ]
  },
  {
   "cell_type": "code",
   "execution_count": 17,
   "id": "498935f3",
   "metadata": {},
   "outputs": [],
   "source": [
    "survived = tt.loc[tt.Survived == 1, ['Age']] # 생존여부에 따른 생존 - 나이(Age) 데이터프레임 형성\n",
    "dead = tt.loc[tt.Survived == 0, ['Age']]"
   ]
  },
  {
   "cell_type": "code",
   "execution_count": 24,
   "id": "daae2b13",
   "metadata": {},
   "outputs": [
    {
     "name": "stderr",
     "output_type": "stream",
     "text": [
      "/var/folders/q0/pmjpggzn2yqbzlw4r8fbvcsm0000gn/T/ipykernel_50715/1977742275.py:1: VisibleDeprecationWarning: Creating an ndarray from ragged nested sequences (which is a list-or-tuple of lists-or-tuples-or ndarrays with different lengths or shapes) is deprecated. If you meant to do this, you must specify 'dtype=object' when creating the ndarray.\n",
      "  x = np.array([survived['Age'], dead['Age']])\n"
     ]
    }
   ],
   "source": [
    "x = np.array([survived['Age'], dead['Age']]) # np.array로 x축 값 지정"
   ]
  },
  {
   "cell_type": "code",
   "execution_count": 29,
   "id": "3eafa102",
   "metadata": {},
   "outputs": [
    {
     "data": {
      "image/png": "[encoded data removed]",
      "text/plain": [
       "<Figure size 720x432 with 1 Axes>"
      ]
     },
     "metadata": {
      "needs_background": "light"
     },
     "output_type": "display_data"
    }
   ],
   "source": [
    "plt.figure(figsize=(10, 6)) # 가로, 세로 크기 지정\n",
    " \n",
    "plt.hist(x, label=['Survived', 'Dead'], stacked=True) # 누적 히스토그램 stacked=True\n",
    "\n",
    "plt.xlabel('Age') # x축 라벨 지정\n",
    "plt.ylabel('Frequency') # y축 라벨 지정\n",
    "plt.title('Titanic Survivor Age Group Stacked Histogram') # 제목\n",
    "plt.grid() # 격자\n",
    "plt.legend() # 범례\n",
    "plt.show()"
   ]
  },
  {
   "cell_type": "markdown",
   "id": "f9d7b860",
   "metadata": {},
   "source": [
    "### 문제.  다음 셀에 탑승등급(Pclass) 중 1등급과 2등급 탑승객의 탑승요금(Fare)의 극단치 확인을 위한 그래프를 나타내보세요. "
   ]
  },
  {
   "cell_type": "code",
   "execution_count": 32,
   "id": "d174b6e3",
   "metadata": {},
   "outputs": [],
   "source": [
    "pc1 = tt.loc[tt.Pclass == 1, ['Fare']] # 탑승등급(Pclass)별 탑승등급 - 탑승요금 데이터프레임 형성\n",
    "pc2 = tt.loc[tt.Pclass == 2, ['Fare']]"
   ]
  },
  {
   "cell_type": "code",
   "execution_count": 34,
   "id": "353e2f81",
   "metadata": {},
   "outputs": [
    {
     "data": {
      "image/png": "[encoded data removed]",
      "text/plain": [
       "<Figure size 1080x360 with 1 Axes>"
      ]
     },
     "metadata": {
      "needs_background": "light"
     },
     "output_type": "display_data"
    }
   ],
   "source": [
    "pc1_data, pc2_data = np.array(pc1['Fare']), np.array(pc2['Fare']) # x축 값 np.array로 형성\n",
    "\n",
    "plt.figure(figsize = (15, 5)) # 가로, 세로 크기 지정\n",
    "plt.boxplot([pc1_data, pc2_data], labels= ['Pclass1', 'Pclass2'], vert=False) # 가로 상자그림 vert=False\n",
    "\n",
    "plt.xlabel('Fare')\n",
    "plt.ylabel('Pclass')\n",
    "plt.title('Titanic Pclass 1 & 2 Fare Box Plot')\n",
    "plt.show()"
   ]
  }
 ],
 "metadata": {
  "kernelspec": {
   "display_name": "Python 3 (ipykernel)",
   "language": "python",
   "name": "python3"
  },
  "language_info": {
   "codemirror_mode": {
    "name": "ipython",
    "version": 3
   },
   "file_extension": ".py",
   "mimetype": "text/x-python",
   "name": "python",
   "nbconvert_exporter": "python",
   "pygments_lexer": "ipython3",
   "version": "3.9.12"
  },
  "toc": {
   "base_numbering": 1,
   "nav_menu": {},
   "number_sections": true,
   "sideBar": true,
   "skip_h1_title": false,
   "title_cell": "Table of Contents",
   "title_sidebar": "Contents",
   "toc_cell": false,
   "toc_position": {},
   "toc_section_display": true,
   "toc_window_display": false
  },
  "varInspector": {
   "cols": {
    "lenName": 16,
    "lenType": 16,
    "lenVar": 40
   },
   "kernels_config": {
    "python": {
     "delete_cmd_postfix": "",
     "delete_cmd_prefix": "del ",
     "library": "var_list.py",
     "varRefreshCmd": "print(var_dic_list())"
    },
    "r": {
     "delete_cmd_postfix": ") ",
     "delete_cmd_prefix": "rm(",
     "library": "var_list.r",
     "varRefreshCmd": "cat(var_dic_list()) "
    }
   },
   "types_to_exclude": [
    "module",
    "function",
    "builtin_function_or_method",
    "instance",
    "_Feature"
   ],
   "window_display": false
  }
 },
 "nbformat": 4,
 "nbformat_minor": 5
}
